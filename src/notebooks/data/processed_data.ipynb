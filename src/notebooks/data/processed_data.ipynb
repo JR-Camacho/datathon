{
 "cells": [
  {
   "cell_type": "code",
   "execution_count": 1,
   "metadata": {
    "collapsed": true,
    "ExecuteTime": {
     "end_time": "2023-08-20T08:56:15.794734Z",
     "start_time": "2023-08-20T08:56:12.844583Z"
    }
   },
   "outputs": [],
   "source": [
    "#Import Import libraries\n",
    "import pandas as pd\n",
    "import numpy as np\n",
    "import pickle\n",
    "\n",
    "from src.utils.split_data import train_val_test_split, split_features, remove_label"
   ]
  },
  {
   "cell_type": "code",
   "execution_count": 2,
   "outputs": [],
   "source": [
    "#Load the dataset\n",
    "DATASET_PATH = '../../../data/pre-processed/data.csv'\n",
    "data = pd.read_csv(DATASET_PATH)"
   ],
   "metadata": {
    "collapsed": false,
    "ExecuteTime": {
     "end_time": "2023-08-20T08:56:15.802065Z",
     "start_time": "2023-08-20T08:56:15.781651Z"
    }
   }
  },
  {
   "cell_type": "code",
   "execution_count": 3,
   "outputs": [
    {
     "data": {
      "text/plain": "     FE_OCURRENCIA  FRECUENCIA HORA_OCURRENCIA  CO_PROVINCIA  EXTRANJERO  \\\n0       2014-07-05           1           16:00             1           0   \n1       2014-07-08           1           10:30             1           0   \n2       2014-07-11           1           10:00             1           0   \n3       2014-07-12           1           22:00             1           0   \n4       2014-07-14           1           10:00             1           0   \n...            ...         ...             ...           ...         ...   \n3113    2023-06-30           2           12:54             1           0   \n3114    2023-07-01           3           12:54             1           0   \n3115    2023-07-02           2           12:54             1           0   \n3116    2023-07-03           4           12:54             1           0   \n3117    2023-07-04           4           08:15             1           0   \n\n      CAT_VEHICULO    MES DIA_SEMANA ESTACION_A  FERIADO     NIVEL  \n0              3.0  Julio     Sábado     Verano    False      bajo  \n1              2.0  Julio     Martes     Verano    False      bajo  \n2              4.0  Julio    Viernes     Verano    False      bajo  \n3              2.0  Julio     Sábado     Verano    False      bajo  \n4              5.0  Julio      Lunes     Verano    False      bajo  \n...            ...    ...        ...        ...      ...       ...  \n3113           2.0  Junio    Viernes     Verano    False      bajo  \n3114           2.0  Julio     Sábado     Verano    False  moderado  \n3115           2.0  Julio    Domingo     Verano    False      bajo  \n3116           2.0  Julio      Lunes     Verano    False  moderado  \n3117           2.0  Julio     Martes     Verano    False  moderado  \n\n[3118 rows x 11 columns]",
      "text/html": "<div>\n<style scoped>\n    .dataframe tbody tr th:only-of-type {\n        vertical-align: middle;\n    }\n\n    .dataframe tbody tr th {\n        vertical-align: top;\n    }\n\n    .dataframe thead th {\n        text-align: right;\n    }\n</style>\n<table border=\"1\" class=\"dataframe\">\n  <thead>\n    <tr style=\"text-align: right;\">\n      <th></th>\n      <th>FE_OCURRENCIA</th>\n      <th>FRECUENCIA</th>\n      <th>HORA_OCURRENCIA</th>\n      <th>CO_PROVINCIA</th>\n      <th>EXTRANJERO</th>\n      <th>CAT_VEHICULO</th>\n      <th>MES</th>\n      <th>DIA_SEMANA</th>\n      <th>ESTACION_A</th>\n      <th>FERIADO</th>\n      <th>NIVEL</th>\n    </tr>\n  </thead>\n  <tbody>\n    <tr>\n      <th>0</th>\n      <td>2014-07-05</td>\n      <td>1</td>\n      <td>16:00</td>\n      <td>1</td>\n      <td>0</td>\n      <td>3.0</td>\n      <td>Julio</td>\n      <td>Sábado</td>\n      <td>Verano</td>\n      <td>False</td>\n      <td>bajo</td>\n    </tr>\n    <tr>\n      <th>1</th>\n      <td>2014-07-08</td>\n      <td>1</td>\n      <td>10:30</td>\n      <td>1</td>\n      <td>0</td>\n      <td>2.0</td>\n      <td>Julio</td>\n      <td>Martes</td>\n      <td>Verano</td>\n      <td>False</td>\n      <td>bajo</td>\n    </tr>\n    <tr>\n      <th>2</th>\n      <td>2014-07-11</td>\n      <td>1</td>\n      <td>10:00</td>\n      <td>1</td>\n      <td>0</td>\n      <td>4.0</td>\n      <td>Julio</td>\n      <td>Viernes</td>\n      <td>Verano</td>\n      <td>False</td>\n      <td>bajo</td>\n    </tr>\n    <tr>\n      <th>3</th>\n      <td>2014-07-12</td>\n      <td>1</td>\n      <td>22:00</td>\n      <td>1</td>\n      <td>0</td>\n      <td>2.0</td>\n      <td>Julio</td>\n      <td>Sábado</td>\n      <td>Verano</td>\n      <td>False</td>\n      <td>bajo</td>\n    </tr>\n    <tr>\n      <th>4</th>\n      <td>2014-07-14</td>\n      <td>1</td>\n      <td>10:00</td>\n      <td>1</td>\n      <td>0</td>\n      <td>5.0</td>\n      <td>Julio</td>\n      <td>Lunes</td>\n      <td>Verano</td>\n      <td>False</td>\n      <td>bajo</td>\n    </tr>\n    <tr>\n      <th>...</th>\n      <td>...</td>\n      <td>...</td>\n      <td>...</td>\n      <td>...</td>\n      <td>...</td>\n      <td>...</td>\n      <td>...</td>\n      <td>...</td>\n      <td>...</td>\n      <td>...</td>\n      <td>...</td>\n    </tr>\n    <tr>\n      <th>3113</th>\n      <td>2023-06-30</td>\n      <td>2</td>\n      <td>12:54</td>\n      <td>1</td>\n      <td>0</td>\n      <td>2.0</td>\n      <td>Junio</td>\n      <td>Viernes</td>\n      <td>Verano</td>\n      <td>False</td>\n      <td>bajo</td>\n    </tr>\n    <tr>\n      <th>3114</th>\n      <td>2023-07-01</td>\n      <td>3</td>\n      <td>12:54</td>\n      <td>1</td>\n      <td>0</td>\n      <td>2.0</td>\n      <td>Julio</td>\n      <td>Sábado</td>\n      <td>Verano</td>\n      <td>False</td>\n      <td>moderado</td>\n    </tr>\n    <tr>\n      <th>3115</th>\n      <td>2023-07-02</td>\n      <td>2</td>\n      <td>12:54</td>\n      <td>1</td>\n      <td>0</td>\n      <td>2.0</td>\n      <td>Julio</td>\n      <td>Domingo</td>\n      <td>Verano</td>\n      <td>False</td>\n      <td>bajo</td>\n    </tr>\n    <tr>\n      <th>3116</th>\n      <td>2023-07-03</td>\n      <td>4</td>\n      <td>12:54</td>\n      <td>1</td>\n      <td>0</td>\n      <td>2.0</td>\n      <td>Julio</td>\n      <td>Lunes</td>\n      <td>Verano</td>\n      <td>False</td>\n      <td>moderado</td>\n    </tr>\n    <tr>\n      <th>3117</th>\n      <td>2023-07-04</td>\n      <td>4</td>\n      <td>08:15</td>\n      <td>1</td>\n      <td>0</td>\n      <td>2.0</td>\n      <td>Julio</td>\n      <td>Martes</td>\n      <td>Verano</td>\n      <td>False</td>\n      <td>moderado</td>\n    </tr>\n  </tbody>\n</table>\n<p>3118 rows × 11 columns</p>\n</div>"
     },
     "execution_count": 3,
     "metadata": {},
     "output_type": "execute_result"
    }
   ],
   "source": [
    "data"
   ],
   "metadata": {
    "collapsed": false,
    "ExecuteTime": {
     "end_time": "2023-08-20T08:56:15.827040Z",
     "start_time": "2023-08-20T08:56:15.806865Z"
    }
   }
  },
  {
   "cell_type": "code",
   "execution_count": 4,
   "outputs": [],
   "source": [
    "data['NIVEL'] = data['NIVEL'].map({'bajo': 1, 'moderado': 2, 'alto': 3})"
   ],
   "metadata": {
    "collapsed": false,
    "ExecuteTime": {
     "end_time": "2023-08-20T08:56:15.845459Z",
     "start_time": "2023-08-20T08:56:15.832810Z"
    }
   }
  },
  {
   "cell_type": "code",
   "execution_count": 5,
   "outputs": [
    {
     "data": {
      "text/plain": "3    1671\n2    1036\n1     411\nName: NIVEL, dtype: int64"
     },
     "execution_count": 5,
     "metadata": {},
     "output_type": "execute_result"
    }
   ],
   "source": [
    "data['NIVEL'].value_counts()"
   ],
   "metadata": {
    "collapsed": false,
    "ExecuteTime": {
     "end_time": "2023-08-20T08:56:15.908873Z",
     "start_time": "2023-08-20T08:56:15.844059Z"
    }
   }
  },
  {
   "cell_type": "code",
   "execution_count": 6,
   "outputs": [],
   "source": [
    "data['FERIADO'] = data['FERIADO'].map({False: 0, True: 1})"
   ],
   "metadata": {
    "collapsed": false,
    "ExecuteTime": {
     "end_time": "2023-08-20T08:56:15.909896Z",
     "start_time": "2023-08-20T08:56:15.857430Z"
    }
   }
  },
  {
   "cell_type": "code",
   "execution_count": 7,
   "outputs": [
    {
     "data": {
      "text/plain": "0    3009\n1     109\nName: FERIADO, dtype: int64"
     },
     "execution_count": 7,
     "metadata": {},
     "output_type": "execute_result"
    }
   ],
   "source": [
    "data['FERIADO'].value_counts()"
   ],
   "metadata": {
    "collapsed": false,
    "ExecuteTime": {
     "end_time": "2023-08-20T08:56:15.930867Z",
     "start_time": "2023-08-20T08:56:15.862229Z"
    }
   }
  },
  {
   "cell_type": "code",
   "execution_count": 8,
   "outputs": [
    {
     "data": {
      "text/plain": "array(['Verano', 'Otoño', 'Invierno', 'Primavera'], dtype=object)"
     },
     "execution_count": 8,
     "metadata": {},
     "output_type": "execute_result"
    }
   ],
   "source": [
    "data['ESTACION_A'].unique()"
   ],
   "metadata": {
    "collapsed": false,
    "ExecuteTime": {
     "end_time": "2023-08-20T08:56:15.961014Z",
     "start_time": "2023-08-20T08:56:15.878260Z"
    }
   }
  },
  {
   "cell_type": "code",
   "execution_count": 9,
   "outputs": [],
   "source": [
    "data['ESTACION_A'] = data['ESTACION_A'].map({'Primavera': 1, 'Verano': 2, \"Otoño\" : 3, \"Invierno\": 4})"
   ],
   "metadata": {
    "collapsed": false,
    "ExecuteTime": {
     "end_time": "2023-08-20T08:56:15.961733Z",
     "start_time": "2023-08-20T08:56:15.887815Z"
    }
   }
  },
  {
   "cell_type": "code",
   "execution_count": 10,
   "outputs": [
    {
     "data": {
      "text/plain": "1    792\n4    785\n2    775\n3    766\nName: ESTACION_A, dtype: int64"
     },
     "execution_count": 10,
     "metadata": {},
     "output_type": "execute_result"
    }
   ],
   "source": [
    "data['ESTACION_A'].value_counts()"
   ],
   "metadata": {
    "collapsed": false,
    "ExecuteTime": {
     "end_time": "2023-08-20T08:56:15.996367Z",
     "start_time": "2023-08-20T08:56:15.903160Z"
    }
   }
  },
  {
   "cell_type": "code",
   "execution_count": 11,
   "outputs": [
    {
     "data": {
      "text/plain": "array([3., 2., 4., 5.])"
     },
     "execution_count": 11,
     "metadata": {},
     "output_type": "execute_result"
    }
   ],
   "source": [
    "data['CAT_VEHICULO'].unique()"
   ],
   "metadata": {
    "collapsed": false,
    "ExecuteTime": {
     "end_time": "2023-08-20T08:56:16.275229Z",
     "start_time": "2023-08-20T08:56:16.125355Z"
    }
   }
  },
  {
   "cell_type": "code",
   "execution_count": 12,
   "outputs": [],
   "source": [
    "week_day_en = pd.get_dummies(data['DIA_SEMANA'], prefix='DIA_SEMANA')"
   ],
   "metadata": {
    "collapsed": false,
    "ExecuteTime": {
     "end_time": "2023-08-20T08:56:16.635891Z",
     "start_time": "2023-08-20T08:56:16.316531Z"
    }
   }
  },
  {
   "cell_type": "code",
   "execution_count": 13,
   "outputs": [
    {
     "data": {
      "text/plain": "      DIA_SEMANA_Domingo  DIA_SEMANA_Jueves  DIA_SEMANA_Lunes  \\\n0                      0                  0                 0   \n1                      0                  0                 0   \n2                      0                  0                 0   \n3                      0                  0                 0   \n4                      0                  0                 1   \n...                  ...                ...               ...   \n3113                   0                  0                 0   \n3114                   0                  0                 0   \n3115                   1                  0                 0   \n3116                   0                  0                 1   \n3117                   0                  0                 0   \n\n      DIA_SEMANA_Martes  DIA_SEMANA_Miércoles  DIA_SEMANA_Sábado  \\\n0                     0                     0                  1   \n1                     1                     0                  0   \n2                     0                     0                  0   \n3                     0                     0                  1   \n4                     0                     0                  0   \n...                 ...                   ...                ...   \n3113                  0                     0                  0   \n3114                  0                     0                  1   \n3115                  0                     0                  0   \n3116                  0                     0                  0   \n3117                  1                     0                  0   \n\n      DIA_SEMANA_Viernes  \n0                      0  \n1                      0  \n2                      1  \n3                      0  \n4                      0  \n...                  ...  \n3113                   1  \n3114                   0  \n3115                   0  \n3116                   0  \n3117                   0  \n\n[3118 rows x 7 columns]",
      "text/html": "<div>\n<style scoped>\n    .dataframe tbody tr th:only-of-type {\n        vertical-align: middle;\n    }\n\n    .dataframe tbody tr th {\n        vertical-align: top;\n    }\n\n    .dataframe thead th {\n        text-align: right;\n    }\n</style>\n<table border=\"1\" class=\"dataframe\">\n  <thead>\n    <tr style=\"text-align: right;\">\n      <th></th>\n      <th>DIA_SEMANA_Domingo</th>\n      <th>DIA_SEMANA_Jueves</th>\n      <th>DIA_SEMANA_Lunes</th>\n      <th>DIA_SEMANA_Martes</th>\n      <th>DIA_SEMANA_Miércoles</th>\n      <th>DIA_SEMANA_Sábado</th>\n      <th>DIA_SEMANA_Viernes</th>\n    </tr>\n  </thead>\n  <tbody>\n    <tr>\n      <th>0</th>\n      <td>0</td>\n      <td>0</td>\n      <td>0</td>\n      <td>0</td>\n      <td>0</td>\n      <td>1</td>\n      <td>0</td>\n    </tr>\n    <tr>\n      <th>1</th>\n      <td>0</td>\n      <td>0</td>\n      <td>0</td>\n      <td>1</td>\n      <td>0</td>\n      <td>0</td>\n      <td>0</td>\n    </tr>\n    <tr>\n      <th>2</th>\n      <td>0</td>\n      <td>0</td>\n      <td>0</td>\n      <td>0</td>\n      <td>0</td>\n      <td>0</td>\n      <td>1</td>\n    </tr>\n    <tr>\n      <th>3</th>\n      <td>0</td>\n      <td>0</td>\n      <td>0</td>\n      <td>0</td>\n      <td>0</td>\n      <td>1</td>\n      <td>0</td>\n    </tr>\n    <tr>\n      <th>4</th>\n      <td>0</td>\n      <td>0</td>\n      <td>1</td>\n      <td>0</td>\n      <td>0</td>\n      <td>0</td>\n      <td>0</td>\n    </tr>\n    <tr>\n      <th>...</th>\n      <td>...</td>\n      <td>...</td>\n      <td>...</td>\n      <td>...</td>\n      <td>...</td>\n      <td>...</td>\n      <td>...</td>\n    </tr>\n    <tr>\n      <th>3113</th>\n      <td>0</td>\n      <td>0</td>\n      <td>0</td>\n      <td>0</td>\n      <td>0</td>\n      <td>0</td>\n      <td>1</td>\n    </tr>\n    <tr>\n      <th>3114</th>\n      <td>0</td>\n      <td>0</td>\n      <td>0</td>\n      <td>0</td>\n      <td>0</td>\n      <td>1</td>\n      <td>0</td>\n    </tr>\n    <tr>\n      <th>3115</th>\n      <td>1</td>\n      <td>0</td>\n      <td>0</td>\n      <td>0</td>\n      <td>0</td>\n      <td>0</td>\n      <td>0</td>\n    </tr>\n    <tr>\n      <th>3116</th>\n      <td>0</td>\n      <td>0</td>\n      <td>1</td>\n      <td>0</td>\n      <td>0</td>\n      <td>0</td>\n      <td>0</td>\n    </tr>\n    <tr>\n      <th>3117</th>\n      <td>0</td>\n      <td>0</td>\n      <td>0</td>\n      <td>1</td>\n      <td>0</td>\n      <td>0</td>\n      <td>0</td>\n    </tr>\n  </tbody>\n</table>\n<p>3118 rows × 7 columns</p>\n</div>"
     },
     "execution_count": 13,
     "metadata": {},
     "output_type": "execute_result"
    }
   ],
   "source": [
    "week_day_en"
   ],
   "metadata": {
    "collapsed": false,
    "ExecuteTime": {
     "end_time": "2023-08-20T08:56:16.847134Z",
     "start_time": "2023-08-20T08:56:16.501691Z"
    }
   }
  },
  {
   "cell_type": "code",
   "execution_count": 14,
   "outputs": [
    {
     "data": {
      "text/plain": "     FE_OCURRENCIA  FRECUENCIA HORA_OCURRENCIA  CO_PROVINCIA  EXTRANJERO  \\\n0       2014-07-05           1           16:00             1           0   \n1       2014-07-08           1           10:30             1           0   \n2       2014-07-11           1           10:00             1           0   \n3       2014-07-12           1           22:00             1           0   \n4       2014-07-14           1           10:00             1           0   \n...            ...         ...             ...           ...         ...   \n3113    2023-06-30           2           12:54             1           0   \n3114    2023-07-01           3           12:54             1           0   \n3115    2023-07-02           2           12:54             1           0   \n3116    2023-07-03           4           12:54             1           0   \n3117    2023-07-04           4           08:15             1           0   \n\n      CAT_VEHICULO    MES DIA_SEMANA  ESTACION_A  FERIADO  NIVEL  \n0              3.0  Julio     Sábado           2        0      1  \n1              2.0  Julio     Martes           2        0      1  \n2              4.0  Julio    Viernes           2        0      1  \n3              2.0  Julio     Sábado           2        0      1  \n4              5.0  Julio      Lunes           2        0      1  \n...            ...    ...        ...         ...      ...    ...  \n3113           2.0  Junio    Viernes           2        0      1  \n3114           2.0  Julio     Sábado           2        0      2  \n3115           2.0  Julio    Domingo           2        0      1  \n3116           2.0  Julio      Lunes           2        0      2  \n3117           2.0  Julio     Martes           2        0      2  \n\n[3118 rows x 11 columns]",
      "text/html": "<div>\n<style scoped>\n    .dataframe tbody tr th:only-of-type {\n        vertical-align: middle;\n    }\n\n    .dataframe tbody tr th {\n        vertical-align: top;\n    }\n\n    .dataframe thead th {\n        text-align: right;\n    }\n</style>\n<table border=\"1\" class=\"dataframe\">\n  <thead>\n    <tr style=\"text-align: right;\">\n      <th></th>\n      <th>FE_OCURRENCIA</th>\n      <th>FRECUENCIA</th>\n      <th>HORA_OCURRENCIA</th>\n      <th>CO_PROVINCIA</th>\n      <th>EXTRANJERO</th>\n      <th>CAT_VEHICULO</th>\n      <th>MES</th>\n      <th>DIA_SEMANA</th>\n      <th>ESTACION_A</th>\n      <th>FERIADO</th>\n      <th>NIVEL</th>\n    </tr>\n  </thead>\n  <tbody>\n    <tr>\n      <th>0</th>\n      <td>2014-07-05</td>\n      <td>1</td>\n      <td>16:00</td>\n      <td>1</td>\n      <td>0</td>\n      <td>3.0</td>\n      <td>Julio</td>\n      <td>Sábado</td>\n      <td>2</td>\n      <td>0</td>\n      <td>1</td>\n    </tr>\n    <tr>\n      <th>1</th>\n      <td>2014-07-08</td>\n      <td>1</td>\n      <td>10:30</td>\n      <td>1</td>\n      <td>0</td>\n      <td>2.0</td>\n      <td>Julio</td>\n      <td>Martes</td>\n      <td>2</td>\n      <td>0</td>\n      <td>1</td>\n    </tr>\n    <tr>\n      <th>2</th>\n      <td>2014-07-11</td>\n      <td>1</td>\n      <td>10:00</td>\n      <td>1</td>\n      <td>0</td>\n      <td>4.0</td>\n      <td>Julio</td>\n      <td>Viernes</td>\n      <td>2</td>\n      <td>0</td>\n      <td>1</td>\n    </tr>\n    <tr>\n      <th>3</th>\n      <td>2014-07-12</td>\n      <td>1</td>\n      <td>22:00</td>\n      <td>1</td>\n      <td>0</td>\n      <td>2.0</td>\n      <td>Julio</td>\n      <td>Sábado</td>\n      <td>2</td>\n      <td>0</td>\n      <td>1</td>\n    </tr>\n    <tr>\n      <th>4</th>\n      <td>2014-07-14</td>\n      <td>1</td>\n      <td>10:00</td>\n      <td>1</td>\n      <td>0</td>\n      <td>5.0</td>\n      <td>Julio</td>\n      <td>Lunes</td>\n      <td>2</td>\n      <td>0</td>\n      <td>1</td>\n    </tr>\n    <tr>\n      <th>...</th>\n      <td>...</td>\n      <td>...</td>\n      <td>...</td>\n      <td>...</td>\n      <td>...</td>\n      <td>...</td>\n      <td>...</td>\n      <td>...</td>\n      <td>...</td>\n      <td>...</td>\n      <td>...</td>\n    </tr>\n    <tr>\n      <th>3113</th>\n      <td>2023-06-30</td>\n      <td>2</td>\n      <td>12:54</td>\n      <td>1</td>\n      <td>0</td>\n      <td>2.0</td>\n      <td>Junio</td>\n      <td>Viernes</td>\n      <td>2</td>\n      <td>0</td>\n      <td>1</td>\n    </tr>\n    <tr>\n      <th>3114</th>\n      <td>2023-07-01</td>\n      <td>3</td>\n      <td>12:54</td>\n      <td>1</td>\n      <td>0</td>\n      <td>2.0</td>\n      <td>Julio</td>\n      <td>Sábado</td>\n      <td>2</td>\n      <td>0</td>\n      <td>2</td>\n    </tr>\n    <tr>\n      <th>3115</th>\n      <td>2023-07-02</td>\n      <td>2</td>\n      <td>12:54</td>\n      <td>1</td>\n      <td>0</td>\n      <td>2.0</td>\n      <td>Julio</td>\n      <td>Domingo</td>\n      <td>2</td>\n      <td>0</td>\n      <td>1</td>\n    </tr>\n    <tr>\n      <th>3116</th>\n      <td>2023-07-03</td>\n      <td>4</td>\n      <td>12:54</td>\n      <td>1</td>\n      <td>0</td>\n      <td>2.0</td>\n      <td>Julio</td>\n      <td>Lunes</td>\n      <td>2</td>\n      <td>0</td>\n      <td>2</td>\n    </tr>\n    <tr>\n      <th>3117</th>\n      <td>2023-07-04</td>\n      <td>4</td>\n      <td>08:15</td>\n      <td>1</td>\n      <td>0</td>\n      <td>2.0</td>\n      <td>Julio</td>\n      <td>Martes</td>\n      <td>2</td>\n      <td>0</td>\n      <td>2</td>\n    </tr>\n  </tbody>\n</table>\n<p>3118 rows × 11 columns</p>\n</div>"
     },
     "execution_count": 14,
     "metadata": {},
     "output_type": "execute_result"
    }
   ],
   "source": [
    "data"
   ],
   "metadata": {
    "collapsed": false,
    "ExecuteTime": {
     "end_time": "2023-08-20T08:56:16.860713Z",
     "start_time": "2023-08-20T08:56:16.697231Z"
    }
   }
  },
  {
   "cell_type": "code",
   "execution_count": 15,
   "outputs": [],
   "source": [
    "data = pd.concat([data, week_day_en], axis=1)"
   ],
   "metadata": {
    "collapsed": false,
    "ExecuteTime": {
     "end_time": "2023-08-20T08:56:17.364626Z",
     "start_time": "2023-08-20T08:56:17.328207Z"
    }
   }
  },
  {
   "cell_type": "code",
   "execution_count": 16,
   "outputs": [
    {
     "data": {
      "text/plain": "     FE_OCURRENCIA  FRECUENCIA HORA_OCURRENCIA  CO_PROVINCIA  EXTRANJERO  \\\n0       2014-07-05           1           16:00             1           0   \n1       2014-07-08           1           10:30             1           0   \n2       2014-07-11           1           10:00             1           0   \n3       2014-07-12           1           22:00             1           0   \n4       2014-07-14           1           10:00             1           0   \n...            ...         ...             ...           ...         ...   \n3113    2023-06-30           2           12:54             1           0   \n3114    2023-07-01           3           12:54             1           0   \n3115    2023-07-02           2           12:54             1           0   \n3116    2023-07-03           4           12:54             1           0   \n3117    2023-07-04           4           08:15             1           0   \n\n      CAT_VEHICULO    MES DIA_SEMANA  ESTACION_A  FERIADO  NIVEL  \\\n0              3.0  Julio     Sábado           2        0      1   \n1              2.0  Julio     Martes           2        0      1   \n2              4.0  Julio    Viernes           2        0      1   \n3              2.0  Julio     Sábado           2        0      1   \n4              5.0  Julio      Lunes           2        0      1   \n...            ...    ...        ...         ...      ...    ...   \n3113           2.0  Junio    Viernes           2        0      1   \n3114           2.0  Julio     Sábado           2        0      2   \n3115           2.0  Julio    Domingo           2        0      1   \n3116           2.0  Julio      Lunes           2        0      2   \n3117           2.0  Julio     Martes           2        0      2   \n\n      DIA_SEMANA_Domingo  DIA_SEMANA_Jueves  DIA_SEMANA_Lunes  \\\n0                      0                  0                 0   \n1                      0                  0                 0   \n2                      0                  0                 0   \n3                      0                  0                 0   \n4                      0                  0                 1   \n...                  ...                ...               ...   \n3113                   0                  0                 0   \n3114                   0                  0                 0   \n3115                   1                  0                 0   \n3116                   0                  0                 1   \n3117                   0                  0                 0   \n\n      DIA_SEMANA_Martes  DIA_SEMANA_Miércoles  DIA_SEMANA_Sábado  \\\n0                     0                     0                  1   \n1                     1                     0                  0   \n2                     0                     0                  0   \n3                     0                     0                  1   \n4                     0                     0                  0   \n...                 ...                   ...                ...   \n3113                  0                     0                  0   \n3114                  0                     0                  1   \n3115                  0                     0                  0   \n3116                  0                     0                  0   \n3117                  1                     0                  0   \n\n      DIA_SEMANA_Viernes  \n0                      0  \n1                      0  \n2                      1  \n3                      0  \n4                      0  \n...                  ...  \n3113                   1  \n3114                   0  \n3115                   0  \n3116                   0  \n3117                   0  \n\n[3118 rows x 18 columns]",
      "text/html": "<div>\n<style scoped>\n    .dataframe tbody tr th:only-of-type {\n        vertical-align: middle;\n    }\n\n    .dataframe tbody tr th {\n        vertical-align: top;\n    }\n\n    .dataframe thead th {\n        text-align: right;\n    }\n</style>\n<table border=\"1\" class=\"dataframe\">\n  <thead>\n    <tr style=\"text-align: right;\">\n      <th></th>\n      <th>FE_OCURRENCIA</th>\n      <th>FRECUENCIA</th>\n      <th>HORA_OCURRENCIA</th>\n      <th>CO_PROVINCIA</th>\n      <th>EXTRANJERO</th>\n      <th>CAT_VEHICULO</th>\n      <th>MES</th>\n      <th>DIA_SEMANA</th>\n      <th>ESTACION_A</th>\n      <th>FERIADO</th>\n      <th>NIVEL</th>\n      <th>DIA_SEMANA_Domingo</th>\n      <th>DIA_SEMANA_Jueves</th>\n      <th>DIA_SEMANA_Lunes</th>\n      <th>DIA_SEMANA_Martes</th>\n      <th>DIA_SEMANA_Miércoles</th>\n      <th>DIA_SEMANA_Sábado</th>\n      <th>DIA_SEMANA_Viernes</th>\n    </tr>\n  </thead>\n  <tbody>\n    <tr>\n      <th>0</th>\n      <td>2014-07-05</td>\n      <td>1</td>\n      <td>16:00</td>\n      <td>1</td>\n      <td>0</td>\n      <td>3.0</td>\n      <td>Julio</td>\n      <td>Sábado</td>\n      <td>2</td>\n      <td>0</td>\n      <td>1</td>\n      <td>0</td>\n      <td>0</td>\n      <td>0</td>\n      <td>0</td>\n      <td>0</td>\n      <td>1</td>\n      <td>0</td>\n    </tr>\n    <tr>\n      <th>1</th>\n      <td>2014-07-08</td>\n      <td>1</td>\n      <td>10:30</td>\n      <td>1</td>\n      <td>0</td>\n      <td>2.0</td>\n      <td>Julio</td>\n      <td>Martes</td>\n      <td>2</td>\n      <td>0</td>\n      <td>1</td>\n      <td>0</td>\n      <td>0</td>\n      <td>0</td>\n      <td>1</td>\n      <td>0</td>\n      <td>0</td>\n      <td>0</td>\n    </tr>\n    <tr>\n      <th>2</th>\n      <td>2014-07-11</td>\n      <td>1</td>\n      <td>10:00</td>\n      <td>1</td>\n      <td>0</td>\n      <td>4.0</td>\n      <td>Julio</td>\n      <td>Viernes</td>\n      <td>2</td>\n      <td>0</td>\n      <td>1</td>\n      <td>0</td>\n      <td>0</td>\n      <td>0</td>\n      <td>0</td>\n      <td>0</td>\n      <td>0</td>\n      <td>1</td>\n    </tr>\n    <tr>\n      <th>3</th>\n      <td>2014-07-12</td>\n      <td>1</td>\n      <td>22:00</td>\n      <td>1</td>\n      <td>0</td>\n      <td>2.0</td>\n      <td>Julio</td>\n      <td>Sábado</td>\n      <td>2</td>\n      <td>0</td>\n      <td>1</td>\n      <td>0</td>\n      <td>0</td>\n      <td>0</td>\n      <td>0</td>\n      <td>0</td>\n      <td>1</td>\n      <td>0</td>\n    </tr>\n    <tr>\n      <th>4</th>\n      <td>2014-07-14</td>\n      <td>1</td>\n      <td>10:00</td>\n      <td>1</td>\n      <td>0</td>\n      <td>5.0</td>\n      <td>Julio</td>\n      <td>Lunes</td>\n      <td>2</td>\n      <td>0</td>\n      <td>1</td>\n      <td>0</td>\n      <td>0</td>\n      <td>1</td>\n      <td>0</td>\n      <td>0</td>\n      <td>0</td>\n      <td>0</td>\n    </tr>\n    <tr>\n      <th>...</th>\n      <td>...</td>\n      <td>...</td>\n      <td>...</td>\n      <td>...</td>\n      <td>...</td>\n      <td>...</td>\n      <td>...</td>\n      <td>...</td>\n      <td>...</td>\n      <td>...</td>\n      <td>...</td>\n      <td>...</td>\n      <td>...</td>\n      <td>...</td>\n      <td>...</td>\n      <td>...</td>\n      <td>...</td>\n      <td>...</td>\n    </tr>\n    <tr>\n      <th>3113</th>\n      <td>2023-06-30</td>\n      <td>2</td>\n      <td>12:54</td>\n      <td>1</td>\n      <td>0</td>\n      <td>2.0</td>\n      <td>Junio</td>\n      <td>Viernes</td>\n      <td>2</td>\n      <td>0</td>\n      <td>1</td>\n      <td>0</td>\n      <td>0</td>\n      <td>0</td>\n      <td>0</td>\n      <td>0</td>\n      <td>0</td>\n      <td>1</td>\n    </tr>\n    <tr>\n      <th>3114</th>\n      <td>2023-07-01</td>\n      <td>3</td>\n      <td>12:54</td>\n      <td>1</td>\n      <td>0</td>\n      <td>2.0</td>\n      <td>Julio</td>\n      <td>Sábado</td>\n      <td>2</td>\n      <td>0</td>\n      <td>2</td>\n      <td>0</td>\n      <td>0</td>\n      <td>0</td>\n      <td>0</td>\n      <td>0</td>\n      <td>1</td>\n      <td>0</td>\n    </tr>\n    <tr>\n      <th>3115</th>\n      <td>2023-07-02</td>\n      <td>2</td>\n      <td>12:54</td>\n      <td>1</td>\n      <td>0</td>\n      <td>2.0</td>\n      <td>Julio</td>\n      <td>Domingo</td>\n      <td>2</td>\n      <td>0</td>\n      <td>1</td>\n      <td>1</td>\n      <td>0</td>\n      <td>0</td>\n      <td>0</td>\n      <td>0</td>\n      <td>0</td>\n      <td>0</td>\n    </tr>\n    <tr>\n      <th>3116</th>\n      <td>2023-07-03</td>\n      <td>4</td>\n      <td>12:54</td>\n      <td>1</td>\n      <td>0</td>\n      <td>2.0</td>\n      <td>Julio</td>\n      <td>Lunes</td>\n      <td>2</td>\n      <td>0</td>\n      <td>2</td>\n      <td>0</td>\n      <td>0</td>\n      <td>1</td>\n      <td>0</td>\n      <td>0</td>\n      <td>0</td>\n      <td>0</td>\n    </tr>\n    <tr>\n      <th>3117</th>\n      <td>2023-07-04</td>\n      <td>4</td>\n      <td>08:15</td>\n      <td>1</td>\n      <td>0</td>\n      <td>2.0</td>\n      <td>Julio</td>\n      <td>Martes</td>\n      <td>2</td>\n      <td>0</td>\n      <td>2</td>\n      <td>0</td>\n      <td>0</td>\n      <td>0</td>\n      <td>1</td>\n      <td>0</td>\n      <td>0</td>\n      <td>0</td>\n    </tr>\n  </tbody>\n</table>\n<p>3118 rows × 18 columns</p>\n</div>"
     },
     "execution_count": 16,
     "metadata": {},
     "output_type": "execute_result"
    }
   ],
   "source": [
    "data"
   ],
   "metadata": {
    "collapsed": false,
    "ExecuteTime": {
     "end_time": "2023-08-20T08:56:18.236156Z",
     "start_time": "2023-08-20T08:56:18.217335Z"
    }
   }
  },
  {
   "cell_type": "code",
   "execution_count": 17,
   "outputs": [],
   "source": [
    "month_en = pd.get_dummies(data['MES'], prefix='MES')"
   ],
   "metadata": {
    "collapsed": false,
    "ExecuteTime": {
     "end_time": "2023-08-20T08:56:18.543097Z",
     "start_time": "2023-08-20T08:56:18.492908Z"
    }
   }
  },
  {
   "cell_type": "code",
   "execution_count": 18,
   "outputs": [],
   "source": [
    "data = pd.concat([data, month_en], axis=1)"
   ],
   "metadata": {
    "collapsed": false,
    "ExecuteTime": {
     "end_time": "2023-08-20T08:56:19.093269Z",
     "start_time": "2023-08-20T08:56:19.075839Z"
    }
   }
  },
  {
   "cell_type": "code",
   "execution_count": 19,
   "outputs": [
    {
     "data": {
      "text/plain": "     FE_OCURRENCIA  FRECUENCIA HORA_OCURRENCIA  CO_PROVINCIA  EXTRANJERO  \\\n0       2014-07-05           1           16:00             1           0   \n1       2014-07-08           1           10:30             1           0   \n2       2014-07-11           1           10:00             1           0   \n3       2014-07-12           1           22:00             1           0   \n4       2014-07-14           1           10:00             1           0   \n...            ...         ...             ...           ...         ...   \n3113    2023-06-30           2           12:54             1           0   \n3114    2023-07-01           3           12:54             1           0   \n3115    2023-07-02           2           12:54             1           0   \n3116    2023-07-03           4           12:54             1           0   \n3117    2023-07-04           4           08:15             1           0   \n\n      CAT_VEHICULO    MES DIA_SEMANA  ESTACION_A  FERIADO  ...  MES_Diciembre  \\\n0              3.0  Julio     Sábado           2        0  ...              0   \n1              2.0  Julio     Martes           2        0  ...              0   \n2              4.0  Julio    Viernes           2        0  ...              0   \n3              2.0  Julio     Sábado           2        0  ...              0   \n4              5.0  Julio      Lunes           2        0  ...              0   \n...            ...    ...        ...         ...      ...  ...            ...   \n3113           2.0  Junio    Viernes           2        0  ...              0   \n3114           2.0  Julio     Sábado           2        0  ...              0   \n3115           2.0  Julio    Domingo           2        0  ...              0   \n3116           2.0  Julio      Lunes           2        0  ...              0   \n3117           2.0  Julio     Martes           2        0  ...              0   \n\n      MES_Enero  MES_Febrero  MES_Julio  MES_Junio  MES_Marzo  MES_Mayo  \\\n0             0            0          1          0          0         0   \n1             0            0          1          0          0         0   \n2             0            0          1          0          0         0   \n3             0            0          1          0          0         0   \n4             0            0          1          0          0         0   \n...         ...          ...        ...        ...        ...       ...   \n3113          0            0          0          1          0         0   \n3114          0            0          1          0          0         0   \n3115          0            0          1          0          0         0   \n3116          0            0          1          0          0         0   \n3117          0            0          1          0          0         0   \n\n      MES_Noviembre  MES_Octubre  MES_Septiembre  \n0                 0            0               0  \n1                 0            0               0  \n2                 0            0               0  \n3                 0            0               0  \n4                 0            0               0  \n...             ...          ...             ...  \n3113              0            0               0  \n3114              0            0               0  \n3115              0            0               0  \n3116              0            0               0  \n3117              0            0               0  \n\n[3118 rows x 30 columns]",
      "text/html": "<div>\n<style scoped>\n    .dataframe tbody tr th:only-of-type {\n        vertical-align: middle;\n    }\n\n    .dataframe tbody tr th {\n        vertical-align: top;\n    }\n\n    .dataframe thead th {\n        text-align: right;\n    }\n</style>\n<table border=\"1\" class=\"dataframe\">\n  <thead>\n    <tr style=\"text-align: right;\">\n      <th></th>\n      <th>FE_OCURRENCIA</th>\n      <th>FRECUENCIA</th>\n      <th>HORA_OCURRENCIA</th>\n      <th>CO_PROVINCIA</th>\n      <th>EXTRANJERO</th>\n      <th>CAT_VEHICULO</th>\n      <th>MES</th>\n      <th>DIA_SEMANA</th>\n      <th>ESTACION_A</th>\n      <th>FERIADO</th>\n      <th>...</th>\n      <th>MES_Diciembre</th>\n      <th>MES_Enero</th>\n      <th>MES_Febrero</th>\n      <th>MES_Julio</th>\n      <th>MES_Junio</th>\n      <th>MES_Marzo</th>\n      <th>MES_Mayo</th>\n      <th>MES_Noviembre</th>\n      <th>MES_Octubre</th>\n      <th>MES_Septiembre</th>\n    </tr>\n  </thead>\n  <tbody>\n    <tr>\n      <th>0</th>\n      <td>2014-07-05</td>\n      <td>1</td>\n      <td>16:00</td>\n      <td>1</td>\n      <td>0</td>\n      <td>3.0</td>\n      <td>Julio</td>\n      <td>Sábado</td>\n      <td>2</td>\n      <td>0</td>\n      <td>...</td>\n      <td>0</td>\n      <td>0</td>\n      <td>0</td>\n      <td>1</td>\n      <td>0</td>\n      <td>0</td>\n      <td>0</td>\n      <td>0</td>\n      <td>0</td>\n      <td>0</td>\n    </tr>\n    <tr>\n      <th>1</th>\n      <td>2014-07-08</td>\n      <td>1</td>\n      <td>10:30</td>\n      <td>1</td>\n      <td>0</td>\n      <td>2.0</td>\n      <td>Julio</td>\n      <td>Martes</td>\n      <td>2</td>\n      <td>0</td>\n      <td>...</td>\n      <td>0</td>\n      <td>0</td>\n      <td>0</td>\n      <td>1</td>\n      <td>0</td>\n      <td>0</td>\n      <td>0</td>\n      <td>0</td>\n      <td>0</td>\n      <td>0</td>\n    </tr>\n    <tr>\n      <th>2</th>\n      <td>2014-07-11</td>\n      <td>1</td>\n      <td>10:00</td>\n      <td>1</td>\n      <td>0</td>\n      <td>4.0</td>\n      <td>Julio</td>\n      <td>Viernes</td>\n      <td>2</td>\n      <td>0</td>\n      <td>...</td>\n      <td>0</td>\n      <td>0</td>\n      <td>0</td>\n      <td>1</td>\n      <td>0</td>\n      <td>0</td>\n      <td>0</td>\n      <td>0</td>\n      <td>0</td>\n      <td>0</td>\n    </tr>\n    <tr>\n      <th>3</th>\n      <td>2014-07-12</td>\n      <td>1</td>\n      <td>22:00</td>\n      <td>1</td>\n      <td>0</td>\n      <td>2.0</td>\n      <td>Julio</td>\n      <td>Sábado</td>\n      <td>2</td>\n      <td>0</td>\n      <td>...</td>\n      <td>0</td>\n      <td>0</td>\n      <td>0</td>\n      <td>1</td>\n      <td>0</td>\n      <td>0</td>\n      <td>0</td>\n      <td>0</td>\n      <td>0</td>\n      <td>0</td>\n    </tr>\n    <tr>\n      <th>4</th>\n      <td>2014-07-14</td>\n      <td>1</td>\n      <td>10:00</td>\n      <td>1</td>\n      <td>0</td>\n      <td>5.0</td>\n      <td>Julio</td>\n      <td>Lunes</td>\n      <td>2</td>\n      <td>0</td>\n      <td>...</td>\n      <td>0</td>\n      <td>0</td>\n      <td>0</td>\n      <td>1</td>\n      <td>0</td>\n      <td>0</td>\n      <td>0</td>\n      <td>0</td>\n      <td>0</td>\n      <td>0</td>\n    </tr>\n    <tr>\n      <th>...</th>\n      <td>...</td>\n      <td>...</td>\n      <td>...</td>\n      <td>...</td>\n      <td>...</td>\n      <td>...</td>\n      <td>...</td>\n      <td>...</td>\n      <td>...</td>\n      <td>...</td>\n      <td>...</td>\n      <td>...</td>\n      <td>...</td>\n      <td>...</td>\n      <td>...</td>\n      <td>...</td>\n      <td>...</td>\n      <td>...</td>\n      <td>...</td>\n      <td>...</td>\n      <td>...</td>\n    </tr>\n    <tr>\n      <th>3113</th>\n      <td>2023-06-30</td>\n      <td>2</td>\n      <td>12:54</td>\n      <td>1</td>\n      <td>0</td>\n      <td>2.0</td>\n      <td>Junio</td>\n      <td>Viernes</td>\n      <td>2</td>\n      <td>0</td>\n      <td>...</td>\n      <td>0</td>\n      <td>0</td>\n      <td>0</td>\n      <td>0</td>\n      <td>1</td>\n      <td>0</td>\n      <td>0</td>\n      <td>0</td>\n      <td>0</td>\n      <td>0</td>\n    </tr>\n    <tr>\n      <th>3114</th>\n      <td>2023-07-01</td>\n      <td>3</td>\n      <td>12:54</td>\n      <td>1</td>\n      <td>0</td>\n      <td>2.0</td>\n      <td>Julio</td>\n      <td>Sábado</td>\n      <td>2</td>\n      <td>0</td>\n      <td>...</td>\n      <td>0</td>\n      <td>0</td>\n      <td>0</td>\n      <td>1</td>\n      <td>0</td>\n      <td>0</td>\n      <td>0</td>\n      <td>0</td>\n      <td>0</td>\n      <td>0</td>\n    </tr>\n    <tr>\n      <th>3115</th>\n      <td>2023-07-02</td>\n      <td>2</td>\n      <td>12:54</td>\n      <td>1</td>\n      <td>0</td>\n      <td>2.0</td>\n      <td>Julio</td>\n      <td>Domingo</td>\n      <td>2</td>\n      <td>0</td>\n      <td>...</td>\n      <td>0</td>\n      <td>0</td>\n      <td>0</td>\n      <td>1</td>\n      <td>0</td>\n      <td>0</td>\n      <td>0</td>\n      <td>0</td>\n      <td>0</td>\n      <td>0</td>\n    </tr>\n    <tr>\n      <th>3116</th>\n      <td>2023-07-03</td>\n      <td>4</td>\n      <td>12:54</td>\n      <td>1</td>\n      <td>0</td>\n      <td>2.0</td>\n      <td>Julio</td>\n      <td>Lunes</td>\n      <td>2</td>\n      <td>0</td>\n      <td>...</td>\n      <td>0</td>\n      <td>0</td>\n      <td>0</td>\n      <td>1</td>\n      <td>0</td>\n      <td>0</td>\n      <td>0</td>\n      <td>0</td>\n      <td>0</td>\n      <td>0</td>\n    </tr>\n    <tr>\n      <th>3117</th>\n      <td>2023-07-04</td>\n      <td>4</td>\n      <td>08:15</td>\n      <td>1</td>\n      <td>0</td>\n      <td>2.0</td>\n      <td>Julio</td>\n      <td>Martes</td>\n      <td>2</td>\n      <td>0</td>\n      <td>...</td>\n      <td>0</td>\n      <td>0</td>\n      <td>0</td>\n      <td>1</td>\n      <td>0</td>\n      <td>0</td>\n      <td>0</td>\n      <td>0</td>\n      <td>0</td>\n      <td>0</td>\n    </tr>\n  </tbody>\n</table>\n<p>3118 rows × 30 columns</p>\n</div>"
     },
     "execution_count": 19,
     "metadata": {},
     "output_type": "execute_result"
    }
   ],
   "source": [
    "data"
   ],
   "metadata": {
    "collapsed": false,
    "ExecuteTime": {
     "end_time": "2023-08-20T08:56:19.549980Z",
     "start_time": "2023-08-20T08:56:19.502782Z"
    }
   }
  },
  {
   "cell_type": "code",
   "execution_count": 20,
   "outputs": [],
   "source": [
    "data = data.drop(\"FE_OCURRENCIA\", axis=1)\n",
    "data = data.drop(\"HORA_OCURRENCIA\", axis=1)\n",
    "data = data.drop(\"MES\", axis=1)\n",
    "data = data.drop(\"DIA_SEMANA\", axis=1)"
   ],
   "metadata": {
    "collapsed": false,
    "ExecuteTime": {
     "end_time": "2023-08-20T08:56:19.881844Z",
     "start_time": "2023-08-20T08:56:19.714505Z"
    }
   }
  },
  {
   "cell_type": "code",
   "execution_count": 21,
   "outputs": [
    {
     "data": {
      "text/plain": "      FRECUENCIA  CO_PROVINCIA  EXTRANJERO  CAT_VEHICULO  ESTACION_A  FERIADO  \\\n0              1             1           0           3.0           2        0   \n1              1             1           0           2.0           2        0   \n2              1             1           0           4.0           2        0   \n3              1             1           0           2.0           2        0   \n4              1             1           0           5.0           2        0   \n...          ...           ...         ...           ...         ...      ...   \n3113           2             1           0           2.0           2        0   \n3114           3             1           0           2.0           2        0   \n3115           2             1           0           2.0           2        0   \n3116           4             1           0           2.0           2        0   \n3117           4             1           0           2.0           2        0   \n\n      NIVEL  DIA_SEMANA_Domingo  DIA_SEMANA_Jueves  DIA_SEMANA_Lunes  ...  \\\n0         1                   0                  0                 0  ...   \n1         1                   0                  0                 0  ...   \n2         1                   0                  0                 0  ...   \n3         1                   0                  0                 0  ...   \n4         1                   0                  0                 1  ...   \n...     ...                 ...                ...               ...  ...   \n3113      1                   0                  0                 0  ...   \n3114      2                   0                  0                 0  ...   \n3115      1                   1                  0                 0  ...   \n3116      2                   0                  0                 1  ...   \n3117      2                   0                  0                 0  ...   \n\n      MES_Diciembre  MES_Enero  MES_Febrero  MES_Julio  MES_Junio  MES_Marzo  \\\n0                 0          0            0          1          0          0   \n1                 0          0            0          1          0          0   \n2                 0          0            0          1          0          0   \n3                 0          0            0          1          0          0   \n4                 0          0            0          1          0          0   \n...             ...        ...          ...        ...        ...        ...   \n3113              0          0            0          0          1          0   \n3114              0          0            0          1          0          0   \n3115              0          0            0          1          0          0   \n3116              0          0            0          1          0          0   \n3117              0          0            0          1          0          0   \n\n      MES_Mayo  MES_Noviembre  MES_Octubre  MES_Septiembre  \n0            0              0            0               0  \n1            0              0            0               0  \n2            0              0            0               0  \n3            0              0            0               0  \n4            0              0            0               0  \n...        ...            ...          ...             ...  \n3113         0              0            0               0  \n3114         0              0            0               0  \n3115         0              0            0               0  \n3116         0              0            0               0  \n3117         0              0            0               0  \n\n[3118 rows x 26 columns]",
      "text/html": "<div>\n<style scoped>\n    .dataframe tbody tr th:only-of-type {\n        vertical-align: middle;\n    }\n\n    .dataframe tbody tr th {\n        vertical-align: top;\n    }\n\n    .dataframe thead th {\n        text-align: right;\n    }\n</style>\n<table border=\"1\" class=\"dataframe\">\n  <thead>\n    <tr style=\"text-align: right;\">\n      <th></th>\n      <th>FRECUENCIA</th>\n      <th>CO_PROVINCIA</th>\n      <th>EXTRANJERO</th>\n      <th>CAT_VEHICULO</th>\n      <th>ESTACION_A</th>\n      <th>FERIADO</th>\n      <th>NIVEL</th>\n      <th>DIA_SEMANA_Domingo</th>\n      <th>DIA_SEMANA_Jueves</th>\n      <th>DIA_SEMANA_Lunes</th>\n      <th>...</th>\n      <th>MES_Diciembre</th>\n      <th>MES_Enero</th>\n      <th>MES_Febrero</th>\n      <th>MES_Julio</th>\n      <th>MES_Junio</th>\n      <th>MES_Marzo</th>\n      <th>MES_Mayo</th>\n      <th>MES_Noviembre</th>\n      <th>MES_Octubre</th>\n      <th>MES_Septiembre</th>\n    </tr>\n  </thead>\n  <tbody>\n    <tr>\n      <th>0</th>\n      <td>1</td>\n      <td>1</td>\n      <td>0</td>\n      <td>3.0</td>\n      <td>2</td>\n      <td>0</td>\n      <td>1</td>\n      <td>0</td>\n      <td>0</td>\n      <td>0</td>\n      <td>...</td>\n      <td>0</td>\n      <td>0</td>\n      <td>0</td>\n      <td>1</td>\n      <td>0</td>\n      <td>0</td>\n      <td>0</td>\n      <td>0</td>\n      <td>0</td>\n      <td>0</td>\n    </tr>\n    <tr>\n      <th>1</th>\n      <td>1</td>\n      <td>1</td>\n      <td>0</td>\n      <td>2.0</td>\n      <td>2</td>\n      <td>0</td>\n      <td>1</td>\n      <td>0</td>\n      <td>0</td>\n      <td>0</td>\n      <td>...</td>\n      <td>0</td>\n      <td>0</td>\n      <td>0</td>\n      <td>1</td>\n      <td>0</td>\n      <td>0</td>\n      <td>0</td>\n      <td>0</td>\n      <td>0</td>\n      <td>0</td>\n    </tr>\n    <tr>\n      <th>2</th>\n      <td>1</td>\n      <td>1</td>\n      <td>0</td>\n      <td>4.0</td>\n      <td>2</td>\n      <td>0</td>\n      <td>1</td>\n      <td>0</td>\n      <td>0</td>\n      <td>0</td>\n      <td>...</td>\n      <td>0</td>\n      <td>0</td>\n      <td>0</td>\n      <td>1</td>\n      <td>0</td>\n      <td>0</td>\n      <td>0</td>\n      <td>0</td>\n      <td>0</td>\n      <td>0</td>\n    </tr>\n    <tr>\n      <th>3</th>\n      <td>1</td>\n      <td>1</td>\n      <td>0</td>\n      <td>2.0</td>\n      <td>2</td>\n      <td>0</td>\n      <td>1</td>\n      <td>0</td>\n      <td>0</td>\n      <td>0</td>\n      <td>...</td>\n      <td>0</td>\n      <td>0</td>\n      <td>0</td>\n      <td>1</td>\n      <td>0</td>\n      <td>0</td>\n      <td>0</td>\n      <td>0</td>\n      <td>0</td>\n      <td>0</td>\n    </tr>\n    <tr>\n      <th>4</th>\n      <td>1</td>\n      <td>1</td>\n      <td>0</td>\n      <td>5.0</td>\n      <td>2</td>\n      <td>0</td>\n      <td>1</td>\n      <td>0</td>\n      <td>0</td>\n      <td>1</td>\n      <td>...</td>\n      <td>0</td>\n      <td>0</td>\n      <td>0</td>\n      <td>1</td>\n      <td>0</td>\n      <td>0</td>\n      <td>0</td>\n      <td>0</td>\n      <td>0</td>\n      <td>0</td>\n    </tr>\n    <tr>\n      <th>...</th>\n      <td>...</td>\n      <td>...</td>\n      <td>...</td>\n      <td>...</td>\n      <td>...</td>\n      <td>...</td>\n      <td>...</td>\n      <td>...</td>\n      <td>...</td>\n      <td>...</td>\n      <td>...</td>\n      <td>...</td>\n      <td>...</td>\n      <td>...</td>\n      <td>...</td>\n      <td>...</td>\n      <td>...</td>\n      <td>...</td>\n      <td>...</td>\n      <td>...</td>\n      <td>...</td>\n    </tr>\n    <tr>\n      <th>3113</th>\n      <td>2</td>\n      <td>1</td>\n      <td>0</td>\n      <td>2.0</td>\n      <td>2</td>\n      <td>0</td>\n      <td>1</td>\n      <td>0</td>\n      <td>0</td>\n      <td>0</td>\n      <td>...</td>\n      <td>0</td>\n      <td>0</td>\n      <td>0</td>\n      <td>0</td>\n      <td>1</td>\n      <td>0</td>\n      <td>0</td>\n      <td>0</td>\n      <td>0</td>\n      <td>0</td>\n    </tr>\n    <tr>\n      <th>3114</th>\n      <td>3</td>\n      <td>1</td>\n      <td>0</td>\n      <td>2.0</td>\n      <td>2</td>\n      <td>0</td>\n      <td>2</td>\n      <td>0</td>\n      <td>0</td>\n      <td>0</td>\n      <td>...</td>\n      <td>0</td>\n      <td>0</td>\n      <td>0</td>\n      <td>1</td>\n      <td>0</td>\n      <td>0</td>\n      <td>0</td>\n      <td>0</td>\n      <td>0</td>\n      <td>0</td>\n    </tr>\n    <tr>\n      <th>3115</th>\n      <td>2</td>\n      <td>1</td>\n      <td>0</td>\n      <td>2.0</td>\n      <td>2</td>\n      <td>0</td>\n      <td>1</td>\n      <td>1</td>\n      <td>0</td>\n      <td>0</td>\n      <td>...</td>\n      <td>0</td>\n      <td>0</td>\n      <td>0</td>\n      <td>1</td>\n      <td>0</td>\n      <td>0</td>\n      <td>0</td>\n      <td>0</td>\n      <td>0</td>\n      <td>0</td>\n    </tr>\n    <tr>\n      <th>3116</th>\n      <td>4</td>\n      <td>1</td>\n      <td>0</td>\n      <td>2.0</td>\n      <td>2</td>\n      <td>0</td>\n      <td>2</td>\n      <td>0</td>\n      <td>0</td>\n      <td>1</td>\n      <td>...</td>\n      <td>0</td>\n      <td>0</td>\n      <td>0</td>\n      <td>1</td>\n      <td>0</td>\n      <td>0</td>\n      <td>0</td>\n      <td>0</td>\n      <td>0</td>\n      <td>0</td>\n    </tr>\n    <tr>\n      <th>3117</th>\n      <td>4</td>\n      <td>1</td>\n      <td>0</td>\n      <td>2.0</td>\n      <td>2</td>\n      <td>0</td>\n      <td>2</td>\n      <td>0</td>\n      <td>0</td>\n      <td>0</td>\n      <td>...</td>\n      <td>0</td>\n      <td>0</td>\n      <td>0</td>\n      <td>1</td>\n      <td>0</td>\n      <td>0</td>\n      <td>0</td>\n      <td>0</td>\n      <td>0</td>\n      <td>0</td>\n    </tr>\n  </tbody>\n</table>\n<p>3118 rows × 26 columns</p>\n</div>"
     },
     "execution_count": 21,
     "metadata": {},
     "output_type": "execute_result"
    }
   ],
   "source": [
    "data"
   ],
   "metadata": {
    "collapsed": false,
    "ExecuteTime": {
     "end_time": "2023-08-20T08:56:20.532503Z",
     "start_time": "2023-08-20T08:56:20.469272Z"
    }
   }
  },
  {
   "cell_type": "code",
   "execution_count": 22,
   "outputs": [],
   "source": [
    "#Split the train, val, and test set\n",
    "train_set, val_set, test_set = train_val_test_split(data)"
   ],
   "metadata": {
    "collapsed": false,
    "ExecuteTime": {
     "end_time": "2023-08-20T08:56:21.260260Z",
     "start_time": "2023-08-20T08:56:21.236480Z"
    }
   }
  },
  {
   "cell_type": "code",
   "execution_count": 23,
   "outputs": [],
   "source": [
    "#Split the inputs and labels for regression dataset\n",
    "X_train_reg, y_train_reg = split_features(train_set, \"FRECUENCIA\")\n",
    "X_val_reg, y_val_reg = split_features(val_set, \"FRECUENCIA\")\n",
    "X_test_reg, y_test_reg = split_features(test_set, \"FRECUENCIA\")"
   ],
   "metadata": {
    "collapsed": false,
    "ExecuteTime": {
     "end_time": "2023-08-20T08:56:22.290716Z",
     "start_time": "2023-08-20T08:56:22.274502Z"
    }
   }
  },
  {
   "cell_type": "code",
   "execution_count": 24,
   "outputs": [],
   "source": [
    "#Split the inputs and labels for regression dataset\n",
    "X_train_cla, y_train_cla = split_features(train_set, \"NIVEL\")\n",
    "X_val_cla, y_val_cla = split_features(val_set, \"NIVEL\")\n",
    "X_test_cla, y_test_cla = split_features(test_set, \"NIVEL\")"
   ],
   "metadata": {
    "collapsed": false,
    "ExecuteTime": {
     "end_time": "2023-08-20T08:56:23.653661Z",
     "start_time": "2023-08-20T08:56:23.634697Z"
    }
   }
  },
  {
   "cell_type": "code",
   "execution_count": 25,
   "outputs": [],
   "source": [
    "X_train_reg = remove_label(X_train_reg, 'NIVEL')\n",
    "X_val_reg = remove_label(X_val_reg, 'NIVEL')\n",
    "X_test_reg = remove_label(X_test_reg, 'NIVEL')"
   ],
   "metadata": {
    "collapsed": false,
    "ExecuteTime": {
     "end_time": "2023-08-20T08:56:24.387669Z",
     "start_time": "2023-08-20T08:56:24.371669Z"
    }
   }
  },
  {
   "cell_type": "code",
   "execution_count": 26,
   "outputs": [],
   "source": [
    "X_train_cla = remove_label(X_train_cla, 'FRECUENCIA')\n",
    "X_val_cla = remove_label(X_val_cla, 'FRECUENCIA')\n",
    "X_test_cla = remove_label(X_test_cla, 'FRECUENCIA')"
   ],
   "metadata": {
    "collapsed": false,
    "ExecuteTime": {
     "end_time": "2023-08-20T08:56:26.844783Z",
     "start_time": "2023-08-20T08:56:26.828765Z"
    }
   }
  },
  {
   "cell_type": "code",
   "execution_count": 30,
   "outputs": [],
   "source": [
    "#Save the data\n",
    "SAVE_DATA_PATH = \"../../../data\"\n",
    "\n",
    "#Regression data\n",
    "np.savez(SAVE_DATA_PATH + '/processed/train_data_reg', inputs=X_train_reg, targets=y_train_reg)\n",
    "np.savez(SAVE_DATA_PATH + '/processed/val_data_reg', inputs=X_val_reg, targets=y_val_reg)\n",
    "np.savez(SAVE_DATA_PATH + '/processed/test_data_reg', inputs=X_test_reg, targets=y_test_reg)\n",
    "\n",
    "#Clasification data\n",
    "np.savez(SAVE_DATA_PATH + '/processed/train_data_cla', inputs=X_train_cla, targets=y_train_cla)\n",
    "np.savez(SAVE_DATA_PATH + '/processed/val_data_cla', inputs=X_val_cla, targets=y_val_cla)\n",
    "np.savez(SAVE_DATA_PATH + '/processed/test_data_cla', inputs=X_test_cla, targets=y_test_cla)"
   ],
   "metadata": {
    "collapsed": false,
    "ExecuteTime": {
     "end_time": "2023-08-20T09:04:06.565149Z",
     "start_time": "2023-08-20T09:04:06.529638Z"
    }
   }
  },
  {
   "cell_type": "code",
   "execution_count": 31,
   "outputs": [],
   "source": [
    "ENCODER_SAVE_PATH = '../../../exports'\n",
    "\n",
    "#Save the vectorizer\n",
    "with open(ENCODER_SAVE_PATH + '/week_day_en.pkl', 'wb') as f:\n",
    "    pickle.dump(week_day_en, f)\n",
    "with open(ENCODER_SAVE_PATH + '/month_en.pkl', 'wb') as f:\n",
    "    pickle.dump(month_en, f)"
   ],
   "metadata": {
    "collapsed": false,
    "ExecuteTime": {
     "end_time": "2023-08-20T09:04:11.558717Z",
     "start_time": "2023-08-20T09:04:11.534909Z"
    }
   }
  },
  {
   "cell_type": "code",
   "execution_count": null,
   "outputs": [],
   "source": [],
   "metadata": {
    "collapsed": false
   }
  }
 ],
 "metadata": {
  "kernelspec": {
   "display_name": "Python 3",
   "language": "python",
   "name": "python3"
  },
  "language_info": {
   "codemirror_mode": {
    "name": "ipython",
    "version": 2
   },
   "file_extension": ".py",
   "mimetype": "text/x-python",
   "name": "python",
   "nbconvert_exporter": "python",
   "pygments_lexer": "ipython2",
   "version": "2.7.6"
  }
 },
 "nbformat": 4,
 "nbformat_minor": 0
}
