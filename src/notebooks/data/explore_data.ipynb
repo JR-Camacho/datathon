{
 "cells": [
  {
   "cell_type": "code",
   "execution_count": 1,
   "metadata": {
    "collapsed": true,
    "ExecuteTime": {
     "end_time": "2023-08-19T14:00:30.382638Z",
     "start_time": "2023-08-19T14:00:29.275597Z"
    }
   },
   "outputs": [],
   "source": [
    "import pandas as pd\n",
    "import numpy as np"
   ]
  },
  {
   "cell_type": "code",
   "execution_count": 2,
   "outputs": [],
   "source": [
    "DATA_PATH = \"../../../data\"\n",
    "df_hist_siniestros = pd.read_excel(DATA_PATH + '/Historico de Siniestros.xlsx')\n",
    "df_com_cart_clientes = pd.read_excel(DATA_PATH + '/Composicion de Cartera de clientes de Auto.xlsx')\n",
    "df_hist_autos = pd.read_excel(DATA_PATH + '/Historico Auto y Caracteristicas de Vehiculo.xlsx')"
   ],
   "metadata": {
    "collapsed": false,
    "ExecuteTime": {
     "end_time": "2023-08-19T14:00:45.978297Z",
     "start_time": "2023-08-19T14:00:30.380503Z"
    }
   }
  },
  {
   "cell_type": "code",
   "execution_count": 3,
   "outputs": [
    {
     "data": {
      "text/plain": "       ID _ SINIESTRO  CD_PERSONAv2 FE_OCURRENCIA  Poliza Id v2  CD_PROVINCIA  \\\n0                   1          7668    2015-05-29             1          29.0   \n1                   2         23643    2016-02-12             2          29.0   \n2                   3         29730    2016-02-09             3           1.0   \n3                   4         14301    2016-02-15             4           1.0   \n4                   5         24144    2016-02-03             5           1.0   \n...               ...           ...           ...           ...           ...   \n18701           18702        192804    2023-04-04         11379           1.0   \n18702           18703        181905    2023-06-03         11470           1.0   \n18703           18704        182109    2023-05-22         11471           1.0   \n18704           18705        302838    2023-06-01         11472           1.0   \n18705           18706        114156    2023-05-06         11311          13.0   \n\n       CD_CIUDAD                                DE_LUGAR_OCURRENCIA  \\\n0            1.0                     Siniestro reportado vía cover.   \n1            1.0                      C/ MAYAGUEZ URB. VILLAS DUMIT   \n2            1.0                                           Barahora   \n3            1.0                                    Arroyo Hondo II   \n4            1.0                       Avenida Gustavo Mejia Ricart   \n...          ...                                                ...   \n18701        1.0                                  AUTOPISTA DUARTE    \n18702        1.0                         LOS MULTIS LOS ALCARRIZOS    \n18703        1.0                                  AUTOPISTA DUARTE    \n18704        1.0                              CALLE CAMINO CHIQUITO   \n18705        1.0  HIGUEY PROXIMO AL COMERCIAL REYNALDO VILLA CER...   \n\n      NU_SINIESTRO_RELACIONADO  IN_FRAUDE  \\\n0                                     0.0   \n1                                     0.0   \n2                                     0.0   \n3                                     0.0   \n4                                     0.0   \n...                        ...        ...   \n18701                                 0.0   \n18702                                 0.0   \n18703                                 0.0   \n18704                                 0.0   \n18705                                 0.0   \n\n                             De_Causa_Siniestro  \\\n0                              Accidente/Choque   \n1                              Accidente/Choque   \n2        Responsabilidad Civil Personas o Cosas   \n3      Robo o Hurto Accesorios/ Partes o Piezas   \n4                              Accidente/Choque   \n...                                         ...   \n18701          Rotura de Vidrios y/o Parabrisas   \n18702          Rotura de Vidrios y/o Parabrisas   \n18703          Rotura de Vidrios y/o Parabrisas   \n18704                          Accidente/Choque   \n18705    Responsabilidad Civil Personas o Cosas   \n\n                                        De_Causa_Detalle       DE_PROVINCIA  \\\n0                                          Choque Simple  Distrito Nacional   \n1                                      Choque con Objeto                      \n2      Lesiones y/o Muerte Pasajero/Terceros/ Daños a...                      \n3                             Robo  Accesorio y/o Piezas  Distrito Nacional   \n4                                               Colision                      \n...                                                  ...                ...   \n18701                                                  0                      \n18702                                                  0                      \n18703                                                  0                      \n18704                                      Choque Simple                      \n18705                  Daños a la Propiedad de Terceros                       \n\n           DE_CIUDAD HORA_OCURRENCIA RELACION_RECLAMANTE EVENTO_CATASTROFICO  \n0      Santo Domingo           17:15                   0                   0  \n1                                                                             \n2                                                                             \n3      Santo Domingo           16:30                   0                   0  \n4                                                                             \n...              ...             ...                 ...                 ...  \n18701                                                                         \n18702                                                                         \n18703                                                                         \n18704                                                                         \n18705                                                                         \n\n[18706 rows x 16 columns]",
      "text/html": "<div>\n<style scoped>\n    .dataframe tbody tr th:only-of-type {\n        vertical-align: middle;\n    }\n\n    .dataframe tbody tr th {\n        vertical-align: top;\n    }\n\n    .dataframe thead th {\n        text-align: right;\n    }\n</style>\n<table border=\"1\" class=\"dataframe\">\n  <thead>\n    <tr style=\"text-align: right;\">\n      <th></th>\n      <th>ID _ SINIESTRO</th>\n      <th>CD_PERSONAv2</th>\n      <th>FE_OCURRENCIA</th>\n      <th>Poliza Id v2</th>\n      <th>CD_PROVINCIA</th>\n      <th>CD_CIUDAD</th>\n      <th>DE_LUGAR_OCURRENCIA</th>\n      <th>NU_SINIESTRO_RELACIONADO</th>\n      <th>IN_FRAUDE</th>\n      <th>De_Causa_Siniestro</th>\n      <th>De_Causa_Detalle</th>\n      <th>DE_PROVINCIA</th>\n      <th>DE_CIUDAD</th>\n      <th>HORA_OCURRENCIA</th>\n      <th>RELACION_RECLAMANTE</th>\n      <th>EVENTO_CATASTROFICO</th>\n    </tr>\n  </thead>\n  <tbody>\n    <tr>\n      <th>0</th>\n      <td>1</td>\n      <td>7668</td>\n      <td>2015-05-29</td>\n      <td>1</td>\n      <td>29.0</td>\n      <td>1.0</td>\n      <td>Siniestro reportado vía cover.</td>\n      <td></td>\n      <td>0.0</td>\n      <td>Accidente/Choque</td>\n      <td>Choque Simple</td>\n      <td>Distrito Nacional</td>\n      <td>Santo Domingo</td>\n      <td>17:15</td>\n      <td>0</td>\n      <td>0</td>\n    </tr>\n    <tr>\n      <th>1</th>\n      <td>2</td>\n      <td>23643</td>\n      <td>2016-02-12</td>\n      <td>2</td>\n      <td>29.0</td>\n      <td>1.0</td>\n      <td>C/ MAYAGUEZ URB. VILLAS DUMIT</td>\n      <td></td>\n      <td>0.0</td>\n      <td>Accidente/Choque</td>\n      <td>Choque con Objeto</td>\n      <td></td>\n      <td></td>\n      <td></td>\n      <td></td>\n      <td></td>\n    </tr>\n    <tr>\n      <th>2</th>\n      <td>3</td>\n      <td>29730</td>\n      <td>2016-02-09</td>\n      <td>3</td>\n      <td>1.0</td>\n      <td>1.0</td>\n      <td>Barahora</td>\n      <td></td>\n      <td>0.0</td>\n      <td>Responsabilidad Civil Personas o Cosas</td>\n      <td>Lesiones y/o Muerte Pasajero/Terceros/ Daños a...</td>\n      <td></td>\n      <td></td>\n      <td></td>\n      <td></td>\n      <td></td>\n    </tr>\n    <tr>\n      <th>3</th>\n      <td>4</td>\n      <td>14301</td>\n      <td>2016-02-15</td>\n      <td>4</td>\n      <td>1.0</td>\n      <td>1.0</td>\n      <td>Arroyo Hondo II</td>\n      <td></td>\n      <td>0.0</td>\n      <td>Robo o Hurto Accesorios/ Partes o Piezas</td>\n      <td>Robo  Accesorio y/o Piezas</td>\n      <td>Distrito Nacional</td>\n      <td>Santo Domingo</td>\n      <td>16:30</td>\n      <td>0</td>\n      <td>0</td>\n    </tr>\n    <tr>\n      <th>4</th>\n      <td>5</td>\n      <td>24144</td>\n      <td>2016-02-03</td>\n      <td>5</td>\n      <td>1.0</td>\n      <td>1.0</td>\n      <td>Avenida Gustavo Mejia Ricart</td>\n      <td></td>\n      <td>0.0</td>\n      <td>Accidente/Choque</td>\n      <td>Colision</td>\n      <td></td>\n      <td></td>\n      <td></td>\n      <td></td>\n      <td></td>\n    </tr>\n    <tr>\n      <th>...</th>\n      <td>...</td>\n      <td>...</td>\n      <td>...</td>\n      <td>...</td>\n      <td>...</td>\n      <td>...</td>\n      <td>...</td>\n      <td>...</td>\n      <td>...</td>\n      <td>...</td>\n      <td>...</td>\n      <td>...</td>\n      <td>...</td>\n      <td>...</td>\n      <td>...</td>\n      <td>...</td>\n    </tr>\n    <tr>\n      <th>18701</th>\n      <td>18702</td>\n      <td>192804</td>\n      <td>2023-04-04</td>\n      <td>11379</td>\n      <td>1.0</td>\n      <td>1.0</td>\n      <td>AUTOPISTA DUARTE</td>\n      <td></td>\n      <td>0.0</td>\n      <td>Rotura de Vidrios y/o Parabrisas</td>\n      <td>0</td>\n      <td></td>\n      <td></td>\n      <td></td>\n      <td></td>\n      <td></td>\n    </tr>\n    <tr>\n      <th>18702</th>\n      <td>18703</td>\n      <td>181905</td>\n      <td>2023-06-03</td>\n      <td>11470</td>\n      <td>1.0</td>\n      <td>1.0</td>\n      <td>LOS MULTIS LOS ALCARRIZOS</td>\n      <td></td>\n      <td>0.0</td>\n      <td>Rotura de Vidrios y/o Parabrisas</td>\n      <td>0</td>\n      <td></td>\n      <td></td>\n      <td></td>\n      <td></td>\n      <td></td>\n    </tr>\n    <tr>\n      <th>18703</th>\n      <td>18704</td>\n      <td>182109</td>\n      <td>2023-05-22</td>\n      <td>11471</td>\n      <td>1.0</td>\n      <td>1.0</td>\n      <td>AUTOPISTA DUARTE</td>\n      <td></td>\n      <td>0.0</td>\n      <td>Rotura de Vidrios y/o Parabrisas</td>\n      <td>0</td>\n      <td></td>\n      <td></td>\n      <td></td>\n      <td></td>\n      <td></td>\n    </tr>\n    <tr>\n      <th>18704</th>\n      <td>18705</td>\n      <td>302838</td>\n      <td>2023-06-01</td>\n      <td>11472</td>\n      <td>1.0</td>\n      <td>1.0</td>\n      <td>CALLE CAMINO CHIQUITO</td>\n      <td></td>\n      <td>0.0</td>\n      <td>Accidente/Choque</td>\n      <td>Choque Simple</td>\n      <td></td>\n      <td></td>\n      <td></td>\n      <td></td>\n      <td></td>\n    </tr>\n    <tr>\n      <th>18705</th>\n      <td>18706</td>\n      <td>114156</td>\n      <td>2023-05-06</td>\n      <td>11311</td>\n      <td>13.0</td>\n      <td>1.0</td>\n      <td>HIGUEY PROXIMO AL COMERCIAL REYNALDO VILLA CER...</td>\n      <td></td>\n      <td>0.0</td>\n      <td>Responsabilidad Civil Personas o Cosas</td>\n      <td>Daños a la Propiedad de Terceros</td>\n      <td></td>\n      <td></td>\n      <td></td>\n      <td></td>\n      <td></td>\n    </tr>\n  </tbody>\n</table>\n<p>18706 rows × 16 columns</p>\n</div>"
     },
     "execution_count": 3,
     "metadata": {},
     "output_type": "execute_result"
    }
   ],
   "source": [
    "df_hist_siniestros"
   ],
   "metadata": {
    "collapsed": false,
    "ExecuteTime": {
     "end_time": "2023-08-19T14:00:46.015855Z",
     "start_time": "2023-08-19T14:00:45.993936Z"
    }
   }
  },
  {
   "cell_type": "code",
   "execution_count": 4,
   "outputs": [
    {
     "data": {
      "text/plain": "0         \n1         \n2         \n3         \n4         \n        ..\n18701     \n18702     \n18703     \n18704     \n18705     \nName: NU_SINIESTRO_RELACIONADO, Length: 18706, dtype: object"
     },
     "execution_count": 4,
     "metadata": {},
     "output_type": "execute_result"
    }
   ],
   "source": [
    "df_hist_siniestros['NU_SINIESTRO_RELACIONADO']"
   ],
   "metadata": {
    "collapsed": false,
    "ExecuteTime": {
     "end_time": "2023-08-19T14:00:46.036493Z",
     "start_time": "2023-08-19T14:00:46.031907Z"
    }
   }
  },
  {
   "cell_type": "code",
   "execution_count": 5,
   "outputs": [
    {
     "data": {
      "text/plain": "       CD_PERSONA v2 TP_DOCUMENTO CD_SEXO CD_ESTADO_CIVIL   Rango de Edad  \\\n0                240          RNC     NaN             NaN                   \n1                267          RNC     NaN             NaN                   \n2                270          RNC     NaN             NaN                   \n3                279          RNC     NaN             NaN                   \n4                288          RNC     NaN             NaN                   \n...              ...          ...     ...             ...             ...   \n28481         308598          CED       M               S  7- Rango 66-75   \n28482         308604          CED       M               S  2- Rango 18-25   \n28483         308610          CED       M               S  3- Rango 26-35   \n28484         308613          CED       F               C  4- Rango 36-45   \n28485         308619          CED       M               S  5- Rango 46-55   \n\n       Tiempo desde registro (meses)  IN_LISTA_NEGRA CD_PAIS_NACIMIENTO  \\\n0                                108             NaN                NaN   \n1                               1476             NaN                NaN   \n2                               1476             NaN                NaN   \n3                               1476             1.0                NaN   \n4                               1476             NaN                NaN   \n...                              ...             ...                ...   \n28481                           1476             NaN                DOM   \n28482                           1476             NaN                DOM   \n28483                           1476             NaN                DOM   \n28484                           1476             NaN                DOM   \n28485                           1476             NaN                DOM   \n\n      CD_NACIONALIDAD  IN_INACTIVO  ... CD_PROVINCIA_NACIMIENTO  \\\n0                 NaN          NaN  ...                     NaN   \n1                 NaN          NaN  ...                     NaN   \n2                 NaN          NaN  ...                     NaN   \n3                 NaN          NaN  ...                     NaN   \n4                 NaN          NaN  ...                     NaN   \n...               ...          ...  ...                     ...   \n28481             DOM          NaN  ...                     1.0   \n28482             DOM          NaN  ...                    17.0   \n28483             DOM          NaN  ...                    13.0   \n28484             DOM          NaN  ...                     NaN   \n28485             DOM          NaN  ...                     NaN   \n\n       DE_ACT_ECONOMICA_ADICIONAL  CD_SUCURSAL_ENVIO   De_Sector  \\\n0                             NaN                1.0  Industrial   \n1                             NaN                NaN           0   \n2                             NaN                NaN           0   \n3                             NaN                NaN           0   \n4                             NaN                NaN           0   \n...                           ...                ...         ...   \n28481                         NaN                1.0           0   \n28482                         NaN                1.0           0   \n28483                         NaN                3.0           0   \n28484                         NaN                1.0           0   \n28485                         NaN                1.0           0   \n\n                     De_Ocupacion DE_ACTIVIDAD DE_INGRESO_ANUAL  \\\n0                               0            0                0   \n1                               0            0                0   \n2                               0            0                0   \n3                               0            0                0   \n4                               0            0                0   \n...                           ...          ...              ...   \n28481                           0            0                0   \n28482                           0            0                0   \n28483  INMOBILIARIA, EMPLEADOS DE            0                0   \n28484                           0            0                0   \n28485                           0            0                0   \n\n                     DE_PROFESION DE_TIPO_PERSONA       DE_PROVINCIA  \n0                               0        Juridica                  0  \n1                               0        Juridica                  0  \n2                               0        Juridica                  0  \n3                               0        Juridica                  0  \n4                               0        Juridica                  0  \n...                           ...             ...                ...  \n28481                           0         Natural  Distrito Nacional  \n28482                           0         Natural     Monseñor Nouel  \n28483  INMOBILIARIA, EMPLEADOS DE         Natural      La Altagracia  \n28484                           0         Natural                  0  \n28485                           0         Natural                  0  \n\n[28486 rows x 22 columns]",
      "text/html": "<div>\n<style scoped>\n    .dataframe tbody tr th:only-of-type {\n        vertical-align: middle;\n    }\n\n    .dataframe tbody tr th {\n        vertical-align: top;\n    }\n\n    .dataframe thead th {\n        text-align: right;\n    }\n</style>\n<table border=\"1\" class=\"dataframe\">\n  <thead>\n    <tr style=\"text-align: right;\">\n      <th></th>\n      <th>CD_PERSONA v2</th>\n      <th>TP_DOCUMENTO</th>\n      <th>CD_SEXO</th>\n      <th>CD_ESTADO_CIVIL</th>\n      <th>Rango de Edad</th>\n      <th>Tiempo desde registro (meses)</th>\n      <th>IN_LISTA_NEGRA</th>\n      <th>CD_PAIS_NACIMIENTO</th>\n      <th>CD_NACIONALIDAD</th>\n      <th>IN_INACTIVO</th>\n      <th>...</th>\n      <th>CD_PROVINCIA_NACIMIENTO</th>\n      <th>DE_ACT_ECONOMICA_ADICIONAL</th>\n      <th>CD_SUCURSAL_ENVIO</th>\n      <th>De_Sector</th>\n      <th>De_Ocupacion</th>\n      <th>DE_ACTIVIDAD</th>\n      <th>DE_INGRESO_ANUAL</th>\n      <th>DE_PROFESION</th>\n      <th>DE_TIPO_PERSONA</th>\n      <th>DE_PROVINCIA</th>\n    </tr>\n  </thead>\n  <tbody>\n    <tr>\n      <th>0</th>\n      <td>240</td>\n      <td>RNC</td>\n      <td>NaN</td>\n      <td>NaN</td>\n      <td></td>\n      <td>108</td>\n      <td>NaN</td>\n      <td>NaN</td>\n      <td>NaN</td>\n      <td>NaN</td>\n      <td>...</td>\n      <td>NaN</td>\n      <td>NaN</td>\n      <td>1.0</td>\n      <td>Industrial</td>\n      <td>0</td>\n      <td>0</td>\n      <td>0</td>\n      <td>0</td>\n      <td>Juridica</td>\n      <td>0</td>\n    </tr>\n    <tr>\n      <th>1</th>\n      <td>267</td>\n      <td>RNC</td>\n      <td>NaN</td>\n      <td>NaN</td>\n      <td></td>\n      <td>1476</td>\n      <td>NaN</td>\n      <td>NaN</td>\n      <td>NaN</td>\n      <td>NaN</td>\n      <td>...</td>\n      <td>NaN</td>\n      <td>NaN</td>\n      <td>NaN</td>\n      <td>0</td>\n      <td>0</td>\n      <td>0</td>\n      <td>0</td>\n      <td>0</td>\n      <td>Juridica</td>\n      <td>0</td>\n    </tr>\n    <tr>\n      <th>2</th>\n      <td>270</td>\n      <td>RNC</td>\n      <td>NaN</td>\n      <td>NaN</td>\n      <td></td>\n      <td>1476</td>\n      <td>NaN</td>\n      <td>NaN</td>\n      <td>NaN</td>\n      <td>NaN</td>\n      <td>...</td>\n      <td>NaN</td>\n      <td>NaN</td>\n      <td>NaN</td>\n      <td>0</td>\n      <td>0</td>\n      <td>0</td>\n      <td>0</td>\n      <td>0</td>\n      <td>Juridica</td>\n      <td>0</td>\n    </tr>\n    <tr>\n      <th>3</th>\n      <td>279</td>\n      <td>RNC</td>\n      <td>NaN</td>\n      <td>NaN</td>\n      <td></td>\n      <td>1476</td>\n      <td>1.0</td>\n      <td>NaN</td>\n      <td>NaN</td>\n      <td>NaN</td>\n      <td>...</td>\n      <td>NaN</td>\n      <td>NaN</td>\n      <td>NaN</td>\n      <td>0</td>\n      <td>0</td>\n      <td>0</td>\n      <td>0</td>\n      <td>0</td>\n      <td>Juridica</td>\n      <td>0</td>\n    </tr>\n    <tr>\n      <th>4</th>\n      <td>288</td>\n      <td>RNC</td>\n      <td>NaN</td>\n      <td>NaN</td>\n      <td></td>\n      <td>1476</td>\n      <td>NaN</td>\n      <td>NaN</td>\n      <td>NaN</td>\n      <td>NaN</td>\n      <td>...</td>\n      <td>NaN</td>\n      <td>NaN</td>\n      <td>NaN</td>\n      <td>0</td>\n      <td>0</td>\n      <td>0</td>\n      <td>0</td>\n      <td>0</td>\n      <td>Juridica</td>\n      <td>0</td>\n    </tr>\n    <tr>\n      <th>...</th>\n      <td>...</td>\n      <td>...</td>\n      <td>...</td>\n      <td>...</td>\n      <td>...</td>\n      <td>...</td>\n      <td>...</td>\n      <td>...</td>\n      <td>...</td>\n      <td>...</td>\n      <td>...</td>\n      <td>...</td>\n      <td>...</td>\n      <td>...</td>\n      <td>...</td>\n      <td>...</td>\n      <td>...</td>\n      <td>...</td>\n      <td>...</td>\n      <td>...</td>\n      <td>...</td>\n    </tr>\n    <tr>\n      <th>28481</th>\n      <td>308598</td>\n      <td>CED</td>\n      <td>M</td>\n      <td>S</td>\n      <td>7- Rango 66-75</td>\n      <td>1476</td>\n      <td>NaN</td>\n      <td>DOM</td>\n      <td>DOM</td>\n      <td>NaN</td>\n      <td>...</td>\n      <td>1.0</td>\n      <td>NaN</td>\n      <td>1.0</td>\n      <td>0</td>\n      <td>0</td>\n      <td>0</td>\n      <td>0</td>\n      <td>0</td>\n      <td>Natural</td>\n      <td>Distrito Nacional</td>\n    </tr>\n    <tr>\n      <th>28482</th>\n      <td>308604</td>\n      <td>CED</td>\n      <td>M</td>\n      <td>S</td>\n      <td>2- Rango 18-25</td>\n      <td>1476</td>\n      <td>NaN</td>\n      <td>DOM</td>\n      <td>DOM</td>\n      <td>NaN</td>\n      <td>...</td>\n      <td>17.0</td>\n      <td>NaN</td>\n      <td>1.0</td>\n      <td>0</td>\n      <td>0</td>\n      <td>0</td>\n      <td>0</td>\n      <td>0</td>\n      <td>Natural</td>\n      <td>Monseñor Nouel</td>\n    </tr>\n    <tr>\n      <th>28483</th>\n      <td>308610</td>\n      <td>CED</td>\n      <td>M</td>\n      <td>S</td>\n      <td>3- Rango 26-35</td>\n      <td>1476</td>\n      <td>NaN</td>\n      <td>DOM</td>\n      <td>DOM</td>\n      <td>NaN</td>\n      <td>...</td>\n      <td>13.0</td>\n      <td>NaN</td>\n      <td>3.0</td>\n      <td>0</td>\n      <td>INMOBILIARIA, EMPLEADOS DE</td>\n      <td>0</td>\n      <td>0</td>\n      <td>INMOBILIARIA, EMPLEADOS DE</td>\n      <td>Natural</td>\n      <td>La Altagracia</td>\n    </tr>\n    <tr>\n      <th>28484</th>\n      <td>308613</td>\n      <td>CED</td>\n      <td>F</td>\n      <td>C</td>\n      <td>4- Rango 36-45</td>\n      <td>1476</td>\n      <td>NaN</td>\n      <td>DOM</td>\n      <td>DOM</td>\n      <td>NaN</td>\n      <td>...</td>\n      <td>NaN</td>\n      <td>NaN</td>\n      <td>1.0</td>\n      <td>0</td>\n      <td>0</td>\n      <td>0</td>\n      <td>0</td>\n      <td>0</td>\n      <td>Natural</td>\n      <td>0</td>\n    </tr>\n    <tr>\n      <th>28485</th>\n      <td>308619</td>\n      <td>CED</td>\n      <td>M</td>\n      <td>S</td>\n      <td>5- Rango 46-55</td>\n      <td>1476</td>\n      <td>NaN</td>\n      <td>DOM</td>\n      <td>DOM</td>\n      <td>NaN</td>\n      <td>...</td>\n      <td>NaN</td>\n      <td>NaN</td>\n      <td>1.0</td>\n      <td>0</td>\n      <td>0</td>\n      <td>0</td>\n      <td>0</td>\n      <td>0</td>\n      <td>Natural</td>\n      <td>0</td>\n    </tr>\n  </tbody>\n</table>\n<p>28486 rows × 22 columns</p>\n</div>"
     },
     "execution_count": 5,
     "metadata": {},
     "output_type": "execute_result"
    }
   ],
   "source": [
    "df_com_cart_clientes"
   ],
   "metadata": {
    "collapsed": false,
    "ExecuteTime": {
     "end_time": "2023-08-19T14:00:46.166061Z",
     "start_time": "2023-08-19T14:00:46.035595Z"
    }
   }
  },
  {
   "cell_type": "code",
   "execution_count": 6,
   "outputs": [
    {
     "data": {
      "text/plain": "       CD_PERSONA v2  Poliza Id v2    TIPO_VEHICULO   Color       Marca  \\\n0                240         11473  Jeeps y Vanette  Blanco       LEXUS   \n1                240         11474           Camion  Blanco  MITSUBISHI   \n2                267         11475        Camioneta  Blanco       ISUZU   \n3                267         11476  Jeeps y Vanette  Blanco      TOYOTA   \n4                267         11477        Furgoneta  Blanco    SHINERAY   \n...              ...           ...              ...     ...         ...   \n55702         311349         55714        Automovil    Rojo      NISSAN   \n55703         311391         55715        Automovil    Rojo      TOYOTA   \n55704         311403         55716  Jeeps y Vanette    Gris        JEEP   \n55705         311736         55717  Jeeps y Vanette  Blanco      TOYOTA   \n55706         311763         55718        Automovil    Rojo      TOYOTA   \n\n             Modelo   Año        Tipo Transmision  \n0             RX350  2014              Automatico  \n1              FUSO  2007       Sincronico_Camión  \n2             D-MAX  2008              Automatico  \n3      LAND CRUISER  2002              Automatico  \n4        MINI TRUCK  2018    Furgoneta_Sincronico  \n...             ...   ...                     ...  \n55702         VERSA  2015          S - Automatico  \n55703       COROLLA  2002              Automatico  \n55704      WRANGLER  2017  Sport 4x4 - Automatico  \n55705    HIGHLANDER  2020         SE - Automatico  \n55706         YARIS  2018       Base - Automatico  \n\n[55707 rows x 8 columns]",
      "text/html": "<div>\n<style scoped>\n    .dataframe tbody tr th:only-of-type {\n        vertical-align: middle;\n    }\n\n    .dataframe tbody tr th {\n        vertical-align: top;\n    }\n\n    .dataframe thead th {\n        text-align: right;\n    }\n</style>\n<table border=\"1\" class=\"dataframe\">\n  <thead>\n    <tr style=\"text-align: right;\">\n      <th></th>\n      <th>CD_PERSONA v2</th>\n      <th>Poliza Id v2</th>\n      <th>TIPO_VEHICULO</th>\n      <th>Color</th>\n      <th>Marca</th>\n      <th>Modelo</th>\n      <th>Año</th>\n      <th>Tipo Transmision</th>\n    </tr>\n  </thead>\n  <tbody>\n    <tr>\n      <th>0</th>\n      <td>240</td>\n      <td>11473</td>\n      <td>Jeeps y Vanette</td>\n      <td>Blanco</td>\n      <td>LEXUS</td>\n      <td>RX350</td>\n      <td>2014</td>\n      <td>Automatico</td>\n    </tr>\n    <tr>\n      <th>1</th>\n      <td>240</td>\n      <td>11474</td>\n      <td>Camion</td>\n      <td>Blanco</td>\n      <td>MITSUBISHI</td>\n      <td>FUSO</td>\n      <td>2007</td>\n      <td>Sincronico_Camión</td>\n    </tr>\n    <tr>\n      <th>2</th>\n      <td>267</td>\n      <td>11475</td>\n      <td>Camioneta</td>\n      <td>Blanco</td>\n      <td>ISUZU</td>\n      <td>D-MAX</td>\n      <td>2008</td>\n      <td>Automatico</td>\n    </tr>\n    <tr>\n      <th>3</th>\n      <td>267</td>\n      <td>11476</td>\n      <td>Jeeps y Vanette</td>\n      <td>Blanco</td>\n      <td>TOYOTA</td>\n      <td>LAND CRUISER</td>\n      <td>2002</td>\n      <td>Automatico</td>\n    </tr>\n    <tr>\n      <th>4</th>\n      <td>267</td>\n      <td>11477</td>\n      <td>Furgoneta</td>\n      <td>Blanco</td>\n      <td>SHINERAY</td>\n      <td>MINI TRUCK</td>\n      <td>2018</td>\n      <td>Furgoneta_Sincronico</td>\n    </tr>\n    <tr>\n      <th>...</th>\n      <td>...</td>\n      <td>...</td>\n      <td>...</td>\n      <td>...</td>\n      <td>...</td>\n      <td>...</td>\n      <td>...</td>\n      <td>...</td>\n    </tr>\n    <tr>\n      <th>55702</th>\n      <td>311349</td>\n      <td>55714</td>\n      <td>Automovil</td>\n      <td>Rojo</td>\n      <td>NISSAN</td>\n      <td>VERSA</td>\n      <td>2015</td>\n      <td>S - Automatico</td>\n    </tr>\n    <tr>\n      <th>55703</th>\n      <td>311391</td>\n      <td>55715</td>\n      <td>Automovil</td>\n      <td>Rojo</td>\n      <td>TOYOTA</td>\n      <td>COROLLA</td>\n      <td>2002</td>\n      <td>Automatico</td>\n    </tr>\n    <tr>\n      <th>55704</th>\n      <td>311403</td>\n      <td>55716</td>\n      <td>Jeeps y Vanette</td>\n      <td>Gris</td>\n      <td>JEEP</td>\n      <td>WRANGLER</td>\n      <td>2017</td>\n      <td>Sport 4x4 - Automatico</td>\n    </tr>\n    <tr>\n      <th>55705</th>\n      <td>311736</td>\n      <td>55717</td>\n      <td>Jeeps y Vanette</td>\n      <td>Blanco</td>\n      <td>TOYOTA</td>\n      <td>HIGHLANDER</td>\n      <td>2020</td>\n      <td>SE - Automatico</td>\n    </tr>\n    <tr>\n      <th>55706</th>\n      <td>311763</td>\n      <td>55718</td>\n      <td>Automovil</td>\n      <td>Rojo</td>\n      <td>TOYOTA</td>\n      <td>YARIS</td>\n      <td>2018</td>\n      <td>Base - Automatico</td>\n    </tr>\n  </tbody>\n</table>\n<p>55707 rows × 8 columns</p>\n</div>"
     },
     "execution_count": 6,
     "metadata": {},
     "output_type": "execute_result"
    }
   ],
   "source": [
    "df_hist_autos"
   ],
   "metadata": {
    "collapsed": false,
    "ExecuteTime": {
     "end_time": "2023-08-19T14:00:46.166394Z",
     "start_time": "2023-08-19T14:00:46.140059Z"
    }
   }
  },
  {
   "cell_type": "code",
   "execution_count": 7,
   "outputs": [],
   "source": [
    "df_hist_siniestros.rename(columns={'CD_PERSONAv2': 'CD_PERSONA v2'}, inplace=True)"
   ],
   "metadata": {
    "collapsed": false,
    "ExecuteTime": {
     "end_time": "2023-08-19T14:00:46.202570Z",
     "start_time": "2023-08-19T14:00:46.145988Z"
    }
   }
  },
  {
   "cell_type": "code",
   "execution_count": 8,
   "outputs": [],
   "source": [
    "df_comb = df_hist_siniestros.merge(df_com_cart_clientes, on=\"CD_PERSONA v2\", how=\"left\")"
   ],
   "metadata": {
    "collapsed": false,
    "ExecuteTime": {
     "end_time": "2023-08-19T14:00:46.246791Z",
     "start_time": "2023-08-19T14:00:46.155952Z"
    }
   }
  },
  {
   "cell_type": "code",
   "execution_count": 9,
   "outputs": [],
   "source": [
    "df_comb = df_comb.merge(df_hist_autos, on=\"Poliza Id v2\", how=\"left\")"
   ],
   "metadata": {
    "collapsed": false,
    "ExecuteTime": {
     "end_time": "2023-08-19T14:00:46.313813Z",
     "start_time": "2023-08-19T14:00:46.204942Z"
    }
   }
  },
  {
   "cell_type": "code",
   "execution_count": 10,
   "outputs": [
    {
     "data": {
      "text/plain": "       ID _ SINIESTRO  CD_PERSONA v2_x FE_OCURRENCIA  Poliza Id v2  \\\n0                   1             7668    2015-05-29             1   \n1                   2            23643    2016-02-12             2   \n2                   3            29730    2016-02-09             3   \n3                   4            14301    2016-02-15             4   \n4                   5            24144    2016-02-03             5   \n...               ...              ...           ...           ...   \n18701           18702           192804    2023-04-04         11379   \n18702           18703           181905    2023-06-03         11470   \n18703           18704           182109    2023-05-22         11471   \n18704           18705           302838    2023-06-01         11472   \n18705           18706           114156    2023-05-06         11311   \n\n       CD_PROVINCIA  CD_CIUDAD  \\\n0              29.0        1.0   \n1              29.0        1.0   \n2               1.0        1.0   \n3               1.0        1.0   \n4               1.0        1.0   \n...             ...        ...   \n18701           1.0        1.0   \n18702           1.0        1.0   \n18703           1.0        1.0   \n18704           1.0        1.0   \n18705          13.0        1.0   \n\n                                     DE_LUGAR_OCURRENCIA  \\\n0                         Siniestro reportado vía cover.   \n1                          C/ MAYAGUEZ URB. VILLAS DUMIT   \n2                                               Barahora   \n3                                        Arroyo Hondo II   \n4                           Avenida Gustavo Mejia Ricart   \n...                                                  ...   \n18701                                  AUTOPISTA DUARTE    \n18702                         LOS MULTIS LOS ALCARRIZOS    \n18703                                  AUTOPISTA DUARTE    \n18704                              CALLE CAMINO CHIQUITO   \n18705  HIGUEY PROXIMO AL COMERCIAL REYNALDO VILLA CER...   \n\n      NU_SINIESTRO_RELACIONADO  IN_FRAUDE  \\\n0                                     0.0   \n1                                     0.0   \n2                                     0.0   \n3                                     0.0   \n4                                     0.0   \n...                        ...        ...   \n18701                                 0.0   \n18702                                 0.0   \n18703                                 0.0   \n18704                                 0.0   \n18705                                 0.0   \n\n                             De_Causa_Siniestro  ...     DE_PROFESION  \\\n0                              Accidente/Choque  ...                0   \n1                              Accidente/Choque  ...                0   \n2        Responsabilidad Civil Personas o Cosas  ...                0   \n3      Robo o Hurto Accesorios/ Partes o Piezas  ...              NaN   \n4                              Accidente/Choque  ...                0   \n...                                         ...  ...              ...   \n18701          Rotura de Vidrios y/o Parabrisas  ...                0   \n18702          Rotura de Vidrios y/o Parabrisas  ...  INGENIERO CIVIL   \n18703          Rotura de Vidrios y/o Parabrisas  ...                0   \n18704                          Accidente/Choque  ...                0   \n18705    Responsabilidad Civil Personas o Cosas  ...                0   \n\n      DE_TIPO_PERSONA     DE_PROVINCIA_y CD_PERSONA v2_y    TIPO_VEHICULO  \\\n0            Juridica                  0          7668.0        Automovil   \n1             Natural                  0         23643.0  Jeeps y Vanette   \n2             Natural                  0         29730.0    Camiones cama   \n3                 NaN                NaN         41469.0  Jeeps y Vanette   \n4            Juridica                  0         24144.0  Jeeps y Vanette   \n...               ...                ...             ...              ...   \n18701        Juridica                  0        192804.0  Jeeps y Vanette   \n18702         Natural         Elías Piña        181905.0        Camioneta   \n18703         Natural                  0        182109.0  Jeeps y Vanette   \n18704         Natural  Distrito Nacional        302838.0        Camioneta   \n18705         Natural                  0        114156.0  Jeeps y Vanette   \n\n        Color     Marca    Modelo     Año  \\\n0      Blanco    TOYOTA     CAMRY  2001.0   \n1        Rojo       KIA  SPORTAGE  2015.0   \n2      Blanco  DAIHATSU     DELTA  2007.0   \n3        Gris       KIA  SPORTAGE  2012.0   \n4      Blanco    TOYOTA     PRADO  2013.0   \n...       ...       ...       ...     ...   \n18701  Blanco      JEEP  WRANGLER  2023.0   \n18702  Blanco     ISUZU     D-MAX  2015.0   \n18703    Azul   HYUNDAI    TUCSON  2014.0   \n18704    Gris    TOYOTA     HILUX  2023.0   \n18705    Gris     LEXUS        RX  2004.0   \n\n                               Tipo Transmision  \n0                               CE - Automatico  \n1                              4x4 - Automatico  \n2                                    Sincronico  \n3                         Base 4x4 - Automatico  \n4                                   %Sincronico  \n...                                         ...  \n18701                 Renegade 4x4 - Automatico  \n18702                                Automatico  \n18703                           GL - Automatico  \n18704  Cabina Sencilla Pick-Up 4x4 - Sincronico  \n18705                          330 - Automatico  \n\n[18706 rows x 44 columns]",
      "text/html": "<div>\n<style scoped>\n    .dataframe tbody tr th:only-of-type {\n        vertical-align: middle;\n    }\n\n    .dataframe tbody tr th {\n        vertical-align: top;\n    }\n\n    .dataframe thead th {\n        text-align: right;\n    }\n</style>\n<table border=\"1\" class=\"dataframe\">\n  <thead>\n    <tr style=\"text-align: right;\">\n      <th></th>\n      <th>ID _ SINIESTRO</th>\n      <th>CD_PERSONA v2_x</th>\n      <th>FE_OCURRENCIA</th>\n      <th>Poliza Id v2</th>\n      <th>CD_PROVINCIA</th>\n      <th>CD_CIUDAD</th>\n      <th>DE_LUGAR_OCURRENCIA</th>\n      <th>NU_SINIESTRO_RELACIONADO</th>\n      <th>IN_FRAUDE</th>\n      <th>De_Causa_Siniestro</th>\n      <th>...</th>\n      <th>DE_PROFESION</th>\n      <th>DE_TIPO_PERSONA</th>\n      <th>DE_PROVINCIA_y</th>\n      <th>CD_PERSONA v2_y</th>\n      <th>TIPO_VEHICULO</th>\n      <th>Color</th>\n      <th>Marca</th>\n      <th>Modelo</th>\n      <th>Año</th>\n      <th>Tipo Transmision</th>\n    </tr>\n  </thead>\n  <tbody>\n    <tr>\n      <th>0</th>\n      <td>1</td>\n      <td>7668</td>\n      <td>2015-05-29</td>\n      <td>1</td>\n      <td>29.0</td>\n      <td>1.0</td>\n      <td>Siniestro reportado vía cover.</td>\n      <td></td>\n      <td>0.0</td>\n      <td>Accidente/Choque</td>\n      <td>...</td>\n      <td>0</td>\n      <td>Juridica</td>\n      <td>0</td>\n      <td>7668.0</td>\n      <td>Automovil</td>\n      <td>Blanco</td>\n      <td>TOYOTA</td>\n      <td>CAMRY</td>\n      <td>2001.0</td>\n      <td>CE - Automatico</td>\n    </tr>\n    <tr>\n      <th>1</th>\n      <td>2</td>\n      <td>23643</td>\n      <td>2016-02-12</td>\n      <td>2</td>\n      <td>29.0</td>\n      <td>1.0</td>\n      <td>C/ MAYAGUEZ URB. VILLAS DUMIT</td>\n      <td></td>\n      <td>0.0</td>\n      <td>Accidente/Choque</td>\n      <td>...</td>\n      <td>0</td>\n      <td>Natural</td>\n      <td>0</td>\n      <td>23643.0</td>\n      <td>Jeeps y Vanette</td>\n      <td>Rojo</td>\n      <td>KIA</td>\n      <td>SPORTAGE</td>\n      <td>2015.0</td>\n      <td>4x4 - Automatico</td>\n    </tr>\n    <tr>\n      <th>2</th>\n      <td>3</td>\n      <td>29730</td>\n      <td>2016-02-09</td>\n      <td>3</td>\n      <td>1.0</td>\n      <td>1.0</td>\n      <td>Barahora</td>\n      <td></td>\n      <td>0.0</td>\n      <td>Responsabilidad Civil Personas o Cosas</td>\n      <td>...</td>\n      <td>0</td>\n      <td>Natural</td>\n      <td>0</td>\n      <td>29730.0</td>\n      <td>Camiones cama</td>\n      <td>Blanco</td>\n      <td>DAIHATSU</td>\n      <td>DELTA</td>\n      <td>2007.0</td>\n      <td>Sincronico</td>\n    </tr>\n    <tr>\n      <th>3</th>\n      <td>4</td>\n      <td>14301</td>\n      <td>2016-02-15</td>\n      <td>4</td>\n      <td>1.0</td>\n      <td>1.0</td>\n      <td>Arroyo Hondo II</td>\n      <td></td>\n      <td>0.0</td>\n      <td>Robo o Hurto Accesorios/ Partes o Piezas</td>\n      <td>...</td>\n      <td>NaN</td>\n      <td>NaN</td>\n      <td>NaN</td>\n      <td>41469.0</td>\n      <td>Jeeps y Vanette</td>\n      <td>Gris</td>\n      <td>KIA</td>\n      <td>SPORTAGE</td>\n      <td>2012.0</td>\n      <td>Base 4x4 - Automatico</td>\n    </tr>\n    <tr>\n      <th>4</th>\n      <td>5</td>\n      <td>24144</td>\n      <td>2016-02-03</td>\n      <td>5</td>\n      <td>1.0</td>\n      <td>1.0</td>\n      <td>Avenida Gustavo Mejia Ricart</td>\n      <td></td>\n      <td>0.0</td>\n      <td>Accidente/Choque</td>\n      <td>...</td>\n      <td>0</td>\n      <td>Juridica</td>\n      <td>0</td>\n      <td>24144.0</td>\n      <td>Jeeps y Vanette</td>\n      <td>Blanco</td>\n      <td>TOYOTA</td>\n      <td>PRADO</td>\n      <td>2013.0</td>\n      <td>%Sincronico</td>\n    </tr>\n    <tr>\n      <th>...</th>\n      <td>...</td>\n      <td>...</td>\n      <td>...</td>\n      <td>...</td>\n      <td>...</td>\n      <td>...</td>\n      <td>...</td>\n      <td>...</td>\n      <td>...</td>\n      <td>...</td>\n      <td>...</td>\n      <td>...</td>\n      <td>...</td>\n      <td>...</td>\n      <td>...</td>\n      <td>...</td>\n      <td>...</td>\n      <td>...</td>\n      <td>...</td>\n      <td>...</td>\n      <td>...</td>\n    </tr>\n    <tr>\n      <th>18701</th>\n      <td>18702</td>\n      <td>192804</td>\n      <td>2023-04-04</td>\n      <td>11379</td>\n      <td>1.0</td>\n      <td>1.0</td>\n      <td>AUTOPISTA DUARTE</td>\n      <td></td>\n      <td>0.0</td>\n      <td>Rotura de Vidrios y/o Parabrisas</td>\n      <td>...</td>\n      <td>0</td>\n      <td>Juridica</td>\n      <td>0</td>\n      <td>192804.0</td>\n      <td>Jeeps y Vanette</td>\n      <td>Blanco</td>\n      <td>JEEP</td>\n      <td>WRANGLER</td>\n      <td>2023.0</td>\n      <td>Renegade 4x4 - Automatico</td>\n    </tr>\n    <tr>\n      <th>18702</th>\n      <td>18703</td>\n      <td>181905</td>\n      <td>2023-06-03</td>\n      <td>11470</td>\n      <td>1.0</td>\n      <td>1.0</td>\n      <td>LOS MULTIS LOS ALCARRIZOS</td>\n      <td></td>\n      <td>0.0</td>\n      <td>Rotura de Vidrios y/o Parabrisas</td>\n      <td>...</td>\n      <td>INGENIERO CIVIL</td>\n      <td>Natural</td>\n      <td>Elías Piña</td>\n      <td>181905.0</td>\n      <td>Camioneta</td>\n      <td>Blanco</td>\n      <td>ISUZU</td>\n      <td>D-MAX</td>\n      <td>2015.0</td>\n      <td>Automatico</td>\n    </tr>\n    <tr>\n      <th>18703</th>\n      <td>18704</td>\n      <td>182109</td>\n      <td>2023-05-22</td>\n      <td>11471</td>\n      <td>1.0</td>\n      <td>1.0</td>\n      <td>AUTOPISTA DUARTE</td>\n      <td></td>\n      <td>0.0</td>\n      <td>Rotura de Vidrios y/o Parabrisas</td>\n      <td>...</td>\n      <td>0</td>\n      <td>Natural</td>\n      <td>0</td>\n      <td>182109.0</td>\n      <td>Jeeps y Vanette</td>\n      <td>Azul</td>\n      <td>HYUNDAI</td>\n      <td>TUCSON</td>\n      <td>2014.0</td>\n      <td>GL - Automatico</td>\n    </tr>\n    <tr>\n      <th>18704</th>\n      <td>18705</td>\n      <td>302838</td>\n      <td>2023-06-01</td>\n      <td>11472</td>\n      <td>1.0</td>\n      <td>1.0</td>\n      <td>CALLE CAMINO CHIQUITO</td>\n      <td></td>\n      <td>0.0</td>\n      <td>Accidente/Choque</td>\n      <td>...</td>\n      <td>0</td>\n      <td>Natural</td>\n      <td>Distrito Nacional</td>\n      <td>302838.0</td>\n      <td>Camioneta</td>\n      <td>Gris</td>\n      <td>TOYOTA</td>\n      <td>HILUX</td>\n      <td>2023.0</td>\n      <td>Cabina Sencilla Pick-Up 4x4 - Sincronico</td>\n    </tr>\n    <tr>\n      <th>18705</th>\n      <td>18706</td>\n      <td>114156</td>\n      <td>2023-05-06</td>\n      <td>11311</td>\n      <td>13.0</td>\n      <td>1.0</td>\n      <td>HIGUEY PROXIMO AL COMERCIAL REYNALDO VILLA CER...</td>\n      <td></td>\n      <td>0.0</td>\n      <td>Responsabilidad Civil Personas o Cosas</td>\n      <td>...</td>\n      <td>0</td>\n      <td>Natural</td>\n      <td>0</td>\n      <td>114156.0</td>\n      <td>Jeeps y Vanette</td>\n      <td>Gris</td>\n      <td>LEXUS</td>\n      <td>RX</td>\n      <td>2004.0</td>\n      <td>330 - Automatico</td>\n    </tr>\n  </tbody>\n</table>\n<p>18706 rows × 44 columns</p>\n</div>"
     },
     "execution_count": 10,
     "metadata": {},
     "output_type": "execute_result"
    }
   ],
   "source": [
    "df_comb"
   ],
   "metadata": {
    "collapsed": false,
    "ExecuteTime": {
     "end_time": "2023-08-19T14:00:46.397956Z",
     "start_time": "2023-08-19T14:00:46.252979Z"
    }
   }
  },
  {
   "cell_type": "code",
   "execution_count": 11,
   "outputs": [
    {
     "name": "stdout",
     "output_type": "stream",
     "text": [
      "<class 'pandas.core.frame.DataFrame'>\n",
      "Int64Index: 18706 entries, 0 to 18705\n",
      "Data columns (total 44 columns):\n",
      " #   Column                         Non-Null Count  Dtype         \n",
      "---  ------                         --------------  -----         \n",
      " 0   ID _ SINIESTRO                 18706 non-null  int64         \n",
      " 1   CD_PERSONA v2_x                18706 non-null  int64         \n",
      " 2   FE_OCURRENCIA                  18706 non-null  datetime64[ns]\n",
      " 3   Poliza Id v2                   18706 non-null  int64         \n",
      " 4   CD_PROVINCIA                   18705 non-null  float64       \n",
      " 5   CD_CIUDAD                      18705 non-null  float64       \n",
      " 6   DE_LUGAR_OCURRENCIA            18495 non-null  object        \n",
      " 7   NU_SINIESTRO_RELACIONADO       18706 non-null  object        \n",
      " 8   IN_FRAUDE                      18070 non-null  float64       \n",
      " 9   De_Causa_Siniestro             18706 non-null  object        \n",
      " 10  De_Causa_Detalle               18706 non-null  object        \n",
      " 11  DE_PROVINCIA_x                 18706 non-null  object        \n",
      " 12  DE_CIUDAD                      18706 non-null  object        \n",
      " 13  HORA_OCURRENCIA                18706 non-null  object        \n",
      " 14  RELACION_RECLAMANTE            18706 non-null  object        \n",
      " 15  EVENTO_CATASTROFICO            18706 non-null  object        \n",
      " 16  TP_DOCUMENTO                   18507 non-null  object        \n",
      " 17  CD_SEXO                        12720 non-null  object        \n",
      " 18  CD_ESTADO_CIVIL                12720 non-null  object        \n",
      " 19  Rango de Edad                  18507 non-null  object        \n",
      " 20  Tiempo desde registro (meses)  18507 non-null  float64       \n",
      " 21  IN_LISTA_NEGRA                 149 non-null    float64       \n",
      " 22  CD_PAIS_NACIMIENTO             13145 non-null  object        \n",
      " 23  CD_NACIONALIDAD                14372 non-null  object        \n",
      " 24  IN_INACTIVO                    2 non-null      float64       \n",
      " 25  FE_INACTIVO                    2 non-null      datetime64[ns]\n",
      " 26  IN_VIP                         10122 non-null  float64       \n",
      " 27  CD_PROVINCIA_NACIMIENTO        2897 non-null   float64       \n",
      " 28  DE_ACT_ECONOMICA_ADICIONAL     213 non-null    object        \n",
      " 29  CD_SUCURSAL_ENVIO              7369 non-null   float64       \n",
      " 30  De_Sector                      18504 non-null  object        \n",
      " 31  De_Ocupacion                   18504 non-null  object        \n",
      " 32  DE_ACTIVIDAD                   18504 non-null  object        \n",
      " 33  DE_INGRESO_ANUAL               18504 non-null  object        \n",
      " 34  DE_PROFESION                   18504 non-null  object        \n",
      " 35  DE_TIPO_PERSONA                18504 non-null  object        \n",
      " 36  DE_PROVINCIA_y                 18504 non-null  object        \n",
      " 37  CD_PERSONA v2_y                18690 non-null  float64       \n",
      " 38  TIPO_VEHICULO                  18690 non-null  object        \n",
      " 39  Color                          18690 non-null  object        \n",
      " 40  Marca                          18690 non-null  object        \n",
      " 41  Modelo                         18690 non-null  object        \n",
      " 42  Año                            18690 non-null  float64       \n",
      " 43  Tipo Transmision               18684 non-null  object        \n",
      "dtypes: datetime64[ns](2), float64(11), int64(3), object(28)\n",
      "memory usage: 6.4+ MB\n"
     ]
    }
   ],
   "source": [
    "df_comb.info()"
   ],
   "metadata": {
    "collapsed": false,
    "ExecuteTime": {
     "end_time": "2023-08-19T14:00:46.405586Z",
     "start_time": "2023-08-19T14:00:46.292038Z"
    }
   }
  },
  {
   "cell_type": "code",
   "execution_count": 12,
   "outputs": [],
   "source": [
    "# Agrupar por fecha y calcular la frecuencia de accidentes por día\n",
    "new_df = df_comb.groupby(\"FE_OCURRENCIA\").size().reset_index(name=\"Frecuencia\")"
   ],
   "metadata": {
    "collapsed": false,
    "ExecuteTime": {
     "end_time": "2023-08-19T14:00:46.429761Z",
     "start_time": "2023-08-19T14:00:46.401375Z"
    }
   }
  },
  {
   "cell_type": "code",
   "execution_count": 13,
   "outputs": [
    {
     "data": {
      "text/plain": "     FE_OCURRENCIA  Frecuencia\n0       2014-07-05           1\n1       2014-07-08           1\n2       2014-07-11           1\n3       2014-07-12           1\n4       2014-07-14           1\n...            ...         ...\n3113    2023-06-30           2\n3114    2023-07-01           3\n3115    2023-07-02           2\n3116    2023-07-03           4\n3117    2023-07-04           4\n\n[3118 rows x 2 columns]",
      "text/html": "<div>\n<style scoped>\n    .dataframe tbody tr th:only-of-type {\n        vertical-align: middle;\n    }\n\n    .dataframe tbody tr th {\n        vertical-align: top;\n    }\n\n    .dataframe thead th {\n        text-align: right;\n    }\n</style>\n<table border=\"1\" class=\"dataframe\">\n  <thead>\n    <tr style=\"text-align: right;\">\n      <th></th>\n      <th>FE_OCURRENCIA</th>\n      <th>Frecuencia</th>\n    </tr>\n  </thead>\n  <tbody>\n    <tr>\n      <th>0</th>\n      <td>2014-07-05</td>\n      <td>1</td>\n    </tr>\n    <tr>\n      <th>1</th>\n      <td>2014-07-08</td>\n      <td>1</td>\n    </tr>\n    <tr>\n      <th>2</th>\n      <td>2014-07-11</td>\n      <td>1</td>\n    </tr>\n    <tr>\n      <th>3</th>\n      <td>2014-07-12</td>\n      <td>1</td>\n    </tr>\n    <tr>\n      <th>4</th>\n      <td>2014-07-14</td>\n      <td>1</td>\n    </tr>\n    <tr>\n      <th>...</th>\n      <td>...</td>\n      <td>...</td>\n    </tr>\n    <tr>\n      <th>3113</th>\n      <td>2023-06-30</td>\n      <td>2</td>\n    </tr>\n    <tr>\n      <th>3114</th>\n      <td>2023-07-01</td>\n      <td>3</td>\n    </tr>\n    <tr>\n      <th>3115</th>\n      <td>2023-07-02</td>\n      <td>2</td>\n    </tr>\n    <tr>\n      <th>3116</th>\n      <td>2023-07-03</td>\n      <td>4</td>\n    </tr>\n    <tr>\n      <th>3117</th>\n      <td>2023-07-04</td>\n      <td>4</td>\n    </tr>\n  </tbody>\n</table>\n<p>3118 rows × 2 columns</p>\n</div>"
     },
     "execution_count": 13,
     "metadata": {},
     "output_type": "execute_result"
    }
   ],
   "source": [
    "new_df"
   ],
   "metadata": {
    "collapsed": false,
    "ExecuteTime": {
     "end_time": "2023-08-19T14:00:46.455310Z",
     "start_time": "2023-08-19T14:00:46.414356Z"
    }
   }
  },
  {
   "cell_type": "code",
   "execution_count": 14,
   "outputs": [],
   "source": [
    "# Agregar columna de día de la semana (0: Lunes, 6: Domingo)\n",
    "new_df[\"DiaSemana\"] = new_df[\"FE_OCURRENCIA\"].dt.dayofweek\n",
    "\n",
    "# Agregar columna de mes (1: Enero, 12: Diciembre)\n",
    "new_df[\"Mes\"] = new_df[\"FE_OCURRENCIA\"].dt.month\n",
    "\n",
    "# Mapear los valores numéricos de día de la semana a nombres\n",
    "dias_semana_nombres = [\"Lunes\", \"Martes\", \"Miércoles\", \"Jueves\", \"Viernes\", \"Sábado\", \"Domingo\"]\n",
    "new_df[\"DiaSemana\"] = new_df[\"DiaSemana\"].map(lambda x: dias_semana_nombres[x])\n",
    "\n",
    "# Mapear los valores numéricos de mes a nombres\n",
    "meses_nombres = [\"Enero\", \"Febrero\", \"Marzo\", \"Abril\", \"Mayo\", \"Junio\", \"Julio\", \"Agosto\", \"Septiembre\", \"Octubre\", \"Noviembre\", \"Diciembre\"]\n",
    "new_df[\"Mes\"] = new_df[\"Mes\"].map(lambda x: meses_nombres[x - 1])"
   ],
   "metadata": {
    "collapsed": false,
    "ExecuteTime": {
     "end_time": "2023-08-19T14:00:46.510086Z",
     "start_time": "2023-08-19T14:00:46.424410Z"
    }
   }
  },
  {
   "cell_type": "code",
   "execution_count": 15,
   "outputs": [
    {
     "data": {
      "text/plain": "     FE_OCURRENCIA  Frecuencia DiaSemana    Mes\n0       2014-07-05           1    Sábado  Julio\n1       2014-07-08           1    Martes  Julio\n2       2014-07-11           1   Viernes  Julio\n3       2014-07-12           1    Sábado  Julio\n4       2014-07-14           1     Lunes  Julio\n...            ...         ...       ...    ...\n3113    2023-06-30           2   Viernes  Junio\n3114    2023-07-01           3    Sábado  Julio\n3115    2023-07-02           2   Domingo  Julio\n3116    2023-07-03           4     Lunes  Julio\n3117    2023-07-04           4    Martes  Julio\n\n[3118 rows x 4 columns]",
      "text/html": "<div>\n<style scoped>\n    .dataframe tbody tr th:only-of-type {\n        vertical-align: middle;\n    }\n\n    .dataframe tbody tr th {\n        vertical-align: top;\n    }\n\n    .dataframe thead th {\n        text-align: right;\n    }\n</style>\n<table border=\"1\" class=\"dataframe\">\n  <thead>\n    <tr style=\"text-align: right;\">\n      <th></th>\n      <th>FE_OCURRENCIA</th>\n      <th>Frecuencia</th>\n      <th>DiaSemana</th>\n      <th>Mes</th>\n    </tr>\n  </thead>\n  <tbody>\n    <tr>\n      <th>0</th>\n      <td>2014-07-05</td>\n      <td>1</td>\n      <td>Sábado</td>\n      <td>Julio</td>\n    </tr>\n    <tr>\n      <th>1</th>\n      <td>2014-07-08</td>\n      <td>1</td>\n      <td>Martes</td>\n      <td>Julio</td>\n    </tr>\n    <tr>\n      <th>2</th>\n      <td>2014-07-11</td>\n      <td>1</td>\n      <td>Viernes</td>\n      <td>Julio</td>\n    </tr>\n    <tr>\n      <th>3</th>\n      <td>2014-07-12</td>\n      <td>1</td>\n      <td>Sábado</td>\n      <td>Julio</td>\n    </tr>\n    <tr>\n      <th>4</th>\n      <td>2014-07-14</td>\n      <td>1</td>\n      <td>Lunes</td>\n      <td>Julio</td>\n    </tr>\n    <tr>\n      <th>...</th>\n      <td>...</td>\n      <td>...</td>\n      <td>...</td>\n      <td>...</td>\n    </tr>\n    <tr>\n      <th>3113</th>\n      <td>2023-06-30</td>\n      <td>2</td>\n      <td>Viernes</td>\n      <td>Junio</td>\n    </tr>\n    <tr>\n      <th>3114</th>\n      <td>2023-07-01</td>\n      <td>3</td>\n      <td>Sábado</td>\n      <td>Julio</td>\n    </tr>\n    <tr>\n      <th>3115</th>\n      <td>2023-07-02</td>\n      <td>2</td>\n      <td>Domingo</td>\n      <td>Julio</td>\n    </tr>\n    <tr>\n      <th>3116</th>\n      <td>2023-07-03</td>\n      <td>4</td>\n      <td>Lunes</td>\n      <td>Julio</td>\n    </tr>\n    <tr>\n      <th>3117</th>\n      <td>2023-07-04</td>\n      <td>4</td>\n      <td>Martes</td>\n      <td>Julio</td>\n    </tr>\n  </tbody>\n</table>\n<p>3118 rows × 4 columns</p>\n</div>"
     },
     "execution_count": 15,
     "metadata": {},
     "output_type": "execute_result"
    }
   ],
   "source": [
    "new_df"
   ],
   "metadata": {
    "collapsed": false,
    "ExecuteTime": {
     "end_time": "2023-08-19T14:00:46.520970Z",
     "start_time": "2023-08-19T14:00:46.450209Z"
    }
   }
  },
  {
   "cell_type": "code",
   "execution_count": 16,
   "outputs": [],
   "source": [
    "# Agregar columna de estación del año\n",
    "def obtener_estacion(mes):\n",
    "    if mes in [12, 1, 2]:\n",
    "        return \"Invierno\"\n",
    "    elif mes in [3, 4, 5]:\n",
    "        return \"Primavera\"\n",
    "    elif mes in [6, 7, 8]:\n",
    "        return \"Verano\"\n",
    "    else:\n",
    "        return \"Otoño\"\n",
    "\n",
    "new_df[\"EstacionA\"] = new_df[\"Mes\"].apply(obtener_estacion)"
   ],
   "metadata": {
    "collapsed": false,
    "ExecuteTime": {
     "end_time": "2023-08-19T14:00:46.542359Z",
     "start_time": "2023-08-19T14:00:46.461200Z"
    }
   }
  },
  {
   "cell_type": "code",
   "execution_count": 17,
   "outputs": [
    {
     "data": {
      "text/plain": "     FE_OCURRENCIA  Frecuencia DiaSemana    Mes EstacionA\n0       2014-07-05           1    Sábado  Julio     Otoño\n1       2014-07-08           1    Martes  Julio     Otoño\n2       2014-07-11           1   Viernes  Julio     Otoño\n3       2014-07-12           1    Sábado  Julio     Otoño\n4       2014-07-14           1     Lunes  Julio     Otoño\n...            ...         ...       ...    ...       ...\n3113    2023-06-30           2   Viernes  Junio     Otoño\n3114    2023-07-01           3    Sábado  Julio     Otoño\n3115    2023-07-02           2   Domingo  Julio     Otoño\n3116    2023-07-03           4     Lunes  Julio     Otoño\n3117    2023-07-04           4    Martes  Julio     Otoño\n\n[3118 rows x 5 columns]",
      "text/html": "<div>\n<style scoped>\n    .dataframe tbody tr th:only-of-type {\n        vertical-align: middle;\n    }\n\n    .dataframe tbody tr th {\n        vertical-align: top;\n    }\n\n    .dataframe thead th {\n        text-align: right;\n    }\n</style>\n<table border=\"1\" class=\"dataframe\">\n  <thead>\n    <tr style=\"text-align: right;\">\n      <th></th>\n      <th>FE_OCURRENCIA</th>\n      <th>Frecuencia</th>\n      <th>DiaSemana</th>\n      <th>Mes</th>\n      <th>EstacionA</th>\n    </tr>\n  </thead>\n  <tbody>\n    <tr>\n      <th>0</th>\n      <td>2014-07-05</td>\n      <td>1</td>\n      <td>Sábado</td>\n      <td>Julio</td>\n      <td>Otoño</td>\n    </tr>\n    <tr>\n      <th>1</th>\n      <td>2014-07-08</td>\n      <td>1</td>\n      <td>Martes</td>\n      <td>Julio</td>\n      <td>Otoño</td>\n    </tr>\n    <tr>\n      <th>2</th>\n      <td>2014-07-11</td>\n      <td>1</td>\n      <td>Viernes</td>\n      <td>Julio</td>\n      <td>Otoño</td>\n    </tr>\n    <tr>\n      <th>3</th>\n      <td>2014-07-12</td>\n      <td>1</td>\n      <td>Sábado</td>\n      <td>Julio</td>\n      <td>Otoño</td>\n    </tr>\n    <tr>\n      <th>4</th>\n      <td>2014-07-14</td>\n      <td>1</td>\n      <td>Lunes</td>\n      <td>Julio</td>\n      <td>Otoño</td>\n    </tr>\n    <tr>\n      <th>...</th>\n      <td>...</td>\n      <td>...</td>\n      <td>...</td>\n      <td>...</td>\n      <td>...</td>\n    </tr>\n    <tr>\n      <th>3113</th>\n      <td>2023-06-30</td>\n      <td>2</td>\n      <td>Viernes</td>\n      <td>Junio</td>\n      <td>Otoño</td>\n    </tr>\n    <tr>\n      <th>3114</th>\n      <td>2023-07-01</td>\n      <td>3</td>\n      <td>Sábado</td>\n      <td>Julio</td>\n      <td>Otoño</td>\n    </tr>\n    <tr>\n      <th>3115</th>\n      <td>2023-07-02</td>\n      <td>2</td>\n      <td>Domingo</td>\n      <td>Julio</td>\n      <td>Otoño</td>\n    </tr>\n    <tr>\n      <th>3116</th>\n      <td>2023-07-03</td>\n      <td>4</td>\n      <td>Lunes</td>\n      <td>Julio</td>\n      <td>Otoño</td>\n    </tr>\n    <tr>\n      <th>3117</th>\n      <td>2023-07-04</td>\n      <td>4</td>\n      <td>Martes</td>\n      <td>Julio</td>\n      <td>Otoño</td>\n    </tr>\n  </tbody>\n</table>\n<p>3118 rows × 5 columns</p>\n</div>"
     },
     "execution_count": 17,
     "metadata": {},
     "output_type": "execute_result"
    }
   ],
   "source": [
    "new_df"
   ],
   "metadata": {
    "collapsed": false,
    "ExecuteTime": {
     "end_time": "2023-08-19T14:00:46.586572Z",
     "start_time": "2023-08-19T14:00:46.473923Z"
    }
   }
  },
  {
   "cell_type": "code",
   "execution_count": 18,
   "outputs": [],
   "source": [
    "# Ordenar el DataFrame por la columna de fechas\n",
    "new_df = new_df.sort_values(by=\"FE_OCURRENCIA\")\n",
    "\n",
    "# Calcular la diferencia en días entre accidentes consecutivos basados en la nueva frecuencia\n",
    "new_df[\"Dias_Desde_Accidente_Anterior\"] = new_df.groupby(\"FE_OCURRENCIA\")[\"FE_OCURRENCIA\"].diff().dt.days\n",
    "\n",
    "# Llenar los valores faltantes con 0, ya que no hay accidente anterior en esos casos\n",
    "new_df[\"Dias_Desde_Accidente_Anterior\"].fillna(0, inplace=True)\n"
   ],
   "metadata": {
    "collapsed": false,
    "ExecuteTime": {
     "end_time": "2023-08-19T14:00:46.586928Z",
     "start_time": "2023-08-19T14:00:46.480105Z"
    }
   }
  },
  {
   "cell_type": "code",
   "execution_count": 19,
   "outputs": [
    {
     "data": {
      "text/plain": "0.0    3118\nName: Dias_Desde_Accidente_Anterior, dtype: int64"
     },
     "execution_count": 19,
     "metadata": {},
     "output_type": "execute_result"
    }
   ],
   "source": [
    "new_df['Dias_Desde_Accidente_Anterior'].value_counts()"
   ],
   "metadata": {
    "collapsed": false,
    "ExecuteTime": {
     "end_time": "2023-08-19T14:00:46.587381Z",
     "start_time": "2023-08-19T14:00:46.489841Z"
    }
   }
  },
  {
   "cell_type": "code",
   "execution_count": 24,
   "outputs": [],
   "source": [
    "# Custom function to convert time string to datetime\n",
    "def custom_time_parser(time_str):\n",
    "    if not time_str.strip():  # Check if the string is empty or contains only spaces\n",
    "        return pd.NaT  # Return a missing value\n",
    "    hour, minute = map(int, time_str.strip().split(\":\"))\n",
    "    return pd.Timestamp(hour=hour, minute=minute)"
   ],
   "metadata": {
    "collapsed": false,
    "ExecuteTime": {
     "end_time": "2023-08-19T14:02:17.993701Z",
     "start_time": "2023-08-19T14:02:17.978695Z"
    }
   }
  },
  {
   "cell_type": "code",
   "execution_count": 21,
   "outputs": [],
   "source": [
    "# Convert the HORA_OCURRENCIA column to datetime using the custom parser\n",
    "df_comb[\"HORA_OCURRENCIA\"] = df_comb[\"HORA_OCURRENCIA\"].apply(custom_time_parser)\n",
    "\n",
    "new_df = df_comb.groupby(\"FE_OCURRENCIA\")[\"HORA_OCURRENCIA\"].mean().reset_index()\n",
    "\n",
    "# Agregar una columna de hora promedio en formato de hora:minuto\n",
    "new_df[\"HORA_OCURRENCIA_PRO\"] = new_df[\"HORA_OCURRENCIA\"].dt.strftime(\"%H:%M\")"
   ],
   "metadata": {
    "collapsed": false,
    "ExecuteTime": {
     "end_time": "2023-08-19T14:00:46.640492Z",
     "start_time": "2023-08-19T14:00:46.528912Z"
    }
   }
  },
  {
   "cell_type": "code",
   "execution_count": 23,
   "outputs": [
    {
     "data": {
      "text/plain": "     FE_OCURRENCIA     HORA_OCURRENCIA HORA_OCURRENCIA_PRO\n0       2014-07-05 1900-01-01 16:00:00               16:00\n1       2014-07-08 1900-01-01 10:30:00               10:30\n2       2014-07-11 1900-01-01 10:00:00               10:00\n3       2014-07-12 1900-01-01 22:00:00               22:00\n4       2014-07-14 1900-01-01 10:00:00               10:00\n...            ...                 ...                 ...\n3113    2023-06-30                 NaT                 NaN\n3114    2023-07-01                 NaT                 NaN\n3115    2023-07-02                 NaT                 NaN\n3116    2023-07-03                 NaT                 NaN\n3117    2023-07-04 1900-01-01 08:15:00               08:15\n\n[3118 rows x 3 columns]",
      "text/html": "<div>\n<style scoped>\n    .dataframe tbody tr th:only-of-type {\n        vertical-align: middle;\n    }\n\n    .dataframe tbody tr th {\n        vertical-align: top;\n    }\n\n    .dataframe thead th {\n        text-align: right;\n    }\n</style>\n<table border=\"1\" class=\"dataframe\">\n  <thead>\n    <tr style=\"text-align: right;\">\n      <th></th>\n      <th>FE_OCURRENCIA</th>\n      <th>HORA_OCURRENCIA</th>\n      <th>HORA_OCURRENCIA_PRO</th>\n    </tr>\n  </thead>\n  <tbody>\n    <tr>\n      <th>0</th>\n      <td>2014-07-05</td>\n      <td>1900-01-01 16:00:00</td>\n      <td>16:00</td>\n    </tr>\n    <tr>\n      <th>1</th>\n      <td>2014-07-08</td>\n      <td>1900-01-01 10:30:00</td>\n      <td>10:30</td>\n    </tr>\n    <tr>\n      <th>2</th>\n      <td>2014-07-11</td>\n      <td>1900-01-01 10:00:00</td>\n      <td>10:00</td>\n    </tr>\n    <tr>\n      <th>3</th>\n      <td>2014-07-12</td>\n      <td>1900-01-01 22:00:00</td>\n      <td>22:00</td>\n    </tr>\n    <tr>\n      <th>4</th>\n      <td>2014-07-14</td>\n      <td>1900-01-01 10:00:00</td>\n      <td>10:00</td>\n    </tr>\n    <tr>\n      <th>...</th>\n      <td>...</td>\n      <td>...</td>\n      <td>...</td>\n    </tr>\n    <tr>\n      <th>3113</th>\n      <td>2023-06-30</td>\n      <td>NaT</td>\n      <td>NaN</td>\n    </tr>\n    <tr>\n      <th>3114</th>\n      <td>2023-07-01</td>\n      <td>NaT</td>\n      <td>NaN</td>\n    </tr>\n    <tr>\n      <th>3115</th>\n      <td>2023-07-02</td>\n      <td>NaT</td>\n      <td>NaN</td>\n    </tr>\n    <tr>\n      <th>3116</th>\n      <td>2023-07-03</td>\n      <td>NaT</td>\n      <td>NaN</td>\n    </tr>\n    <tr>\n      <th>3117</th>\n      <td>2023-07-04</td>\n      <td>1900-01-01 08:15:00</td>\n      <td>08:15</td>\n    </tr>\n  </tbody>\n</table>\n<p>3118 rows × 3 columns</p>\n</div>"
     },
     "execution_count": 23,
     "metadata": {},
     "output_type": "execute_result"
    }
   ],
   "source": [
    "new_df"
   ],
   "metadata": {
    "collapsed": false,
    "ExecuteTime": {
     "end_time": "2023-08-19T14:01:09.135726Z",
     "start_time": "2023-08-19T14:01:09.118660Z"
    }
   }
  },
  {
   "cell_type": "code",
   "execution_count": 16,
   "outputs": [
    {
     "name": "stdout",
     "output_type": "stream",
     "text": [
      "<class 'pandas.core.frame.DataFrame'>\n",
      "RangeIndex: 3118 entries, 0 to 3117\n",
      "Data columns (total 4 columns):\n",
      " #   Column         Non-Null Count  Dtype         \n",
      "---  ------         --------------  -----         \n",
      " 0   FE_OCURRENCIA  3118 non-null   datetime64[ns]\n",
      " 1   Frecuencia     3118 non-null   int64         \n",
      " 2   DiaSemana      3118 non-null   object        \n",
      " 3   Mes            3118 non-null   object        \n",
      "dtypes: datetime64[ns](1), int64(1), object(2)\n",
      "memory usage: 97.6+ KB\n"
     ]
    }
   ],
   "source": [
    "new_df.info()"
   ],
   "metadata": {
    "collapsed": false,
    "ExecuteTime": {
     "end_time": "2023-08-19T13:12:37.402191Z",
     "start_time": "2023-08-19T13:12:37.386773Z"
    }
   }
  },
  {
   "cell_type": "code",
   "execution_count": null,
   "outputs": [],
   "source": [],
   "metadata": {
    "collapsed": false
   }
  }
 ],
 "metadata": {
  "kernelspec": {
   "display_name": "Python 3",
   "language": "python",
   "name": "python3"
  },
  "language_info": {
   "codemirror_mode": {
    "name": "ipython",
    "version": 2
   },
   "file_extension": ".py",
   "mimetype": "text/x-python",
   "name": "python",
   "nbconvert_exporter": "python",
   "pygments_lexer": "ipython2",
   "version": "2.7.6"
  }
 },
 "nbformat": 4,
 "nbformat_minor": 0
}
