{
 "cells": [
  {
   "cell_type": "code",
   "execution_count": 1,
   "metadata": {
    "collapsed": true,
    "ExecuteTime": {
     "end_time": "2023-08-20T08:16:50.113447Z",
     "start_time": "2023-08-20T08:16:48.550779Z"
    }
   },
   "outputs": [],
   "source": [
    "import pandas as pd\n",
    "import numpy as np"
   ]
  },
  {
   "cell_type": "code",
   "execution_count": 2,
   "outputs": [],
   "source": [
    "DATA_PATH = \"../../../data\"\n",
    "df_hist_siniestros = pd.read_excel(DATA_PATH + '/raw/Historico de Siniestros.xlsx')\n",
    "df_com_cart_clientes = pd.read_excel(DATA_PATH + '/raw/Composicion de Cartera de clientes de Auto.xlsx')\n",
    "df_hist_autos = pd.read_excel(DATA_PATH + '/raw/Historico Auto y Caracteristicas de Vehiculo.xlsx')"
   ],
   "metadata": {
    "collapsed": false,
    "ExecuteTime": {
     "end_time": "2023-08-20T08:17:12.370542Z",
     "start_time": "2023-08-20T08:16:50.116087Z"
    }
   }
  },
  {
   "cell_type": "code",
   "execution_count": 3,
   "outputs": [
    {
     "data": {
      "text/plain": "       ID _ SINIESTRO  CD_PERSONAv2 FE_OCURRENCIA  Poliza Id v2  CD_PROVINCIA  \\\n0                   1          7668    2015-05-29             1          29.0   \n1                   2         23643    2016-02-12             2          29.0   \n2                   3         29730    2016-02-09             3           1.0   \n3                   4         14301    2016-02-15             4           1.0   \n4                   5         24144    2016-02-03             5           1.0   \n...               ...           ...           ...           ...           ...   \n18701           18702        192804    2023-04-04         11379           1.0   \n18702           18703        181905    2023-06-03         11470           1.0   \n18703           18704        182109    2023-05-22         11471           1.0   \n18704           18705        302838    2023-06-01         11472           1.0   \n18705           18706        114156    2023-05-06         11311          13.0   \n\n       CD_CIUDAD                                DE_LUGAR_OCURRENCIA  \\\n0            1.0                     Siniestro reportado vía cover.   \n1            1.0                      C/ MAYAGUEZ URB. VILLAS DUMIT   \n2            1.0                                           Barahora   \n3            1.0                                    Arroyo Hondo II   \n4            1.0                       Avenida Gustavo Mejia Ricart   \n...          ...                                                ...   \n18701        1.0                                  AUTOPISTA DUARTE    \n18702        1.0                         LOS MULTIS LOS ALCARRIZOS    \n18703        1.0                                  AUTOPISTA DUARTE    \n18704        1.0                              CALLE CAMINO CHIQUITO   \n18705        1.0  HIGUEY PROXIMO AL COMERCIAL REYNALDO VILLA CER...   \n\n      NU_SINIESTRO_RELACIONADO  IN_FRAUDE  \\\n0                                     0.0   \n1                                     0.0   \n2                                     0.0   \n3                                     0.0   \n4                                     0.0   \n...                        ...        ...   \n18701                                 0.0   \n18702                                 0.0   \n18703                                 0.0   \n18704                                 0.0   \n18705                                 0.0   \n\n                             De_Causa_Siniestro  \\\n0                              Accidente/Choque   \n1                              Accidente/Choque   \n2        Responsabilidad Civil Personas o Cosas   \n3      Robo o Hurto Accesorios/ Partes o Piezas   \n4                              Accidente/Choque   \n...                                         ...   \n18701          Rotura de Vidrios y/o Parabrisas   \n18702          Rotura de Vidrios y/o Parabrisas   \n18703          Rotura de Vidrios y/o Parabrisas   \n18704                          Accidente/Choque   \n18705    Responsabilidad Civil Personas o Cosas   \n\n                                        De_Causa_Detalle       DE_PROVINCIA  \\\n0                                          Choque Simple  Distrito Nacional   \n1                                      Choque con Objeto                      \n2      Lesiones y/o Muerte Pasajero/Terceros/ Daños a...                      \n3                             Robo  Accesorio y/o Piezas  Distrito Nacional   \n4                                               Colision                      \n...                                                  ...                ...   \n18701                                                  0                      \n18702                                                  0                      \n18703                                                  0                      \n18704                                      Choque Simple                      \n18705                  Daños a la Propiedad de Terceros                       \n\n           DE_CIUDAD HORA_OCURRENCIA RELACION_RECLAMANTE EVENTO_CATASTROFICO  \n0      Santo Domingo           17:15                   0                   0  \n1                                                                             \n2                                                                             \n3      Santo Domingo           16:30                   0                   0  \n4                                                                             \n...              ...             ...                 ...                 ...  \n18701                                                                         \n18702                                                                         \n18703                                                                         \n18704                                                                         \n18705                                                                         \n\n[18706 rows x 16 columns]",
      "text/html": "<div>\n<style scoped>\n    .dataframe tbody tr th:only-of-type {\n        vertical-align: middle;\n    }\n\n    .dataframe tbody tr th {\n        vertical-align: top;\n    }\n\n    .dataframe thead th {\n        text-align: right;\n    }\n</style>\n<table border=\"1\" class=\"dataframe\">\n  <thead>\n    <tr style=\"text-align: right;\">\n      <th></th>\n      <th>ID _ SINIESTRO</th>\n      <th>CD_PERSONAv2</th>\n      <th>FE_OCURRENCIA</th>\n      <th>Poliza Id v2</th>\n      <th>CD_PROVINCIA</th>\n      <th>CD_CIUDAD</th>\n      <th>DE_LUGAR_OCURRENCIA</th>\n      <th>NU_SINIESTRO_RELACIONADO</th>\n      <th>IN_FRAUDE</th>\n      <th>De_Causa_Siniestro</th>\n      <th>De_Causa_Detalle</th>\n      <th>DE_PROVINCIA</th>\n      <th>DE_CIUDAD</th>\n      <th>HORA_OCURRENCIA</th>\n      <th>RELACION_RECLAMANTE</th>\n      <th>EVENTO_CATASTROFICO</th>\n    </tr>\n  </thead>\n  <tbody>\n    <tr>\n      <th>0</th>\n      <td>1</td>\n      <td>7668</td>\n      <td>2015-05-29</td>\n      <td>1</td>\n      <td>29.0</td>\n      <td>1.0</td>\n      <td>Siniestro reportado vía cover.</td>\n      <td></td>\n      <td>0.0</td>\n      <td>Accidente/Choque</td>\n      <td>Choque Simple</td>\n      <td>Distrito Nacional</td>\n      <td>Santo Domingo</td>\n      <td>17:15</td>\n      <td>0</td>\n      <td>0</td>\n    </tr>\n    <tr>\n      <th>1</th>\n      <td>2</td>\n      <td>23643</td>\n      <td>2016-02-12</td>\n      <td>2</td>\n      <td>29.0</td>\n      <td>1.0</td>\n      <td>C/ MAYAGUEZ URB. VILLAS DUMIT</td>\n      <td></td>\n      <td>0.0</td>\n      <td>Accidente/Choque</td>\n      <td>Choque con Objeto</td>\n      <td></td>\n      <td></td>\n      <td></td>\n      <td></td>\n      <td></td>\n    </tr>\n    <tr>\n      <th>2</th>\n      <td>3</td>\n      <td>29730</td>\n      <td>2016-02-09</td>\n      <td>3</td>\n      <td>1.0</td>\n      <td>1.0</td>\n      <td>Barahora</td>\n      <td></td>\n      <td>0.0</td>\n      <td>Responsabilidad Civil Personas o Cosas</td>\n      <td>Lesiones y/o Muerte Pasajero/Terceros/ Daños a...</td>\n      <td></td>\n      <td></td>\n      <td></td>\n      <td></td>\n      <td></td>\n    </tr>\n    <tr>\n      <th>3</th>\n      <td>4</td>\n      <td>14301</td>\n      <td>2016-02-15</td>\n      <td>4</td>\n      <td>1.0</td>\n      <td>1.0</td>\n      <td>Arroyo Hondo II</td>\n      <td></td>\n      <td>0.0</td>\n      <td>Robo o Hurto Accesorios/ Partes o Piezas</td>\n      <td>Robo  Accesorio y/o Piezas</td>\n      <td>Distrito Nacional</td>\n      <td>Santo Domingo</td>\n      <td>16:30</td>\n      <td>0</td>\n      <td>0</td>\n    </tr>\n    <tr>\n      <th>4</th>\n      <td>5</td>\n      <td>24144</td>\n      <td>2016-02-03</td>\n      <td>5</td>\n      <td>1.0</td>\n      <td>1.0</td>\n      <td>Avenida Gustavo Mejia Ricart</td>\n      <td></td>\n      <td>0.0</td>\n      <td>Accidente/Choque</td>\n      <td>Colision</td>\n      <td></td>\n      <td></td>\n      <td></td>\n      <td></td>\n      <td></td>\n    </tr>\n    <tr>\n      <th>...</th>\n      <td>...</td>\n      <td>...</td>\n      <td>...</td>\n      <td>...</td>\n      <td>...</td>\n      <td>...</td>\n      <td>...</td>\n      <td>...</td>\n      <td>...</td>\n      <td>...</td>\n      <td>...</td>\n      <td>...</td>\n      <td>...</td>\n      <td>...</td>\n      <td>...</td>\n      <td>...</td>\n    </tr>\n    <tr>\n      <th>18701</th>\n      <td>18702</td>\n      <td>192804</td>\n      <td>2023-04-04</td>\n      <td>11379</td>\n      <td>1.0</td>\n      <td>1.0</td>\n      <td>AUTOPISTA DUARTE</td>\n      <td></td>\n      <td>0.0</td>\n      <td>Rotura de Vidrios y/o Parabrisas</td>\n      <td>0</td>\n      <td></td>\n      <td></td>\n      <td></td>\n      <td></td>\n      <td></td>\n    </tr>\n    <tr>\n      <th>18702</th>\n      <td>18703</td>\n      <td>181905</td>\n      <td>2023-06-03</td>\n      <td>11470</td>\n      <td>1.0</td>\n      <td>1.0</td>\n      <td>LOS MULTIS LOS ALCARRIZOS</td>\n      <td></td>\n      <td>0.0</td>\n      <td>Rotura de Vidrios y/o Parabrisas</td>\n      <td>0</td>\n      <td></td>\n      <td></td>\n      <td></td>\n      <td></td>\n      <td></td>\n    </tr>\n    <tr>\n      <th>18703</th>\n      <td>18704</td>\n      <td>182109</td>\n      <td>2023-05-22</td>\n      <td>11471</td>\n      <td>1.0</td>\n      <td>1.0</td>\n      <td>AUTOPISTA DUARTE</td>\n      <td></td>\n      <td>0.0</td>\n      <td>Rotura de Vidrios y/o Parabrisas</td>\n      <td>0</td>\n      <td></td>\n      <td></td>\n      <td></td>\n      <td></td>\n      <td></td>\n    </tr>\n    <tr>\n      <th>18704</th>\n      <td>18705</td>\n      <td>302838</td>\n      <td>2023-06-01</td>\n      <td>11472</td>\n      <td>1.0</td>\n      <td>1.0</td>\n      <td>CALLE CAMINO CHIQUITO</td>\n      <td></td>\n      <td>0.0</td>\n      <td>Accidente/Choque</td>\n      <td>Choque Simple</td>\n      <td></td>\n      <td></td>\n      <td></td>\n      <td></td>\n      <td></td>\n    </tr>\n    <tr>\n      <th>18705</th>\n      <td>18706</td>\n      <td>114156</td>\n      <td>2023-05-06</td>\n      <td>11311</td>\n      <td>13.0</td>\n      <td>1.0</td>\n      <td>HIGUEY PROXIMO AL COMERCIAL REYNALDO VILLA CER...</td>\n      <td></td>\n      <td>0.0</td>\n      <td>Responsabilidad Civil Personas o Cosas</td>\n      <td>Daños a la Propiedad de Terceros</td>\n      <td></td>\n      <td></td>\n      <td></td>\n      <td></td>\n      <td></td>\n    </tr>\n  </tbody>\n</table>\n<p>18706 rows × 16 columns</p>\n</div>"
     },
     "execution_count": 3,
     "metadata": {},
     "output_type": "execute_result"
    }
   ],
   "source": [
    "df_hist_siniestros"
   ],
   "metadata": {
    "collapsed": false,
    "ExecuteTime": {
     "end_time": "2023-08-20T08:17:12.408430Z",
     "start_time": "2023-08-20T08:17:12.378038Z"
    }
   }
  },
  {
   "cell_type": "code",
   "execution_count": 4,
   "outputs": [
    {
     "data": {
      "text/plain": "array(['Distrito Nacional', ' ', 'Santiago', 'La Altagracia',\n       'Santo Domingo', 'La Romana', 'La Vega', 'San Cristóbal', 'Duarte',\n       'Puerto Plata', 'Montecristi', 'Sánchez Ramírez', 'Espaillat',\n       'Monseñor Nouel', 'María Trinidad Sánchez', 'Valverde',\n       'San Pedro de Macorís', 'Azua', 'Samaná', 0, 'Dajabón'],\n      dtype=object)"
     },
     "execution_count": 4,
     "metadata": {},
     "output_type": "execute_result"
    }
   ],
   "source": [
    "df_hist_siniestros['DE_PROVINCIA'].unique()"
   ],
   "metadata": {
    "collapsed": false,
    "ExecuteTime": {
     "end_time": "2023-08-20T08:17:12.483437Z",
     "start_time": "2023-08-20T08:17:12.421433Z"
    }
   }
  },
  {
   "cell_type": "code",
   "execution_count": 5,
   "outputs": [
    {
     "data": {
      "text/plain": "0"
     },
     "execution_count": 5,
     "metadata": {},
     "output_type": "execute_result"
    }
   ],
   "source": [
    "df_hist_siniestros['NU_SINIESTRO_RELACIONADO'].isnull().sum()"
   ],
   "metadata": {
    "collapsed": false,
    "ExecuteTime": {
     "end_time": "2023-08-20T08:17:12.483828Z",
     "start_time": "2023-08-20T08:17:12.437316Z"
    }
   }
  },
  {
   "cell_type": "code",
   "execution_count": 6,
   "outputs": [
    {
     "data": {
      "text/plain": "array([29.,  1., 13., 22.,  6., 17., 15., 18.,  9., 21., 23., 27., 16.,\n       32., 25.,  5., 28., 30., 19.,  2., nan, 24., 31., 14.,  4., 11.,\n       10.,  3., 26.,  8.,  7.])"
     },
     "execution_count": 6,
     "metadata": {},
     "output_type": "execute_result"
    }
   ],
   "source": [
    "df_hist_siniestros['CD_PROVINCIA'].unique()"
   ],
   "metadata": {
    "collapsed": false,
    "ExecuteTime": {
     "end_time": "2023-08-20T08:17:12.484305Z",
     "start_time": "2023-08-20T08:17:12.448990Z"
    }
   }
  },
  {
   "cell_type": "code",
   "execution_count": 7,
   "outputs": [
    {
     "data": {
      "text/plain": "       CD_PERSONA v2 TP_DOCUMENTO CD_SEXO CD_ESTADO_CIVIL   Rango de Edad  \\\n0                240          RNC     NaN             NaN                   \n1                267          RNC     NaN             NaN                   \n2                270          RNC     NaN             NaN                   \n3                279          RNC     NaN             NaN                   \n4                288          RNC     NaN             NaN                   \n...              ...          ...     ...             ...             ...   \n28481         308598          CED       M               S  7- Rango 66-75   \n28482         308604          CED       M               S  2- Rango 18-25   \n28483         308610          CED       M               S  3- Rango 26-35   \n28484         308613          CED       F               C  4- Rango 36-45   \n28485         308619          CED       M               S  5- Rango 46-55   \n\n       Tiempo desde registro (meses)  IN_LISTA_NEGRA CD_PAIS_NACIMIENTO  \\\n0                                108             NaN                NaN   \n1                               1476             NaN                NaN   \n2                               1476             NaN                NaN   \n3                               1476             1.0                NaN   \n4                               1476             NaN                NaN   \n...                              ...             ...                ...   \n28481                           1476             NaN                DOM   \n28482                           1476             NaN                DOM   \n28483                           1476             NaN                DOM   \n28484                           1476             NaN                DOM   \n28485                           1476             NaN                DOM   \n\n      CD_NACIONALIDAD  IN_INACTIVO  ... CD_PROVINCIA_NACIMIENTO  \\\n0                 NaN          NaN  ...                     NaN   \n1                 NaN          NaN  ...                     NaN   \n2                 NaN          NaN  ...                     NaN   \n3                 NaN          NaN  ...                     NaN   \n4                 NaN          NaN  ...                     NaN   \n...               ...          ...  ...                     ...   \n28481             DOM          NaN  ...                     1.0   \n28482             DOM          NaN  ...                    17.0   \n28483             DOM          NaN  ...                    13.0   \n28484             DOM          NaN  ...                     NaN   \n28485             DOM          NaN  ...                     NaN   \n\n       DE_ACT_ECONOMICA_ADICIONAL  CD_SUCURSAL_ENVIO   De_Sector  \\\n0                             NaN                1.0  Industrial   \n1                             NaN                NaN           0   \n2                             NaN                NaN           0   \n3                             NaN                NaN           0   \n4                             NaN                NaN           0   \n...                           ...                ...         ...   \n28481                         NaN                1.0           0   \n28482                         NaN                1.0           0   \n28483                         NaN                3.0           0   \n28484                         NaN                1.0           0   \n28485                         NaN                1.0           0   \n\n                     De_Ocupacion DE_ACTIVIDAD DE_INGRESO_ANUAL  \\\n0                               0            0                0   \n1                               0            0                0   \n2                               0            0                0   \n3                               0            0                0   \n4                               0            0                0   \n...                           ...          ...              ...   \n28481                           0            0                0   \n28482                           0            0                0   \n28483  INMOBILIARIA, EMPLEADOS DE            0                0   \n28484                           0            0                0   \n28485                           0            0                0   \n\n                     DE_PROFESION DE_TIPO_PERSONA       DE_PROVINCIA  \n0                               0        Juridica                  0  \n1                               0        Juridica                  0  \n2                               0        Juridica                  0  \n3                               0        Juridica                  0  \n4                               0        Juridica                  0  \n...                           ...             ...                ...  \n28481                           0         Natural  Distrito Nacional  \n28482                           0         Natural     Monseñor Nouel  \n28483  INMOBILIARIA, EMPLEADOS DE         Natural      La Altagracia  \n28484                           0         Natural                  0  \n28485                           0         Natural                  0  \n\n[28486 rows x 22 columns]",
      "text/html": "<div>\n<style scoped>\n    .dataframe tbody tr th:only-of-type {\n        vertical-align: middle;\n    }\n\n    .dataframe tbody tr th {\n        vertical-align: top;\n    }\n\n    .dataframe thead th {\n        text-align: right;\n    }\n</style>\n<table border=\"1\" class=\"dataframe\">\n  <thead>\n    <tr style=\"text-align: right;\">\n      <th></th>\n      <th>CD_PERSONA v2</th>\n      <th>TP_DOCUMENTO</th>\n      <th>CD_SEXO</th>\n      <th>CD_ESTADO_CIVIL</th>\n      <th>Rango de Edad</th>\n      <th>Tiempo desde registro (meses)</th>\n      <th>IN_LISTA_NEGRA</th>\n      <th>CD_PAIS_NACIMIENTO</th>\n      <th>CD_NACIONALIDAD</th>\n      <th>IN_INACTIVO</th>\n      <th>...</th>\n      <th>CD_PROVINCIA_NACIMIENTO</th>\n      <th>DE_ACT_ECONOMICA_ADICIONAL</th>\n      <th>CD_SUCURSAL_ENVIO</th>\n      <th>De_Sector</th>\n      <th>De_Ocupacion</th>\n      <th>DE_ACTIVIDAD</th>\n      <th>DE_INGRESO_ANUAL</th>\n      <th>DE_PROFESION</th>\n      <th>DE_TIPO_PERSONA</th>\n      <th>DE_PROVINCIA</th>\n    </tr>\n  </thead>\n  <tbody>\n    <tr>\n      <th>0</th>\n      <td>240</td>\n      <td>RNC</td>\n      <td>NaN</td>\n      <td>NaN</td>\n      <td></td>\n      <td>108</td>\n      <td>NaN</td>\n      <td>NaN</td>\n      <td>NaN</td>\n      <td>NaN</td>\n      <td>...</td>\n      <td>NaN</td>\n      <td>NaN</td>\n      <td>1.0</td>\n      <td>Industrial</td>\n      <td>0</td>\n      <td>0</td>\n      <td>0</td>\n      <td>0</td>\n      <td>Juridica</td>\n      <td>0</td>\n    </tr>\n    <tr>\n      <th>1</th>\n      <td>267</td>\n      <td>RNC</td>\n      <td>NaN</td>\n      <td>NaN</td>\n      <td></td>\n      <td>1476</td>\n      <td>NaN</td>\n      <td>NaN</td>\n      <td>NaN</td>\n      <td>NaN</td>\n      <td>...</td>\n      <td>NaN</td>\n      <td>NaN</td>\n      <td>NaN</td>\n      <td>0</td>\n      <td>0</td>\n      <td>0</td>\n      <td>0</td>\n      <td>0</td>\n      <td>Juridica</td>\n      <td>0</td>\n    </tr>\n    <tr>\n      <th>2</th>\n      <td>270</td>\n      <td>RNC</td>\n      <td>NaN</td>\n      <td>NaN</td>\n      <td></td>\n      <td>1476</td>\n      <td>NaN</td>\n      <td>NaN</td>\n      <td>NaN</td>\n      <td>NaN</td>\n      <td>...</td>\n      <td>NaN</td>\n      <td>NaN</td>\n      <td>NaN</td>\n      <td>0</td>\n      <td>0</td>\n      <td>0</td>\n      <td>0</td>\n      <td>0</td>\n      <td>Juridica</td>\n      <td>0</td>\n    </tr>\n    <tr>\n      <th>3</th>\n      <td>279</td>\n      <td>RNC</td>\n      <td>NaN</td>\n      <td>NaN</td>\n      <td></td>\n      <td>1476</td>\n      <td>1.0</td>\n      <td>NaN</td>\n      <td>NaN</td>\n      <td>NaN</td>\n      <td>...</td>\n      <td>NaN</td>\n      <td>NaN</td>\n      <td>NaN</td>\n      <td>0</td>\n      <td>0</td>\n      <td>0</td>\n      <td>0</td>\n      <td>0</td>\n      <td>Juridica</td>\n      <td>0</td>\n    </tr>\n    <tr>\n      <th>4</th>\n      <td>288</td>\n      <td>RNC</td>\n      <td>NaN</td>\n      <td>NaN</td>\n      <td></td>\n      <td>1476</td>\n      <td>NaN</td>\n      <td>NaN</td>\n      <td>NaN</td>\n      <td>NaN</td>\n      <td>...</td>\n      <td>NaN</td>\n      <td>NaN</td>\n      <td>NaN</td>\n      <td>0</td>\n      <td>0</td>\n      <td>0</td>\n      <td>0</td>\n      <td>0</td>\n      <td>Juridica</td>\n      <td>0</td>\n    </tr>\n    <tr>\n      <th>...</th>\n      <td>...</td>\n      <td>...</td>\n      <td>...</td>\n      <td>...</td>\n      <td>...</td>\n      <td>...</td>\n      <td>...</td>\n      <td>...</td>\n      <td>...</td>\n      <td>...</td>\n      <td>...</td>\n      <td>...</td>\n      <td>...</td>\n      <td>...</td>\n      <td>...</td>\n      <td>...</td>\n      <td>...</td>\n      <td>...</td>\n      <td>...</td>\n      <td>...</td>\n      <td>...</td>\n    </tr>\n    <tr>\n      <th>28481</th>\n      <td>308598</td>\n      <td>CED</td>\n      <td>M</td>\n      <td>S</td>\n      <td>7- Rango 66-75</td>\n      <td>1476</td>\n      <td>NaN</td>\n      <td>DOM</td>\n      <td>DOM</td>\n      <td>NaN</td>\n      <td>...</td>\n      <td>1.0</td>\n      <td>NaN</td>\n      <td>1.0</td>\n      <td>0</td>\n      <td>0</td>\n      <td>0</td>\n      <td>0</td>\n      <td>0</td>\n      <td>Natural</td>\n      <td>Distrito Nacional</td>\n    </tr>\n    <tr>\n      <th>28482</th>\n      <td>308604</td>\n      <td>CED</td>\n      <td>M</td>\n      <td>S</td>\n      <td>2- Rango 18-25</td>\n      <td>1476</td>\n      <td>NaN</td>\n      <td>DOM</td>\n      <td>DOM</td>\n      <td>NaN</td>\n      <td>...</td>\n      <td>17.0</td>\n      <td>NaN</td>\n      <td>1.0</td>\n      <td>0</td>\n      <td>0</td>\n      <td>0</td>\n      <td>0</td>\n      <td>0</td>\n      <td>Natural</td>\n      <td>Monseñor Nouel</td>\n    </tr>\n    <tr>\n      <th>28483</th>\n      <td>308610</td>\n      <td>CED</td>\n      <td>M</td>\n      <td>S</td>\n      <td>3- Rango 26-35</td>\n      <td>1476</td>\n      <td>NaN</td>\n      <td>DOM</td>\n      <td>DOM</td>\n      <td>NaN</td>\n      <td>...</td>\n      <td>13.0</td>\n      <td>NaN</td>\n      <td>3.0</td>\n      <td>0</td>\n      <td>INMOBILIARIA, EMPLEADOS DE</td>\n      <td>0</td>\n      <td>0</td>\n      <td>INMOBILIARIA, EMPLEADOS DE</td>\n      <td>Natural</td>\n      <td>La Altagracia</td>\n    </tr>\n    <tr>\n      <th>28484</th>\n      <td>308613</td>\n      <td>CED</td>\n      <td>F</td>\n      <td>C</td>\n      <td>4- Rango 36-45</td>\n      <td>1476</td>\n      <td>NaN</td>\n      <td>DOM</td>\n      <td>DOM</td>\n      <td>NaN</td>\n      <td>...</td>\n      <td>NaN</td>\n      <td>NaN</td>\n      <td>1.0</td>\n      <td>0</td>\n      <td>0</td>\n      <td>0</td>\n      <td>0</td>\n      <td>0</td>\n      <td>Natural</td>\n      <td>0</td>\n    </tr>\n    <tr>\n      <th>28485</th>\n      <td>308619</td>\n      <td>CED</td>\n      <td>M</td>\n      <td>S</td>\n      <td>5- Rango 46-55</td>\n      <td>1476</td>\n      <td>NaN</td>\n      <td>DOM</td>\n      <td>DOM</td>\n      <td>NaN</td>\n      <td>...</td>\n      <td>NaN</td>\n      <td>NaN</td>\n      <td>1.0</td>\n      <td>0</td>\n      <td>0</td>\n      <td>0</td>\n      <td>0</td>\n      <td>0</td>\n      <td>Natural</td>\n      <td>0</td>\n    </tr>\n  </tbody>\n</table>\n<p>28486 rows × 22 columns</p>\n</div>"
     },
     "execution_count": 7,
     "metadata": {},
     "output_type": "execute_result"
    }
   ],
   "source": [
    "df_com_cart_clientes"
   ],
   "metadata": {
    "collapsed": false,
    "ExecuteTime": {
     "end_time": "2023-08-20T08:17:12.741158Z",
     "start_time": "2023-08-20T08:17:12.462197Z"
    }
   }
  },
  {
   "cell_type": "code",
   "execution_count": 8,
   "outputs": [
    {
     "data": {
      "text/plain": "CED    24083\nRNC     3368\nPAS     1033\nP          2\nName: TP_DOCUMENTO, dtype: int64"
     },
     "execution_count": 8,
     "metadata": {},
     "output_type": "execute_result"
    }
   ],
   "source": [
    "df_com_cart_clientes['TP_DOCUMENTO'].value_counts()"
   ],
   "metadata": {
    "collapsed": false,
    "ExecuteTime": {
     "end_time": "2023-08-20T08:17:12.746126Z",
     "start_time": "2023-08-20T08:17:12.533547Z"
    }
   }
  },
  {
   "cell_type": "code",
   "execution_count": 9,
   "outputs": [
    {
     "data": {
      "text/plain": "       CD_PERSONA v2  Poliza Id v2    TIPO_VEHICULO   Color       Marca  \\\n0                240         11473  Jeeps y Vanette  Blanco       LEXUS   \n1                240         11474           Camion  Blanco  MITSUBISHI   \n2                267         11475        Camioneta  Blanco       ISUZU   \n3                267         11476  Jeeps y Vanette  Blanco      TOYOTA   \n4                267         11477        Furgoneta  Blanco    SHINERAY   \n...              ...           ...              ...     ...         ...   \n55702         311349         55714        Automovil    Rojo      NISSAN   \n55703         311391         55715        Automovil    Rojo      TOYOTA   \n55704         311403         55716  Jeeps y Vanette    Gris        JEEP   \n55705         311736         55717  Jeeps y Vanette  Blanco      TOYOTA   \n55706         311763         55718        Automovil    Rojo      TOYOTA   \n\n             Modelo   Año        Tipo Transmision  \n0             RX350  2014              Automatico  \n1              FUSO  2007       Sincronico_Camión  \n2             D-MAX  2008              Automatico  \n3      LAND CRUISER  2002              Automatico  \n4        MINI TRUCK  2018    Furgoneta_Sincronico  \n...             ...   ...                     ...  \n55702         VERSA  2015          S - Automatico  \n55703       COROLLA  2002              Automatico  \n55704      WRANGLER  2017  Sport 4x4 - Automatico  \n55705    HIGHLANDER  2020         SE - Automatico  \n55706         YARIS  2018       Base - Automatico  \n\n[55707 rows x 8 columns]",
      "text/html": "<div>\n<style scoped>\n    .dataframe tbody tr th:only-of-type {\n        vertical-align: middle;\n    }\n\n    .dataframe tbody tr th {\n        vertical-align: top;\n    }\n\n    .dataframe thead th {\n        text-align: right;\n    }\n</style>\n<table border=\"1\" class=\"dataframe\">\n  <thead>\n    <tr style=\"text-align: right;\">\n      <th></th>\n      <th>CD_PERSONA v2</th>\n      <th>Poliza Id v2</th>\n      <th>TIPO_VEHICULO</th>\n      <th>Color</th>\n      <th>Marca</th>\n      <th>Modelo</th>\n      <th>Año</th>\n      <th>Tipo Transmision</th>\n    </tr>\n  </thead>\n  <tbody>\n    <tr>\n      <th>0</th>\n      <td>240</td>\n      <td>11473</td>\n      <td>Jeeps y Vanette</td>\n      <td>Blanco</td>\n      <td>LEXUS</td>\n      <td>RX350</td>\n      <td>2014</td>\n      <td>Automatico</td>\n    </tr>\n    <tr>\n      <th>1</th>\n      <td>240</td>\n      <td>11474</td>\n      <td>Camion</td>\n      <td>Blanco</td>\n      <td>MITSUBISHI</td>\n      <td>FUSO</td>\n      <td>2007</td>\n      <td>Sincronico_Camión</td>\n    </tr>\n    <tr>\n      <th>2</th>\n      <td>267</td>\n      <td>11475</td>\n      <td>Camioneta</td>\n      <td>Blanco</td>\n      <td>ISUZU</td>\n      <td>D-MAX</td>\n      <td>2008</td>\n      <td>Automatico</td>\n    </tr>\n    <tr>\n      <th>3</th>\n      <td>267</td>\n      <td>11476</td>\n      <td>Jeeps y Vanette</td>\n      <td>Blanco</td>\n      <td>TOYOTA</td>\n      <td>LAND CRUISER</td>\n      <td>2002</td>\n      <td>Automatico</td>\n    </tr>\n    <tr>\n      <th>4</th>\n      <td>267</td>\n      <td>11477</td>\n      <td>Furgoneta</td>\n      <td>Blanco</td>\n      <td>SHINERAY</td>\n      <td>MINI TRUCK</td>\n      <td>2018</td>\n      <td>Furgoneta_Sincronico</td>\n    </tr>\n    <tr>\n      <th>...</th>\n      <td>...</td>\n      <td>...</td>\n      <td>...</td>\n      <td>...</td>\n      <td>...</td>\n      <td>...</td>\n      <td>...</td>\n      <td>...</td>\n    </tr>\n    <tr>\n      <th>55702</th>\n      <td>311349</td>\n      <td>55714</td>\n      <td>Automovil</td>\n      <td>Rojo</td>\n      <td>NISSAN</td>\n      <td>VERSA</td>\n      <td>2015</td>\n      <td>S - Automatico</td>\n    </tr>\n    <tr>\n      <th>55703</th>\n      <td>311391</td>\n      <td>55715</td>\n      <td>Automovil</td>\n      <td>Rojo</td>\n      <td>TOYOTA</td>\n      <td>COROLLA</td>\n      <td>2002</td>\n      <td>Automatico</td>\n    </tr>\n    <tr>\n      <th>55704</th>\n      <td>311403</td>\n      <td>55716</td>\n      <td>Jeeps y Vanette</td>\n      <td>Gris</td>\n      <td>JEEP</td>\n      <td>WRANGLER</td>\n      <td>2017</td>\n      <td>Sport 4x4 - Automatico</td>\n    </tr>\n    <tr>\n      <th>55705</th>\n      <td>311736</td>\n      <td>55717</td>\n      <td>Jeeps y Vanette</td>\n      <td>Blanco</td>\n      <td>TOYOTA</td>\n      <td>HIGHLANDER</td>\n      <td>2020</td>\n      <td>SE - Automatico</td>\n    </tr>\n    <tr>\n      <th>55706</th>\n      <td>311763</td>\n      <td>55718</td>\n      <td>Automovil</td>\n      <td>Rojo</td>\n      <td>TOYOTA</td>\n      <td>YARIS</td>\n      <td>2018</td>\n      <td>Base - Automatico</td>\n    </tr>\n  </tbody>\n</table>\n<p>55707 rows × 8 columns</p>\n</div>"
     },
     "execution_count": 9,
     "metadata": {},
     "output_type": "execute_result"
    }
   ],
   "source": [
    "df_hist_autos"
   ],
   "metadata": {
    "collapsed": false,
    "ExecuteTime": {
     "end_time": "2023-08-20T08:17:12.746305Z",
     "start_time": "2023-08-20T08:17:12.536638Z"
    }
   }
  },
  {
   "cell_type": "code",
   "execution_count": 10,
   "outputs": [],
   "source": [
    "df_hist_siniestros.rename(columns={'CD_PERSONAv2': 'CD_PERSONA v2'}, inplace=True)"
   ],
   "metadata": {
    "collapsed": false,
    "ExecuteTime": {
     "end_time": "2023-08-20T08:17:12.746428Z",
     "start_time": "2023-08-20T08:17:12.544392Z"
    }
   }
  },
  {
   "cell_type": "code",
   "execution_count": 11,
   "outputs": [],
   "source": [
    "df_comb = df_hist_siniestros.merge(df_com_cart_clientes, on=\"CD_PERSONA v2\", how=\"left\")"
   ],
   "metadata": {
    "collapsed": false,
    "ExecuteTime": {
     "end_time": "2023-08-20T08:17:12.746851Z",
     "start_time": "2023-08-20T08:17:12.554711Z"
    }
   }
  },
  {
   "cell_type": "code",
   "execution_count": 12,
   "outputs": [],
   "source": [
    "df_comb = df_comb.merge(df_hist_autos, on=\"Poliza Id v2\", how=\"left\")"
   ],
   "metadata": {
    "collapsed": false,
    "ExecuteTime": {
     "end_time": "2023-08-20T08:17:12.747196Z",
     "start_time": "2023-08-20T08:17:12.596217Z"
    }
   }
  },
  {
   "cell_type": "code",
   "execution_count": 13,
   "outputs": [
    {
     "data": {
      "text/plain": "       ID _ SINIESTRO  CD_PERSONA v2_x FE_OCURRENCIA  Poliza Id v2  \\\n0                   1             7668    2015-05-29             1   \n1                   2            23643    2016-02-12             2   \n2                   3            29730    2016-02-09             3   \n3                   4            14301    2016-02-15             4   \n4                   5            24144    2016-02-03             5   \n...               ...              ...           ...           ...   \n18701           18702           192804    2023-04-04         11379   \n18702           18703           181905    2023-06-03         11470   \n18703           18704           182109    2023-05-22         11471   \n18704           18705           302838    2023-06-01         11472   \n18705           18706           114156    2023-05-06         11311   \n\n       CD_PROVINCIA  CD_CIUDAD  \\\n0              29.0        1.0   \n1              29.0        1.0   \n2               1.0        1.0   \n3               1.0        1.0   \n4               1.0        1.0   \n...             ...        ...   \n18701           1.0        1.0   \n18702           1.0        1.0   \n18703           1.0        1.0   \n18704           1.0        1.0   \n18705          13.0        1.0   \n\n                                     DE_LUGAR_OCURRENCIA  \\\n0                         Siniestro reportado vía cover.   \n1                          C/ MAYAGUEZ URB. VILLAS DUMIT   \n2                                               Barahora   \n3                                        Arroyo Hondo II   \n4                           Avenida Gustavo Mejia Ricart   \n...                                                  ...   \n18701                                  AUTOPISTA DUARTE    \n18702                         LOS MULTIS LOS ALCARRIZOS    \n18703                                  AUTOPISTA DUARTE    \n18704                              CALLE CAMINO CHIQUITO   \n18705  HIGUEY PROXIMO AL COMERCIAL REYNALDO VILLA CER...   \n\n      NU_SINIESTRO_RELACIONADO  IN_FRAUDE  \\\n0                                     0.0   \n1                                     0.0   \n2                                     0.0   \n3                                     0.0   \n4                                     0.0   \n...                        ...        ...   \n18701                                 0.0   \n18702                                 0.0   \n18703                                 0.0   \n18704                                 0.0   \n18705                                 0.0   \n\n                             De_Causa_Siniestro  ...     DE_PROFESION  \\\n0                              Accidente/Choque  ...                0   \n1                              Accidente/Choque  ...                0   \n2        Responsabilidad Civil Personas o Cosas  ...                0   \n3      Robo o Hurto Accesorios/ Partes o Piezas  ...              NaN   \n4                              Accidente/Choque  ...                0   \n...                                         ...  ...              ...   \n18701          Rotura de Vidrios y/o Parabrisas  ...                0   \n18702          Rotura de Vidrios y/o Parabrisas  ...  INGENIERO CIVIL   \n18703          Rotura de Vidrios y/o Parabrisas  ...                0   \n18704                          Accidente/Choque  ...                0   \n18705    Responsabilidad Civil Personas o Cosas  ...                0   \n\n      DE_TIPO_PERSONA     DE_PROVINCIA_y CD_PERSONA v2_y    TIPO_VEHICULO  \\\n0            Juridica                  0          7668.0        Automovil   \n1             Natural                  0         23643.0  Jeeps y Vanette   \n2             Natural                  0         29730.0    Camiones cama   \n3                 NaN                NaN         41469.0  Jeeps y Vanette   \n4            Juridica                  0         24144.0  Jeeps y Vanette   \n...               ...                ...             ...              ...   \n18701        Juridica                  0        192804.0  Jeeps y Vanette   \n18702         Natural         Elías Piña        181905.0        Camioneta   \n18703         Natural                  0        182109.0  Jeeps y Vanette   \n18704         Natural  Distrito Nacional        302838.0        Camioneta   \n18705         Natural                  0        114156.0  Jeeps y Vanette   \n\n        Color     Marca    Modelo     Año  \\\n0      Blanco    TOYOTA     CAMRY  2001.0   \n1        Rojo       KIA  SPORTAGE  2015.0   \n2      Blanco  DAIHATSU     DELTA  2007.0   \n3        Gris       KIA  SPORTAGE  2012.0   \n4      Blanco    TOYOTA     PRADO  2013.0   \n...       ...       ...       ...     ...   \n18701  Blanco      JEEP  WRANGLER  2023.0   \n18702  Blanco     ISUZU     D-MAX  2015.0   \n18703    Azul   HYUNDAI    TUCSON  2014.0   \n18704    Gris    TOYOTA     HILUX  2023.0   \n18705    Gris     LEXUS        RX  2004.0   \n\n                               Tipo Transmision  \n0                               CE - Automatico  \n1                              4x4 - Automatico  \n2                                    Sincronico  \n3                         Base 4x4 - Automatico  \n4                                   %Sincronico  \n...                                         ...  \n18701                 Renegade 4x4 - Automatico  \n18702                                Automatico  \n18703                           GL - Automatico  \n18704  Cabina Sencilla Pick-Up 4x4 - Sincronico  \n18705                          330 - Automatico  \n\n[18706 rows x 44 columns]",
      "text/html": "<div>\n<style scoped>\n    .dataframe tbody tr th:only-of-type {\n        vertical-align: middle;\n    }\n\n    .dataframe tbody tr th {\n        vertical-align: top;\n    }\n\n    .dataframe thead th {\n        text-align: right;\n    }\n</style>\n<table border=\"1\" class=\"dataframe\">\n  <thead>\n    <tr style=\"text-align: right;\">\n      <th></th>\n      <th>ID _ SINIESTRO</th>\n      <th>CD_PERSONA v2_x</th>\n      <th>FE_OCURRENCIA</th>\n      <th>Poliza Id v2</th>\n      <th>CD_PROVINCIA</th>\n      <th>CD_CIUDAD</th>\n      <th>DE_LUGAR_OCURRENCIA</th>\n      <th>NU_SINIESTRO_RELACIONADO</th>\n      <th>IN_FRAUDE</th>\n      <th>De_Causa_Siniestro</th>\n      <th>...</th>\n      <th>DE_PROFESION</th>\n      <th>DE_TIPO_PERSONA</th>\n      <th>DE_PROVINCIA_y</th>\n      <th>CD_PERSONA v2_y</th>\n      <th>TIPO_VEHICULO</th>\n      <th>Color</th>\n      <th>Marca</th>\n      <th>Modelo</th>\n      <th>Año</th>\n      <th>Tipo Transmision</th>\n    </tr>\n  </thead>\n  <tbody>\n    <tr>\n      <th>0</th>\n      <td>1</td>\n      <td>7668</td>\n      <td>2015-05-29</td>\n      <td>1</td>\n      <td>29.0</td>\n      <td>1.0</td>\n      <td>Siniestro reportado vía cover.</td>\n      <td></td>\n      <td>0.0</td>\n      <td>Accidente/Choque</td>\n      <td>...</td>\n      <td>0</td>\n      <td>Juridica</td>\n      <td>0</td>\n      <td>7668.0</td>\n      <td>Automovil</td>\n      <td>Blanco</td>\n      <td>TOYOTA</td>\n      <td>CAMRY</td>\n      <td>2001.0</td>\n      <td>CE - Automatico</td>\n    </tr>\n    <tr>\n      <th>1</th>\n      <td>2</td>\n      <td>23643</td>\n      <td>2016-02-12</td>\n      <td>2</td>\n      <td>29.0</td>\n      <td>1.0</td>\n      <td>C/ MAYAGUEZ URB. VILLAS DUMIT</td>\n      <td></td>\n      <td>0.0</td>\n      <td>Accidente/Choque</td>\n      <td>...</td>\n      <td>0</td>\n      <td>Natural</td>\n      <td>0</td>\n      <td>23643.0</td>\n      <td>Jeeps y Vanette</td>\n      <td>Rojo</td>\n      <td>KIA</td>\n      <td>SPORTAGE</td>\n      <td>2015.0</td>\n      <td>4x4 - Automatico</td>\n    </tr>\n    <tr>\n      <th>2</th>\n      <td>3</td>\n      <td>29730</td>\n      <td>2016-02-09</td>\n      <td>3</td>\n      <td>1.0</td>\n      <td>1.0</td>\n      <td>Barahora</td>\n      <td></td>\n      <td>0.0</td>\n      <td>Responsabilidad Civil Personas o Cosas</td>\n      <td>...</td>\n      <td>0</td>\n      <td>Natural</td>\n      <td>0</td>\n      <td>29730.0</td>\n      <td>Camiones cama</td>\n      <td>Blanco</td>\n      <td>DAIHATSU</td>\n      <td>DELTA</td>\n      <td>2007.0</td>\n      <td>Sincronico</td>\n    </tr>\n    <tr>\n      <th>3</th>\n      <td>4</td>\n      <td>14301</td>\n      <td>2016-02-15</td>\n      <td>4</td>\n      <td>1.0</td>\n      <td>1.0</td>\n      <td>Arroyo Hondo II</td>\n      <td></td>\n      <td>0.0</td>\n      <td>Robo o Hurto Accesorios/ Partes o Piezas</td>\n      <td>...</td>\n      <td>NaN</td>\n      <td>NaN</td>\n      <td>NaN</td>\n      <td>41469.0</td>\n      <td>Jeeps y Vanette</td>\n      <td>Gris</td>\n      <td>KIA</td>\n      <td>SPORTAGE</td>\n      <td>2012.0</td>\n      <td>Base 4x4 - Automatico</td>\n    </tr>\n    <tr>\n      <th>4</th>\n      <td>5</td>\n      <td>24144</td>\n      <td>2016-02-03</td>\n      <td>5</td>\n      <td>1.0</td>\n      <td>1.0</td>\n      <td>Avenida Gustavo Mejia Ricart</td>\n      <td></td>\n      <td>0.0</td>\n      <td>Accidente/Choque</td>\n      <td>...</td>\n      <td>0</td>\n      <td>Juridica</td>\n      <td>0</td>\n      <td>24144.0</td>\n      <td>Jeeps y Vanette</td>\n      <td>Blanco</td>\n      <td>TOYOTA</td>\n      <td>PRADO</td>\n      <td>2013.0</td>\n      <td>%Sincronico</td>\n    </tr>\n    <tr>\n      <th>...</th>\n      <td>...</td>\n      <td>...</td>\n      <td>...</td>\n      <td>...</td>\n      <td>...</td>\n      <td>...</td>\n      <td>...</td>\n      <td>...</td>\n      <td>...</td>\n      <td>...</td>\n      <td>...</td>\n      <td>...</td>\n      <td>...</td>\n      <td>...</td>\n      <td>...</td>\n      <td>...</td>\n      <td>...</td>\n      <td>...</td>\n      <td>...</td>\n      <td>...</td>\n      <td>...</td>\n    </tr>\n    <tr>\n      <th>18701</th>\n      <td>18702</td>\n      <td>192804</td>\n      <td>2023-04-04</td>\n      <td>11379</td>\n      <td>1.0</td>\n      <td>1.0</td>\n      <td>AUTOPISTA DUARTE</td>\n      <td></td>\n      <td>0.0</td>\n      <td>Rotura de Vidrios y/o Parabrisas</td>\n      <td>...</td>\n      <td>0</td>\n      <td>Juridica</td>\n      <td>0</td>\n      <td>192804.0</td>\n      <td>Jeeps y Vanette</td>\n      <td>Blanco</td>\n      <td>JEEP</td>\n      <td>WRANGLER</td>\n      <td>2023.0</td>\n      <td>Renegade 4x4 - Automatico</td>\n    </tr>\n    <tr>\n      <th>18702</th>\n      <td>18703</td>\n      <td>181905</td>\n      <td>2023-06-03</td>\n      <td>11470</td>\n      <td>1.0</td>\n      <td>1.0</td>\n      <td>LOS MULTIS LOS ALCARRIZOS</td>\n      <td></td>\n      <td>0.0</td>\n      <td>Rotura de Vidrios y/o Parabrisas</td>\n      <td>...</td>\n      <td>INGENIERO CIVIL</td>\n      <td>Natural</td>\n      <td>Elías Piña</td>\n      <td>181905.0</td>\n      <td>Camioneta</td>\n      <td>Blanco</td>\n      <td>ISUZU</td>\n      <td>D-MAX</td>\n      <td>2015.0</td>\n      <td>Automatico</td>\n    </tr>\n    <tr>\n      <th>18703</th>\n      <td>18704</td>\n      <td>182109</td>\n      <td>2023-05-22</td>\n      <td>11471</td>\n      <td>1.0</td>\n      <td>1.0</td>\n      <td>AUTOPISTA DUARTE</td>\n      <td></td>\n      <td>0.0</td>\n      <td>Rotura de Vidrios y/o Parabrisas</td>\n      <td>...</td>\n      <td>0</td>\n      <td>Natural</td>\n      <td>0</td>\n      <td>182109.0</td>\n      <td>Jeeps y Vanette</td>\n      <td>Azul</td>\n      <td>HYUNDAI</td>\n      <td>TUCSON</td>\n      <td>2014.0</td>\n      <td>GL - Automatico</td>\n    </tr>\n    <tr>\n      <th>18704</th>\n      <td>18705</td>\n      <td>302838</td>\n      <td>2023-06-01</td>\n      <td>11472</td>\n      <td>1.0</td>\n      <td>1.0</td>\n      <td>CALLE CAMINO CHIQUITO</td>\n      <td></td>\n      <td>0.0</td>\n      <td>Accidente/Choque</td>\n      <td>...</td>\n      <td>0</td>\n      <td>Natural</td>\n      <td>Distrito Nacional</td>\n      <td>302838.0</td>\n      <td>Camioneta</td>\n      <td>Gris</td>\n      <td>TOYOTA</td>\n      <td>HILUX</td>\n      <td>2023.0</td>\n      <td>Cabina Sencilla Pick-Up 4x4 - Sincronico</td>\n    </tr>\n    <tr>\n      <th>18705</th>\n      <td>18706</td>\n      <td>114156</td>\n      <td>2023-05-06</td>\n      <td>11311</td>\n      <td>13.0</td>\n      <td>1.0</td>\n      <td>HIGUEY PROXIMO AL COMERCIAL REYNALDO VILLA CER...</td>\n      <td></td>\n      <td>0.0</td>\n      <td>Responsabilidad Civil Personas o Cosas</td>\n      <td>...</td>\n      <td>0</td>\n      <td>Natural</td>\n      <td>0</td>\n      <td>114156.0</td>\n      <td>Jeeps y Vanette</td>\n      <td>Gris</td>\n      <td>LEXUS</td>\n      <td>RX</td>\n      <td>2004.0</td>\n      <td>330 - Automatico</td>\n    </tr>\n  </tbody>\n</table>\n<p>18706 rows × 44 columns</p>\n</div>"
     },
     "execution_count": 13,
     "metadata": {},
     "output_type": "execute_result"
    }
   ],
   "source": [
    "df_comb"
   ],
   "metadata": {
    "collapsed": false,
    "ExecuteTime": {
     "end_time": "2023-08-20T08:17:12.747762Z",
     "start_time": "2023-08-20T08:17:12.645694Z"
    }
   }
  },
  {
   "cell_type": "code",
   "execution_count": 14,
   "outputs": [
    {
     "name": "stdout",
     "output_type": "stream",
     "text": [
      "<class 'pandas.core.frame.DataFrame'>\n",
      "Int64Index: 18706 entries, 0 to 18705\n",
      "Data columns (total 44 columns):\n",
      " #   Column                         Non-Null Count  Dtype         \n",
      "---  ------                         --------------  -----         \n",
      " 0   ID _ SINIESTRO                 18706 non-null  int64         \n",
      " 1   CD_PERSONA v2_x                18706 non-null  int64         \n",
      " 2   FE_OCURRENCIA                  18706 non-null  datetime64[ns]\n",
      " 3   Poliza Id v2                   18706 non-null  int64         \n",
      " 4   CD_PROVINCIA                   18705 non-null  float64       \n",
      " 5   CD_CIUDAD                      18705 non-null  float64       \n",
      " 6   DE_LUGAR_OCURRENCIA            18495 non-null  object        \n",
      " 7   NU_SINIESTRO_RELACIONADO       18706 non-null  object        \n",
      " 8   IN_FRAUDE                      18070 non-null  float64       \n",
      " 9   De_Causa_Siniestro             18706 non-null  object        \n",
      " 10  De_Causa_Detalle               18706 non-null  object        \n",
      " 11  DE_PROVINCIA_x                 18706 non-null  object        \n",
      " 12  DE_CIUDAD                      18706 non-null  object        \n",
      " 13  HORA_OCURRENCIA                18706 non-null  object        \n",
      " 14  RELACION_RECLAMANTE            18706 non-null  object        \n",
      " 15  EVENTO_CATASTROFICO            18706 non-null  object        \n",
      " 16  TP_DOCUMENTO                   18507 non-null  object        \n",
      " 17  CD_SEXO                        12720 non-null  object        \n",
      " 18  CD_ESTADO_CIVIL                12720 non-null  object        \n",
      " 19  Rango de Edad                  18507 non-null  object        \n",
      " 20  Tiempo desde registro (meses)  18507 non-null  float64       \n",
      " 21  IN_LISTA_NEGRA                 149 non-null    float64       \n",
      " 22  CD_PAIS_NACIMIENTO             13145 non-null  object        \n",
      " 23  CD_NACIONALIDAD                14372 non-null  object        \n",
      " 24  IN_INACTIVO                    2 non-null      float64       \n",
      " 25  FE_INACTIVO                    2 non-null      datetime64[ns]\n",
      " 26  IN_VIP                         10122 non-null  float64       \n",
      " 27  CD_PROVINCIA_NACIMIENTO        2897 non-null   float64       \n",
      " 28  DE_ACT_ECONOMICA_ADICIONAL     213 non-null    object        \n",
      " 29  CD_SUCURSAL_ENVIO              7369 non-null   float64       \n",
      " 30  De_Sector                      18504 non-null  object        \n",
      " 31  De_Ocupacion                   18504 non-null  object        \n",
      " 32  DE_ACTIVIDAD                   18504 non-null  object        \n",
      " 33  DE_INGRESO_ANUAL               18504 non-null  object        \n",
      " 34  DE_PROFESION                   18504 non-null  object        \n",
      " 35  DE_TIPO_PERSONA                18504 non-null  object        \n",
      " 36  DE_PROVINCIA_y                 18504 non-null  object        \n",
      " 37  CD_PERSONA v2_y                18690 non-null  float64       \n",
      " 38  TIPO_VEHICULO                  18690 non-null  object        \n",
      " 39  Color                          18690 non-null  object        \n",
      " 40  Marca                          18690 non-null  object        \n",
      " 41  Modelo                         18690 non-null  object        \n",
      " 42  Año                            18690 non-null  float64       \n",
      " 43  Tipo Transmision               18684 non-null  object        \n",
      "dtypes: datetime64[ns](2), float64(11), int64(3), object(28)\n",
      "memory usage: 6.4+ MB\n"
     ]
    }
   ],
   "source": [
    "df_comb.info()"
   ],
   "metadata": {
    "collapsed": false,
    "ExecuteTime": {
     "end_time": "2023-08-20T08:17:13.024958Z",
     "start_time": "2023-08-20T08:17:12.687125Z"
    }
   }
  },
  {
   "cell_type": "code",
   "execution_count": 15,
   "outputs": [],
   "source": [
    "df_comb['TP_DOCUMENTO'] = df_comb['TP_DOCUMENTO'].apply(lambda x: 'CED' if pd.isna(x) or x == 'P' else x)"
   ],
   "metadata": {
    "collapsed": false,
    "ExecuteTime": {
     "end_time": "2023-08-20T08:17:13.050913Z",
     "start_time": "2023-08-20T08:17:12.806740Z"
    }
   }
  },
  {
   "cell_type": "code",
   "execution_count": 16,
   "outputs": [],
   "source": [
    "# Eliminar las filas donde 'TP_DOCUMENTO' sea igual a 'RNC'\n",
    "# df_comb = df_comb[df_comb['TP_DOCUMENTO'] != 'RNC']"
   ],
   "metadata": {
    "collapsed": false,
    "ExecuteTime": {
     "end_time": "2023-08-20T08:17:13.051095Z",
     "start_time": "2023-08-20T08:17:12.815190Z"
    }
   }
  },
  {
   "cell_type": "code",
   "execution_count": 17,
   "outputs": [
    {
     "data": {
      "text/plain": "       ID _ SINIESTRO  CD_PERSONA v2_x FE_OCURRENCIA  Poliza Id v2  \\\n0                   1             7668    2015-05-29             1   \n1                   2            23643    2016-02-12             2   \n2                   3            29730    2016-02-09             3   \n3                   4            14301    2016-02-15             4   \n4                   5            24144    2016-02-03             5   \n...               ...              ...           ...           ...   \n18701           18702           192804    2023-04-04         11379   \n18702           18703           181905    2023-06-03         11470   \n18703           18704           182109    2023-05-22         11471   \n18704           18705           302838    2023-06-01         11472   \n18705           18706           114156    2023-05-06         11311   \n\n       CD_PROVINCIA  CD_CIUDAD  \\\n0              29.0        1.0   \n1              29.0        1.0   \n2               1.0        1.0   \n3               1.0        1.0   \n4               1.0        1.0   \n...             ...        ...   \n18701           1.0        1.0   \n18702           1.0        1.0   \n18703           1.0        1.0   \n18704           1.0        1.0   \n18705          13.0        1.0   \n\n                                     DE_LUGAR_OCURRENCIA  \\\n0                         Siniestro reportado vía cover.   \n1                          C/ MAYAGUEZ URB. VILLAS DUMIT   \n2                                               Barahora   \n3                                        Arroyo Hondo II   \n4                           Avenida Gustavo Mejia Ricart   \n...                                                  ...   \n18701                                  AUTOPISTA DUARTE    \n18702                         LOS MULTIS LOS ALCARRIZOS    \n18703                                  AUTOPISTA DUARTE    \n18704                              CALLE CAMINO CHIQUITO   \n18705  HIGUEY PROXIMO AL COMERCIAL REYNALDO VILLA CER...   \n\n      NU_SINIESTRO_RELACIONADO  IN_FRAUDE  \\\n0                                     0.0   \n1                                     0.0   \n2                                     0.0   \n3                                     0.0   \n4                                     0.0   \n...                        ...        ...   \n18701                                 0.0   \n18702                                 0.0   \n18703                                 0.0   \n18704                                 0.0   \n18705                                 0.0   \n\n                             De_Causa_Siniestro  ...     DE_PROFESION  \\\n0                              Accidente/Choque  ...                0   \n1                              Accidente/Choque  ...                0   \n2        Responsabilidad Civil Personas o Cosas  ...                0   \n3      Robo o Hurto Accesorios/ Partes o Piezas  ...              NaN   \n4                              Accidente/Choque  ...                0   \n...                                         ...  ...              ...   \n18701          Rotura de Vidrios y/o Parabrisas  ...                0   \n18702          Rotura de Vidrios y/o Parabrisas  ...  INGENIERO CIVIL   \n18703          Rotura de Vidrios y/o Parabrisas  ...                0   \n18704                          Accidente/Choque  ...                0   \n18705    Responsabilidad Civil Personas o Cosas  ...                0   \n\n      DE_TIPO_PERSONA     DE_PROVINCIA_y CD_PERSONA v2_y    TIPO_VEHICULO  \\\n0            Juridica                  0          7668.0        Automovil   \n1             Natural                  0         23643.0  Jeeps y Vanette   \n2             Natural                  0         29730.0    Camiones cama   \n3                 NaN                NaN         41469.0  Jeeps y Vanette   \n4            Juridica                  0         24144.0  Jeeps y Vanette   \n...               ...                ...             ...              ...   \n18701        Juridica                  0        192804.0  Jeeps y Vanette   \n18702         Natural         Elías Piña        181905.0        Camioneta   \n18703         Natural                  0        182109.0  Jeeps y Vanette   \n18704         Natural  Distrito Nacional        302838.0        Camioneta   \n18705         Natural                  0        114156.0  Jeeps y Vanette   \n\n        Color     Marca    Modelo     Año  \\\n0      Blanco    TOYOTA     CAMRY  2001.0   \n1        Rojo       KIA  SPORTAGE  2015.0   \n2      Blanco  DAIHATSU     DELTA  2007.0   \n3        Gris       KIA  SPORTAGE  2012.0   \n4      Blanco    TOYOTA     PRADO  2013.0   \n...       ...       ...       ...     ...   \n18701  Blanco      JEEP  WRANGLER  2023.0   \n18702  Blanco     ISUZU     D-MAX  2015.0   \n18703    Azul   HYUNDAI    TUCSON  2014.0   \n18704    Gris    TOYOTA     HILUX  2023.0   \n18705    Gris     LEXUS        RX  2004.0   \n\n                               Tipo Transmision  \n0                               CE - Automatico  \n1                              4x4 - Automatico  \n2                                    Sincronico  \n3                         Base 4x4 - Automatico  \n4                                   %Sincronico  \n...                                         ...  \n18701                 Renegade 4x4 - Automatico  \n18702                                Automatico  \n18703                           GL - Automatico  \n18704  Cabina Sencilla Pick-Up 4x4 - Sincronico  \n18705                          330 - Automatico  \n\n[18706 rows x 44 columns]",
      "text/html": "<div>\n<style scoped>\n    .dataframe tbody tr th:only-of-type {\n        vertical-align: middle;\n    }\n\n    .dataframe tbody tr th {\n        vertical-align: top;\n    }\n\n    .dataframe thead th {\n        text-align: right;\n    }\n</style>\n<table border=\"1\" class=\"dataframe\">\n  <thead>\n    <tr style=\"text-align: right;\">\n      <th></th>\n      <th>ID _ SINIESTRO</th>\n      <th>CD_PERSONA v2_x</th>\n      <th>FE_OCURRENCIA</th>\n      <th>Poliza Id v2</th>\n      <th>CD_PROVINCIA</th>\n      <th>CD_CIUDAD</th>\n      <th>DE_LUGAR_OCURRENCIA</th>\n      <th>NU_SINIESTRO_RELACIONADO</th>\n      <th>IN_FRAUDE</th>\n      <th>De_Causa_Siniestro</th>\n      <th>...</th>\n      <th>DE_PROFESION</th>\n      <th>DE_TIPO_PERSONA</th>\n      <th>DE_PROVINCIA_y</th>\n      <th>CD_PERSONA v2_y</th>\n      <th>TIPO_VEHICULO</th>\n      <th>Color</th>\n      <th>Marca</th>\n      <th>Modelo</th>\n      <th>Año</th>\n      <th>Tipo Transmision</th>\n    </tr>\n  </thead>\n  <tbody>\n    <tr>\n      <th>0</th>\n      <td>1</td>\n      <td>7668</td>\n      <td>2015-05-29</td>\n      <td>1</td>\n      <td>29.0</td>\n      <td>1.0</td>\n      <td>Siniestro reportado vía cover.</td>\n      <td></td>\n      <td>0.0</td>\n      <td>Accidente/Choque</td>\n      <td>...</td>\n      <td>0</td>\n      <td>Juridica</td>\n      <td>0</td>\n      <td>7668.0</td>\n      <td>Automovil</td>\n      <td>Blanco</td>\n      <td>TOYOTA</td>\n      <td>CAMRY</td>\n      <td>2001.0</td>\n      <td>CE - Automatico</td>\n    </tr>\n    <tr>\n      <th>1</th>\n      <td>2</td>\n      <td>23643</td>\n      <td>2016-02-12</td>\n      <td>2</td>\n      <td>29.0</td>\n      <td>1.0</td>\n      <td>C/ MAYAGUEZ URB. VILLAS DUMIT</td>\n      <td></td>\n      <td>0.0</td>\n      <td>Accidente/Choque</td>\n      <td>...</td>\n      <td>0</td>\n      <td>Natural</td>\n      <td>0</td>\n      <td>23643.0</td>\n      <td>Jeeps y Vanette</td>\n      <td>Rojo</td>\n      <td>KIA</td>\n      <td>SPORTAGE</td>\n      <td>2015.0</td>\n      <td>4x4 - Automatico</td>\n    </tr>\n    <tr>\n      <th>2</th>\n      <td>3</td>\n      <td>29730</td>\n      <td>2016-02-09</td>\n      <td>3</td>\n      <td>1.0</td>\n      <td>1.0</td>\n      <td>Barahora</td>\n      <td></td>\n      <td>0.0</td>\n      <td>Responsabilidad Civil Personas o Cosas</td>\n      <td>...</td>\n      <td>0</td>\n      <td>Natural</td>\n      <td>0</td>\n      <td>29730.0</td>\n      <td>Camiones cama</td>\n      <td>Blanco</td>\n      <td>DAIHATSU</td>\n      <td>DELTA</td>\n      <td>2007.0</td>\n      <td>Sincronico</td>\n    </tr>\n    <tr>\n      <th>3</th>\n      <td>4</td>\n      <td>14301</td>\n      <td>2016-02-15</td>\n      <td>4</td>\n      <td>1.0</td>\n      <td>1.0</td>\n      <td>Arroyo Hondo II</td>\n      <td></td>\n      <td>0.0</td>\n      <td>Robo o Hurto Accesorios/ Partes o Piezas</td>\n      <td>...</td>\n      <td>NaN</td>\n      <td>NaN</td>\n      <td>NaN</td>\n      <td>41469.0</td>\n      <td>Jeeps y Vanette</td>\n      <td>Gris</td>\n      <td>KIA</td>\n      <td>SPORTAGE</td>\n      <td>2012.0</td>\n      <td>Base 4x4 - Automatico</td>\n    </tr>\n    <tr>\n      <th>4</th>\n      <td>5</td>\n      <td>24144</td>\n      <td>2016-02-03</td>\n      <td>5</td>\n      <td>1.0</td>\n      <td>1.0</td>\n      <td>Avenida Gustavo Mejia Ricart</td>\n      <td></td>\n      <td>0.0</td>\n      <td>Accidente/Choque</td>\n      <td>...</td>\n      <td>0</td>\n      <td>Juridica</td>\n      <td>0</td>\n      <td>24144.0</td>\n      <td>Jeeps y Vanette</td>\n      <td>Blanco</td>\n      <td>TOYOTA</td>\n      <td>PRADO</td>\n      <td>2013.0</td>\n      <td>%Sincronico</td>\n    </tr>\n    <tr>\n      <th>...</th>\n      <td>...</td>\n      <td>...</td>\n      <td>...</td>\n      <td>...</td>\n      <td>...</td>\n      <td>...</td>\n      <td>...</td>\n      <td>...</td>\n      <td>...</td>\n      <td>...</td>\n      <td>...</td>\n      <td>...</td>\n      <td>...</td>\n      <td>...</td>\n      <td>...</td>\n      <td>...</td>\n      <td>...</td>\n      <td>...</td>\n      <td>...</td>\n      <td>...</td>\n      <td>...</td>\n    </tr>\n    <tr>\n      <th>18701</th>\n      <td>18702</td>\n      <td>192804</td>\n      <td>2023-04-04</td>\n      <td>11379</td>\n      <td>1.0</td>\n      <td>1.0</td>\n      <td>AUTOPISTA DUARTE</td>\n      <td></td>\n      <td>0.0</td>\n      <td>Rotura de Vidrios y/o Parabrisas</td>\n      <td>...</td>\n      <td>0</td>\n      <td>Juridica</td>\n      <td>0</td>\n      <td>192804.0</td>\n      <td>Jeeps y Vanette</td>\n      <td>Blanco</td>\n      <td>JEEP</td>\n      <td>WRANGLER</td>\n      <td>2023.0</td>\n      <td>Renegade 4x4 - Automatico</td>\n    </tr>\n    <tr>\n      <th>18702</th>\n      <td>18703</td>\n      <td>181905</td>\n      <td>2023-06-03</td>\n      <td>11470</td>\n      <td>1.0</td>\n      <td>1.0</td>\n      <td>LOS MULTIS LOS ALCARRIZOS</td>\n      <td></td>\n      <td>0.0</td>\n      <td>Rotura de Vidrios y/o Parabrisas</td>\n      <td>...</td>\n      <td>INGENIERO CIVIL</td>\n      <td>Natural</td>\n      <td>Elías Piña</td>\n      <td>181905.0</td>\n      <td>Camioneta</td>\n      <td>Blanco</td>\n      <td>ISUZU</td>\n      <td>D-MAX</td>\n      <td>2015.0</td>\n      <td>Automatico</td>\n    </tr>\n    <tr>\n      <th>18703</th>\n      <td>18704</td>\n      <td>182109</td>\n      <td>2023-05-22</td>\n      <td>11471</td>\n      <td>1.0</td>\n      <td>1.0</td>\n      <td>AUTOPISTA DUARTE</td>\n      <td></td>\n      <td>0.0</td>\n      <td>Rotura de Vidrios y/o Parabrisas</td>\n      <td>...</td>\n      <td>0</td>\n      <td>Natural</td>\n      <td>0</td>\n      <td>182109.0</td>\n      <td>Jeeps y Vanette</td>\n      <td>Azul</td>\n      <td>HYUNDAI</td>\n      <td>TUCSON</td>\n      <td>2014.0</td>\n      <td>GL - Automatico</td>\n    </tr>\n    <tr>\n      <th>18704</th>\n      <td>18705</td>\n      <td>302838</td>\n      <td>2023-06-01</td>\n      <td>11472</td>\n      <td>1.0</td>\n      <td>1.0</td>\n      <td>CALLE CAMINO CHIQUITO</td>\n      <td></td>\n      <td>0.0</td>\n      <td>Accidente/Choque</td>\n      <td>...</td>\n      <td>0</td>\n      <td>Natural</td>\n      <td>Distrito Nacional</td>\n      <td>302838.0</td>\n      <td>Camioneta</td>\n      <td>Gris</td>\n      <td>TOYOTA</td>\n      <td>HILUX</td>\n      <td>2023.0</td>\n      <td>Cabina Sencilla Pick-Up 4x4 - Sincronico</td>\n    </tr>\n    <tr>\n      <th>18705</th>\n      <td>18706</td>\n      <td>114156</td>\n      <td>2023-05-06</td>\n      <td>11311</td>\n      <td>13.0</td>\n      <td>1.0</td>\n      <td>HIGUEY PROXIMO AL COMERCIAL REYNALDO VILLA CER...</td>\n      <td></td>\n      <td>0.0</td>\n      <td>Responsabilidad Civil Personas o Cosas</td>\n      <td>...</td>\n      <td>0</td>\n      <td>Natural</td>\n      <td>0</td>\n      <td>114156.0</td>\n      <td>Jeeps y Vanette</td>\n      <td>Gris</td>\n      <td>LEXUS</td>\n      <td>RX</td>\n      <td>2004.0</td>\n      <td>330 - Automatico</td>\n    </tr>\n  </tbody>\n</table>\n<p>18706 rows × 44 columns</p>\n</div>"
     },
     "execution_count": 17,
     "metadata": {},
     "output_type": "execute_result"
    }
   ],
   "source": [
    "df_comb"
   ],
   "metadata": {
    "collapsed": false,
    "ExecuteTime": {
     "end_time": "2023-08-20T08:17:13.069521Z",
     "start_time": "2023-08-20T08:17:12.828100Z"
    }
   }
  },
  {
   "cell_type": "code",
   "execution_count": 18,
   "outputs": [],
   "source": [
    "# Agrupar por fecha y calcular la frecuencia de accidentes por día\n",
    "f_accidentes = df_comb.groupby(\"FE_OCURRENCIA\").size().reset_index(name=\"FRECUENCIA\")"
   ],
   "metadata": {
    "collapsed": false,
    "ExecuteTime": {
     "end_time": "2023-08-20T08:17:13.109452Z",
     "start_time": "2023-08-20T08:17:12.876495Z"
    }
   }
  },
  {
   "cell_type": "code",
   "execution_count": 19,
   "outputs": [
    {
     "data": {
      "text/plain": "     FE_OCURRENCIA  FRECUENCIA\n0       2014-07-05           1\n1       2014-07-08           1\n2       2014-07-11           1\n3       2014-07-12           1\n4       2014-07-14           1\n...            ...         ...\n3113    2023-06-30           2\n3114    2023-07-01           3\n3115    2023-07-02           2\n3116    2023-07-03           4\n3117    2023-07-04           4\n\n[3118 rows x 2 columns]",
      "text/html": "<div>\n<style scoped>\n    .dataframe tbody tr th:only-of-type {\n        vertical-align: middle;\n    }\n\n    .dataframe tbody tr th {\n        vertical-align: top;\n    }\n\n    .dataframe thead th {\n        text-align: right;\n    }\n</style>\n<table border=\"1\" class=\"dataframe\">\n  <thead>\n    <tr style=\"text-align: right;\">\n      <th></th>\n      <th>FE_OCURRENCIA</th>\n      <th>FRECUENCIA</th>\n    </tr>\n  </thead>\n  <tbody>\n    <tr>\n      <th>0</th>\n      <td>2014-07-05</td>\n      <td>1</td>\n    </tr>\n    <tr>\n      <th>1</th>\n      <td>2014-07-08</td>\n      <td>1</td>\n    </tr>\n    <tr>\n      <th>2</th>\n      <td>2014-07-11</td>\n      <td>1</td>\n    </tr>\n    <tr>\n      <th>3</th>\n      <td>2014-07-12</td>\n      <td>1</td>\n    </tr>\n    <tr>\n      <th>4</th>\n      <td>2014-07-14</td>\n      <td>1</td>\n    </tr>\n    <tr>\n      <th>...</th>\n      <td>...</td>\n      <td>...</td>\n    </tr>\n    <tr>\n      <th>3113</th>\n      <td>2023-06-30</td>\n      <td>2</td>\n    </tr>\n    <tr>\n      <th>3114</th>\n      <td>2023-07-01</td>\n      <td>3</td>\n    </tr>\n    <tr>\n      <th>3115</th>\n      <td>2023-07-02</td>\n      <td>2</td>\n    </tr>\n    <tr>\n      <th>3116</th>\n      <td>2023-07-03</td>\n      <td>4</td>\n    </tr>\n    <tr>\n      <th>3117</th>\n      <td>2023-07-04</td>\n      <td>4</td>\n    </tr>\n  </tbody>\n</table>\n<p>3118 rows × 2 columns</p>\n</div>"
     },
     "execution_count": 19,
     "metadata": {},
     "output_type": "execute_result"
    }
   ],
   "source": [
    "f_accidentes"
   ],
   "metadata": {
    "collapsed": false,
    "ExecuteTime": {
     "end_time": "2023-08-20T08:17:13.198150Z",
     "start_time": "2023-08-20T08:17:12.889656Z"
    }
   }
  },
  {
   "cell_type": "code",
   "execution_count": 20,
   "outputs": [],
   "source": [
    "# Custom function to convert time string to datetime\n",
    "def custom_time_parser(time_str):\n",
    "    if not time_str.strip():  # Check if the string is empty or contains only spaces\n",
    "        return pd.NaT  # Return a missing value\n",
    "    hour, minute = map(int, time_str.strip().split(\":\"))\n",
    "    return pd.Timestamp(year=1800, month=1, day=1, hour=hour, minute=minute)"
   ],
   "metadata": {
    "collapsed": false,
    "ExecuteTime": {
     "end_time": "2023-08-20T08:17:13.199075Z",
     "start_time": "2023-08-20T08:17:12.901280Z"
    }
   }
  },
  {
   "cell_type": "code",
   "execution_count": 21,
   "outputs": [
    {
     "data": {
      "text/plain": "0        17:15\n1             \n2             \n3        16:30\n4             \n         ...  \n18701         \n18702         \n18703         \n18704         \n18705         \nName: HORA_OCURRENCIA, Length: 18706, dtype: object"
     },
     "execution_count": 21,
     "metadata": {},
     "output_type": "execute_result"
    }
   ],
   "source": [
    "df_comb['HORA_OCURRENCIA']"
   ],
   "metadata": {
    "collapsed": false,
    "ExecuteTime": {
     "end_time": "2023-08-20T08:17:13.200066Z",
     "start_time": "2023-08-20T08:17:12.913630Z"
    }
   }
  },
  {
   "cell_type": "code",
   "execution_count": 22,
   "outputs": [],
   "source": [
    "# Convert the HORA_OCURRENCIA column to datetime using the custom parser\n",
    "df_comb[\"HORA_OCURRENCIA\"] = df_comb[\"HORA_OCURRENCIA\"].apply(custom_time_parser)"
   ],
   "metadata": {
    "collapsed": false,
    "ExecuteTime": {
     "end_time": "2023-08-20T08:17:13.308923Z",
     "start_time": "2023-08-20T08:17:12.929442Z"
    }
   }
  },
  {
   "cell_type": "code",
   "execution_count": 23,
   "outputs": [
    {
     "data": {
      "text/plain": "0       1800-01-01 17:15:00\n1                       NaT\n2                       NaT\n3       1800-01-01 16:30:00\n4                       NaT\n                ...        \n18701                   NaT\n18702                   NaT\n18703                   NaT\n18704                   NaT\n18705                   NaT\nName: HORA_OCURRENCIA, Length: 18706, dtype: datetime64[ns]"
     },
     "execution_count": 23,
     "metadata": {},
     "output_type": "execute_result"
    }
   ],
   "source": [
    "df_comb[\"HORA_OCURRENCIA\"]"
   ],
   "metadata": {
    "collapsed": false,
    "ExecuteTime": {
     "end_time": "2023-08-20T08:17:13.342309Z",
     "start_time": "2023-08-20T08:17:12.976550Z"
    }
   }
  },
  {
   "cell_type": "code",
   "execution_count": 24,
   "outputs": [],
   "source": [
    "df_comb[\"HORA_OCURRENCIA\"]\n",
    "hora_ocurrencia_pro = df_comb.groupby(\"FE_OCURRENCIA\")[\"HORA_OCURRENCIA\"].mean().reset_index()\n",
    "\n",
    "hora_ocurrencia_pro = df_comb.groupby(\"FE_OCURRENCIA\")[\"HORA_OCURRENCIA\"].mean().reset_index()\n",
    "\n",
    "hora_ocurrencia_pro['HORA_OCURRENCIA'] = hora_ocurrencia_pro['HORA_OCURRENCIA'].apply(lambda x: hora_ocurrencia_pro['HORA_OCURRENCIA'].mean() if pd.isna(x) else x)\n",
    "\n",
    "hora_ocurrencia_pro['HORA_OCURRENCIA'] = hora_ocurrencia_pro['HORA_OCURRENCIA'].dt.strftime(\"%H:%M\")"
   ],
   "metadata": {
    "collapsed": false,
    "ExecuteTime": {
     "end_time": "2023-08-20T08:17:13.455370Z",
     "start_time": "2023-08-20T08:17:12.987833Z"
    }
   }
  },
  {
   "cell_type": "code",
   "execution_count": 25,
   "outputs": [
    {
     "data": {
      "text/plain": "     FE_OCURRENCIA HORA_OCURRENCIA\n0       2014-07-05           16:00\n1       2014-07-08           10:30\n2       2014-07-11           10:00\n3       2014-07-12           22:00\n4       2014-07-14           10:00\n...            ...             ...\n3113    2023-06-30           12:54\n3114    2023-07-01           12:54\n3115    2023-07-02           12:54\n3116    2023-07-03           12:54\n3117    2023-07-04           08:15\n\n[3118 rows x 2 columns]",
      "text/html": "<div>\n<style scoped>\n    .dataframe tbody tr th:only-of-type {\n        vertical-align: middle;\n    }\n\n    .dataframe tbody tr th {\n        vertical-align: top;\n    }\n\n    .dataframe thead th {\n        text-align: right;\n    }\n</style>\n<table border=\"1\" class=\"dataframe\">\n  <thead>\n    <tr style=\"text-align: right;\">\n      <th></th>\n      <th>FE_OCURRENCIA</th>\n      <th>HORA_OCURRENCIA</th>\n    </tr>\n  </thead>\n  <tbody>\n    <tr>\n      <th>0</th>\n      <td>2014-07-05</td>\n      <td>16:00</td>\n    </tr>\n    <tr>\n      <th>1</th>\n      <td>2014-07-08</td>\n      <td>10:30</td>\n    </tr>\n    <tr>\n      <th>2</th>\n      <td>2014-07-11</td>\n      <td>10:00</td>\n    </tr>\n    <tr>\n      <th>3</th>\n      <td>2014-07-12</td>\n      <td>22:00</td>\n    </tr>\n    <tr>\n      <th>4</th>\n      <td>2014-07-14</td>\n      <td>10:00</td>\n    </tr>\n    <tr>\n      <th>...</th>\n      <td>...</td>\n      <td>...</td>\n    </tr>\n    <tr>\n      <th>3113</th>\n      <td>2023-06-30</td>\n      <td>12:54</td>\n    </tr>\n    <tr>\n      <th>3114</th>\n      <td>2023-07-01</td>\n      <td>12:54</td>\n    </tr>\n    <tr>\n      <th>3115</th>\n      <td>2023-07-02</td>\n      <td>12:54</td>\n    </tr>\n    <tr>\n      <th>3116</th>\n      <td>2023-07-03</td>\n      <td>12:54</td>\n    </tr>\n    <tr>\n      <th>3117</th>\n      <td>2023-07-04</td>\n      <td>08:15</td>\n    </tr>\n  </tbody>\n</table>\n<p>3118 rows × 2 columns</p>\n</div>"
     },
     "execution_count": 25,
     "metadata": {},
     "output_type": "execute_result"
    }
   ],
   "source": [
    "hora_ocurrencia_pro"
   ],
   "metadata": {
    "collapsed": false,
    "ExecuteTime": {
     "end_time": "2023-08-20T08:17:13.456032Z",
     "start_time": "2023-08-20T08:17:13.153209Z"
    }
   }
  },
  {
   "cell_type": "code",
   "execution_count": 26,
   "outputs": [],
   "source": [
    "codigo_a_provincia = {\n",
    "    \"01\": \"Distrito Nacional\",\n",
    "    \"02\": \"Azua\",\n",
    "    \"03\": \"Bahoruco\",\n",
    "    \"04\": \"Barahona\",\n",
    "    \"05\": \"Dajabón\",\n",
    "    \"06\": \"Duarte\",\n",
    "    \"07\": \"Elías Piña\",\n",
    "    \"08\": \"El Seibo\",\n",
    "    \"09\": \"Espaillat\",\n",
    "    \"10\": \"Independencia\",\n",
    "    \"11\": \"La Altagracia\",\n",
    "    \"12\": \"La Romana\",\n",
    "    \"13\": \"La Vega\",\n",
    "    \"14\": \"María Trinidad Sánchez\",\n",
    "    \"15\": \"Monte Cristi\",\n",
    "    \"16\": \"Pedernales\",\n",
    "    \"17\": \"Peravia\",\n",
    "    \"18\": \"Puerto Plata\",\n",
    "    \"19\": \"Hermanas Mirabal\",\n",
    "    \"20\": \"Samaná\",\n",
    "    \"21\": \"San Cristóbal\",\n",
    "    \"22\": \"San Juan\",\n",
    "    \"23\": \"San Pedro de Macorís\",\n",
    "    \"24\": \"Sánchez Ramírez\",\n",
    "    \"25\": \"Santiago\",\n",
    "    \"26\": \"Santiago Rodríguez\",\n",
    "    \"27\": \"Valverde\",\n",
    "    \"28\": \"Monseñor Nouel\",\n",
    "    \"29\": \"Monte Plata\",\n",
    "    \"30\": \"Hato Mayor\",\n",
    "    \"31\": \"San José de Ocoa\",\n",
    "    \"32\": \"Santo Domingo\"\n",
    "}"
   ],
   "metadata": {
    "collapsed": false,
    "ExecuteTime": {
     "end_time": "2023-08-20T08:17:13.456112Z",
     "start_time": "2023-08-20T08:17:13.169590Z"
    }
   }
  },
  {
   "cell_type": "code",
   "execution_count": 27,
   "outputs": [
    {
     "data": {
      "text/plain": "0        Distrito Nacional\n1                         \n2                         \n3        Distrito Nacional\n4                         \n               ...        \n18701                     \n18702                     \n18703                     \n18704                     \n18705                     \nName: DE_PROVINCIA_x, Length: 18706, dtype: object"
     },
     "execution_count": 27,
     "metadata": {},
     "output_type": "execute_result"
    }
   ],
   "source": [
    "df_comb['DE_PROVINCIA_x']"
   ],
   "metadata": {
    "collapsed": false,
    "ExecuteTime": {
     "end_time": "2023-08-20T08:17:13.456238Z",
     "start_time": "2023-08-20T08:17:13.177687Z"
    }
   }
  },
  {
   "cell_type": "code",
   "execution_count": 28,
   "outputs": [],
   "source": [
    "df_comb[\"Provincia_ID\"] = df_comb[\"DE_PROVINCIA_x\"].map({nombre: codigo for codigo, nombre in codigo_a_provincia.items()})\n",
    "\n",
    "# Obtener la moda de la columna \"DE_PROVINCIA\"\n",
    "moda_provincia = df_comb[\"Provincia_ID\"].mode()[0]\n",
    "\n",
    "# Rellenar las provincias no encontradas en el diccionario con la moda\n",
    "df_comb[\"Provincia_ID\"] = df_comb[\"Provincia_ID\"].fillna(moda_provincia)"
   ],
   "metadata": {
    "collapsed": false,
    "ExecuteTime": {
     "end_time": "2023-08-20T08:17:13.456294Z",
     "start_time": "2023-08-20T08:17:13.190995Z"
    }
   }
  },
  {
   "cell_type": "code",
   "execution_count": 29,
   "outputs": [
    {
     "data": {
      "text/plain": "'01'"
     },
     "execution_count": 29,
     "metadata": {},
     "output_type": "execute_result"
    }
   ],
   "source": [
    "moda_provincia"
   ],
   "metadata": {
    "collapsed": false,
    "ExecuteTime": {
     "end_time": "2023-08-20T08:17:13.459176Z",
     "start_time": "2023-08-20T08:17:13.212043Z"
    }
   }
  },
  {
   "cell_type": "code",
   "execution_count": 30,
   "outputs": [
    {
     "data": {
      "text/plain": "0        01\n1        01\n2        01\n3        01\n4        01\n         ..\n18701    01\n18702    01\n18703    01\n18704    01\n18705    01\nName: Provincia_ID, Length: 18706, dtype: object"
     },
     "execution_count": 30,
     "metadata": {},
     "output_type": "execute_result"
    }
   ],
   "source": [
    "# moda_provincia\n",
    "df_comb['Provincia_ID']"
   ],
   "metadata": {
    "collapsed": false,
    "ExecuteTime": {
     "end_time": "2023-08-20T08:17:13.459355Z",
     "start_time": "2023-08-20T08:17:13.218222Z"
    }
   }
  },
  {
   "cell_type": "code",
   "execution_count": 31,
   "outputs": [],
   "source": [
    "# moda_provincia_siniestro = df_comb.groupby(\"FE_OCURRENCIA\").mode().reset_index(name=\"Moda_Provincia\")\n",
    "moda_provincia_siniestro = df_comb.groupby(\"FE_OCURRENCIA\")[\"Provincia_ID\"].apply(lambda x: x.mode().iloc[0]).reset_index(name=\"CO_PROVINCIA\")"
   ],
   "metadata": {
    "collapsed": false,
    "ExecuteTime": {
     "end_time": "2023-08-20T08:17:14.006087Z",
     "start_time": "2023-08-20T08:17:13.226971Z"
    }
   }
  },
  {
   "cell_type": "code",
   "execution_count": 32,
   "outputs": [
    {
     "data": {
      "text/plain": "     FE_OCURRENCIA CO_PROVINCIA\n0       2014-07-05           01\n1       2014-07-08           01\n2       2014-07-11           01\n3       2014-07-12           01\n4       2014-07-14           01\n...            ...          ...\n3113    2023-06-30           01\n3114    2023-07-01           01\n3115    2023-07-02           01\n3116    2023-07-03           01\n3117    2023-07-04           01\n\n[3118 rows x 2 columns]",
      "text/html": "<div>\n<style scoped>\n    .dataframe tbody tr th:only-of-type {\n        vertical-align: middle;\n    }\n\n    .dataframe tbody tr th {\n        vertical-align: top;\n    }\n\n    .dataframe thead th {\n        text-align: right;\n    }\n</style>\n<table border=\"1\" class=\"dataframe\">\n  <thead>\n    <tr style=\"text-align: right;\">\n      <th></th>\n      <th>FE_OCURRENCIA</th>\n      <th>CO_PROVINCIA</th>\n    </tr>\n  </thead>\n  <tbody>\n    <tr>\n      <th>0</th>\n      <td>2014-07-05</td>\n      <td>01</td>\n    </tr>\n    <tr>\n      <th>1</th>\n      <td>2014-07-08</td>\n      <td>01</td>\n    </tr>\n    <tr>\n      <th>2</th>\n      <td>2014-07-11</td>\n      <td>01</td>\n    </tr>\n    <tr>\n      <th>3</th>\n      <td>2014-07-12</td>\n      <td>01</td>\n    </tr>\n    <tr>\n      <th>4</th>\n      <td>2014-07-14</td>\n      <td>01</td>\n    </tr>\n    <tr>\n      <th>...</th>\n      <td>...</td>\n      <td>...</td>\n    </tr>\n    <tr>\n      <th>3113</th>\n      <td>2023-06-30</td>\n      <td>01</td>\n    </tr>\n    <tr>\n      <th>3114</th>\n      <td>2023-07-01</td>\n      <td>01</td>\n    </tr>\n    <tr>\n      <th>3115</th>\n      <td>2023-07-02</td>\n      <td>01</td>\n    </tr>\n    <tr>\n      <th>3116</th>\n      <td>2023-07-03</td>\n      <td>01</td>\n    </tr>\n    <tr>\n      <th>3117</th>\n      <td>2023-07-04</td>\n      <td>01</td>\n    </tr>\n  </tbody>\n</table>\n<p>3118 rows × 2 columns</p>\n</div>"
     },
     "execution_count": 32,
     "metadata": {},
     "output_type": "execute_result"
    }
   ],
   "source": [
    "moda_provincia_siniestro"
   ],
   "metadata": {
    "collapsed": false,
    "ExecuteTime": {
     "end_time": "2023-08-20T08:17:14.006865Z",
     "start_time": "2023-08-20T08:17:13.843078Z"
    }
   }
  },
  {
   "cell_type": "code",
   "execution_count": 33,
   "outputs": [],
   "source": [
    "# df_comb['TP_DOCUMENTO'] = df_comb['TP_DOCUMENTO'].apply(lambda x: 'CED' if pd.isna(x) or x == 'P' else x)"
   ],
   "metadata": {
    "collapsed": false,
    "ExecuteTime": {
     "end_time": "2023-08-20T08:17:14.022184Z",
     "start_time": "2023-08-20T08:17:13.855904Z"
    }
   }
  },
  {
   "cell_type": "code",
   "execution_count": 34,
   "outputs": [],
   "source": [
    "# df_comb['TP_DOCUMENTO'].value_counts()"
   ],
   "metadata": {
    "collapsed": false,
    "ExecuteTime": {
     "end_time": "2023-08-20T08:17:14.073431Z",
     "start_time": "2023-08-20T08:17:13.865408Z"
    }
   }
  },
  {
   "cell_type": "code",
   "execution_count": 35,
   "outputs": [],
   "source": [
    "# # Eliminar las filas donde 'TP_DOCUMENTO' sea igual a 'RNC'\n",
    "# df_comb = df_comb[df_comb['TP_DOCUMENTO'] != 'RNC']"
   ],
   "metadata": {
    "collapsed": false,
    "ExecuteTime": {
     "end_time": "2023-08-20T08:17:14.074407Z",
     "start_time": "2023-08-20T08:17:13.873527Z"
    }
   }
  },
  {
   "cell_type": "code",
   "execution_count": 36,
   "outputs": [
    {
     "data": {
      "text/plain": "       ID _ SINIESTRO  CD_PERSONA v2_x FE_OCURRENCIA  Poliza Id v2  \\\n0                   1             7668    2015-05-29             1   \n1                   2            23643    2016-02-12             2   \n2                   3            29730    2016-02-09             3   \n3                   4            14301    2016-02-15             4   \n4                   5            24144    2016-02-03             5   \n...               ...              ...           ...           ...   \n18701           18702           192804    2023-04-04         11379   \n18702           18703           181905    2023-06-03         11470   \n18703           18704           182109    2023-05-22         11471   \n18704           18705           302838    2023-06-01         11472   \n18705           18706           114156    2023-05-06         11311   \n\n       CD_PROVINCIA  CD_CIUDAD  \\\n0              29.0        1.0   \n1              29.0        1.0   \n2               1.0        1.0   \n3               1.0        1.0   \n4               1.0        1.0   \n...             ...        ...   \n18701           1.0        1.0   \n18702           1.0        1.0   \n18703           1.0        1.0   \n18704           1.0        1.0   \n18705          13.0        1.0   \n\n                                     DE_LUGAR_OCURRENCIA  \\\n0                         Siniestro reportado vía cover.   \n1                          C/ MAYAGUEZ URB. VILLAS DUMIT   \n2                                               Barahora   \n3                                        Arroyo Hondo II   \n4                           Avenida Gustavo Mejia Ricart   \n...                                                  ...   \n18701                                  AUTOPISTA DUARTE    \n18702                         LOS MULTIS LOS ALCARRIZOS    \n18703                                  AUTOPISTA DUARTE    \n18704                              CALLE CAMINO CHIQUITO   \n18705  HIGUEY PROXIMO AL COMERCIAL REYNALDO VILLA CER...   \n\n      NU_SINIESTRO_RELACIONADO  IN_FRAUDE  \\\n0                                     0.0   \n1                                     0.0   \n2                                     0.0   \n3                                     0.0   \n4                                     0.0   \n...                        ...        ...   \n18701                                 0.0   \n18702                                 0.0   \n18703                                 0.0   \n18704                                 0.0   \n18705                                 0.0   \n\n                             De_Causa_Siniestro  ... DE_TIPO_PERSONA  \\\n0                              Accidente/Choque  ...        Juridica   \n1                              Accidente/Choque  ...         Natural   \n2        Responsabilidad Civil Personas o Cosas  ...         Natural   \n3      Robo o Hurto Accesorios/ Partes o Piezas  ...             NaN   \n4                              Accidente/Choque  ...        Juridica   \n...                                         ...  ...             ...   \n18701          Rotura de Vidrios y/o Parabrisas  ...        Juridica   \n18702          Rotura de Vidrios y/o Parabrisas  ...         Natural   \n18703          Rotura de Vidrios y/o Parabrisas  ...         Natural   \n18704                          Accidente/Choque  ...         Natural   \n18705    Responsabilidad Civil Personas o Cosas  ...         Natural   \n\n          DE_PROVINCIA_y CD_PERSONA v2_y    TIPO_VEHICULO   Color     Marca  \\\n0                      0          7668.0        Automovil  Blanco    TOYOTA   \n1                      0         23643.0  Jeeps y Vanette    Rojo       KIA   \n2                      0         29730.0    Camiones cama  Blanco  DAIHATSU   \n3                    NaN         41469.0  Jeeps y Vanette    Gris       KIA   \n4                      0         24144.0  Jeeps y Vanette  Blanco    TOYOTA   \n...                  ...             ...              ...     ...       ...   \n18701                  0        192804.0  Jeeps y Vanette  Blanco      JEEP   \n18702         Elías Piña        181905.0        Camioneta  Blanco     ISUZU   \n18703                  0        182109.0  Jeeps y Vanette    Azul   HYUNDAI   \n18704  Distrito Nacional        302838.0        Camioneta    Gris    TOYOTA   \n18705                  0        114156.0  Jeeps y Vanette    Gris     LEXUS   \n\n         Modelo     Año                          Tipo Transmision Provincia_ID  \n0         CAMRY  2001.0                           CE - Automatico           01  \n1      SPORTAGE  2015.0                          4x4 - Automatico           01  \n2         DELTA  2007.0                                Sincronico           01  \n3      SPORTAGE  2012.0                     Base 4x4 - Automatico           01  \n4         PRADO  2013.0                               %Sincronico           01  \n...         ...     ...                                       ...          ...  \n18701  WRANGLER  2023.0                 Renegade 4x4 - Automatico           01  \n18702     D-MAX  2015.0                                Automatico           01  \n18703    TUCSON  2014.0                           GL - Automatico           01  \n18704     HILUX  2023.0  Cabina Sencilla Pick-Up 4x4 - Sincronico           01  \n18705        RX  2004.0                          330 - Automatico           01  \n\n[18706 rows x 45 columns]",
      "text/html": "<div>\n<style scoped>\n    .dataframe tbody tr th:only-of-type {\n        vertical-align: middle;\n    }\n\n    .dataframe tbody tr th {\n        vertical-align: top;\n    }\n\n    .dataframe thead th {\n        text-align: right;\n    }\n</style>\n<table border=\"1\" class=\"dataframe\">\n  <thead>\n    <tr style=\"text-align: right;\">\n      <th></th>\n      <th>ID _ SINIESTRO</th>\n      <th>CD_PERSONA v2_x</th>\n      <th>FE_OCURRENCIA</th>\n      <th>Poliza Id v2</th>\n      <th>CD_PROVINCIA</th>\n      <th>CD_CIUDAD</th>\n      <th>DE_LUGAR_OCURRENCIA</th>\n      <th>NU_SINIESTRO_RELACIONADO</th>\n      <th>IN_FRAUDE</th>\n      <th>De_Causa_Siniestro</th>\n      <th>...</th>\n      <th>DE_TIPO_PERSONA</th>\n      <th>DE_PROVINCIA_y</th>\n      <th>CD_PERSONA v2_y</th>\n      <th>TIPO_VEHICULO</th>\n      <th>Color</th>\n      <th>Marca</th>\n      <th>Modelo</th>\n      <th>Año</th>\n      <th>Tipo Transmision</th>\n      <th>Provincia_ID</th>\n    </tr>\n  </thead>\n  <tbody>\n    <tr>\n      <th>0</th>\n      <td>1</td>\n      <td>7668</td>\n      <td>2015-05-29</td>\n      <td>1</td>\n      <td>29.0</td>\n      <td>1.0</td>\n      <td>Siniestro reportado vía cover.</td>\n      <td></td>\n      <td>0.0</td>\n      <td>Accidente/Choque</td>\n      <td>...</td>\n      <td>Juridica</td>\n      <td>0</td>\n      <td>7668.0</td>\n      <td>Automovil</td>\n      <td>Blanco</td>\n      <td>TOYOTA</td>\n      <td>CAMRY</td>\n      <td>2001.0</td>\n      <td>CE - Automatico</td>\n      <td>01</td>\n    </tr>\n    <tr>\n      <th>1</th>\n      <td>2</td>\n      <td>23643</td>\n      <td>2016-02-12</td>\n      <td>2</td>\n      <td>29.0</td>\n      <td>1.0</td>\n      <td>C/ MAYAGUEZ URB. VILLAS DUMIT</td>\n      <td></td>\n      <td>0.0</td>\n      <td>Accidente/Choque</td>\n      <td>...</td>\n      <td>Natural</td>\n      <td>0</td>\n      <td>23643.0</td>\n      <td>Jeeps y Vanette</td>\n      <td>Rojo</td>\n      <td>KIA</td>\n      <td>SPORTAGE</td>\n      <td>2015.0</td>\n      <td>4x4 - Automatico</td>\n      <td>01</td>\n    </tr>\n    <tr>\n      <th>2</th>\n      <td>3</td>\n      <td>29730</td>\n      <td>2016-02-09</td>\n      <td>3</td>\n      <td>1.0</td>\n      <td>1.0</td>\n      <td>Barahora</td>\n      <td></td>\n      <td>0.0</td>\n      <td>Responsabilidad Civil Personas o Cosas</td>\n      <td>...</td>\n      <td>Natural</td>\n      <td>0</td>\n      <td>29730.0</td>\n      <td>Camiones cama</td>\n      <td>Blanco</td>\n      <td>DAIHATSU</td>\n      <td>DELTA</td>\n      <td>2007.0</td>\n      <td>Sincronico</td>\n      <td>01</td>\n    </tr>\n    <tr>\n      <th>3</th>\n      <td>4</td>\n      <td>14301</td>\n      <td>2016-02-15</td>\n      <td>4</td>\n      <td>1.0</td>\n      <td>1.0</td>\n      <td>Arroyo Hondo II</td>\n      <td></td>\n      <td>0.0</td>\n      <td>Robo o Hurto Accesorios/ Partes o Piezas</td>\n      <td>...</td>\n      <td>NaN</td>\n      <td>NaN</td>\n      <td>41469.0</td>\n      <td>Jeeps y Vanette</td>\n      <td>Gris</td>\n      <td>KIA</td>\n      <td>SPORTAGE</td>\n      <td>2012.0</td>\n      <td>Base 4x4 - Automatico</td>\n      <td>01</td>\n    </tr>\n    <tr>\n      <th>4</th>\n      <td>5</td>\n      <td>24144</td>\n      <td>2016-02-03</td>\n      <td>5</td>\n      <td>1.0</td>\n      <td>1.0</td>\n      <td>Avenida Gustavo Mejia Ricart</td>\n      <td></td>\n      <td>0.0</td>\n      <td>Accidente/Choque</td>\n      <td>...</td>\n      <td>Juridica</td>\n      <td>0</td>\n      <td>24144.0</td>\n      <td>Jeeps y Vanette</td>\n      <td>Blanco</td>\n      <td>TOYOTA</td>\n      <td>PRADO</td>\n      <td>2013.0</td>\n      <td>%Sincronico</td>\n      <td>01</td>\n    </tr>\n    <tr>\n      <th>...</th>\n      <td>...</td>\n      <td>...</td>\n      <td>...</td>\n      <td>...</td>\n      <td>...</td>\n      <td>...</td>\n      <td>...</td>\n      <td>...</td>\n      <td>...</td>\n      <td>...</td>\n      <td>...</td>\n      <td>...</td>\n      <td>...</td>\n      <td>...</td>\n      <td>...</td>\n      <td>...</td>\n      <td>...</td>\n      <td>...</td>\n      <td>...</td>\n      <td>...</td>\n      <td>...</td>\n    </tr>\n    <tr>\n      <th>18701</th>\n      <td>18702</td>\n      <td>192804</td>\n      <td>2023-04-04</td>\n      <td>11379</td>\n      <td>1.0</td>\n      <td>1.0</td>\n      <td>AUTOPISTA DUARTE</td>\n      <td></td>\n      <td>0.0</td>\n      <td>Rotura de Vidrios y/o Parabrisas</td>\n      <td>...</td>\n      <td>Juridica</td>\n      <td>0</td>\n      <td>192804.0</td>\n      <td>Jeeps y Vanette</td>\n      <td>Blanco</td>\n      <td>JEEP</td>\n      <td>WRANGLER</td>\n      <td>2023.0</td>\n      <td>Renegade 4x4 - Automatico</td>\n      <td>01</td>\n    </tr>\n    <tr>\n      <th>18702</th>\n      <td>18703</td>\n      <td>181905</td>\n      <td>2023-06-03</td>\n      <td>11470</td>\n      <td>1.0</td>\n      <td>1.0</td>\n      <td>LOS MULTIS LOS ALCARRIZOS</td>\n      <td></td>\n      <td>0.0</td>\n      <td>Rotura de Vidrios y/o Parabrisas</td>\n      <td>...</td>\n      <td>Natural</td>\n      <td>Elías Piña</td>\n      <td>181905.0</td>\n      <td>Camioneta</td>\n      <td>Blanco</td>\n      <td>ISUZU</td>\n      <td>D-MAX</td>\n      <td>2015.0</td>\n      <td>Automatico</td>\n      <td>01</td>\n    </tr>\n    <tr>\n      <th>18703</th>\n      <td>18704</td>\n      <td>182109</td>\n      <td>2023-05-22</td>\n      <td>11471</td>\n      <td>1.0</td>\n      <td>1.0</td>\n      <td>AUTOPISTA DUARTE</td>\n      <td></td>\n      <td>0.0</td>\n      <td>Rotura de Vidrios y/o Parabrisas</td>\n      <td>...</td>\n      <td>Natural</td>\n      <td>0</td>\n      <td>182109.0</td>\n      <td>Jeeps y Vanette</td>\n      <td>Azul</td>\n      <td>HYUNDAI</td>\n      <td>TUCSON</td>\n      <td>2014.0</td>\n      <td>GL - Automatico</td>\n      <td>01</td>\n    </tr>\n    <tr>\n      <th>18704</th>\n      <td>18705</td>\n      <td>302838</td>\n      <td>2023-06-01</td>\n      <td>11472</td>\n      <td>1.0</td>\n      <td>1.0</td>\n      <td>CALLE CAMINO CHIQUITO</td>\n      <td></td>\n      <td>0.0</td>\n      <td>Accidente/Choque</td>\n      <td>...</td>\n      <td>Natural</td>\n      <td>Distrito Nacional</td>\n      <td>302838.0</td>\n      <td>Camioneta</td>\n      <td>Gris</td>\n      <td>TOYOTA</td>\n      <td>HILUX</td>\n      <td>2023.0</td>\n      <td>Cabina Sencilla Pick-Up 4x4 - Sincronico</td>\n      <td>01</td>\n    </tr>\n    <tr>\n      <th>18705</th>\n      <td>18706</td>\n      <td>114156</td>\n      <td>2023-05-06</td>\n      <td>11311</td>\n      <td>13.0</td>\n      <td>1.0</td>\n      <td>HIGUEY PROXIMO AL COMERCIAL REYNALDO VILLA CER...</td>\n      <td></td>\n      <td>0.0</td>\n      <td>Responsabilidad Civil Personas o Cosas</td>\n      <td>...</td>\n      <td>Natural</td>\n      <td>0</td>\n      <td>114156.0</td>\n      <td>Jeeps y Vanette</td>\n      <td>Gris</td>\n      <td>LEXUS</td>\n      <td>RX</td>\n      <td>2004.0</td>\n      <td>330 - Automatico</td>\n      <td>01</td>\n    </tr>\n  </tbody>\n</table>\n<p>18706 rows × 45 columns</p>\n</div>"
     },
     "execution_count": 36,
     "metadata": {},
     "output_type": "execute_result"
    }
   ],
   "source": [
    "df_comb"
   ],
   "metadata": {
    "collapsed": false,
    "ExecuteTime": {
     "end_time": "2023-08-20T08:17:14.075776Z",
     "start_time": "2023-08-20T08:17:13.952288Z"
    }
   }
  },
  {
   "cell_type": "code",
   "execution_count": 37,
   "outputs": [],
   "source": [
    "#Saber si es extranjero o no\n",
    "df_comb['EXTRANJERO'] = df_comb['TP_DOCUMENTO'].apply(lambda x: 1 if x == 'PAS' else 0)"
   ],
   "metadata": {
    "collapsed": false,
    "ExecuteTime": {
     "end_time": "2023-08-20T08:17:14.076268Z",
     "start_time": "2023-08-20T08:17:13.965659Z"
    }
   }
  },
  {
   "cell_type": "code",
   "execution_count": 38,
   "outputs": [
    {
     "data": {
      "text/plain": "0    18362\n1      344\nName: EXTRANJERO, dtype: int64"
     },
     "execution_count": 38,
     "metadata": {},
     "output_type": "execute_result"
    }
   ],
   "source": [
    "df_comb['EXTRANJERO'].value_counts()"
   ],
   "metadata": {
    "collapsed": false,
    "ExecuteTime": {
     "end_time": "2023-08-20T08:17:14.076529Z",
     "start_time": "2023-08-20T08:17:13.988575Z"
    }
   }
  },
  {
   "cell_type": "code",
   "execution_count": 39,
   "outputs": [],
   "source": [
    "# moda_es_extranjero = df_comb.groupby(\"FE_OCURRENCIA\").size().reset_index(name=\"Moda_Es_Extranjero\")\n",
    "moda_es_extranjero = df_comb.groupby(\"FE_OCURRENCIA\")[\"EXTRANJERO\"].apply(lambda x: x.mode().iloc[0]).reset_index(name=\"EXTRANJERO\")"
   ],
   "metadata": {
    "collapsed": false,
    "ExecuteTime": {
     "end_time": "2023-08-20T08:17:14.627555Z",
     "start_time": "2023-08-20T08:17:14.000453Z"
    }
   }
  },
  {
   "cell_type": "code",
   "execution_count": 40,
   "outputs": [
    {
     "data": {
      "text/plain": "     FE_OCURRENCIA  EXTRANJERO\n0       2014-07-05           0\n1       2014-07-08           0\n2       2014-07-11           0\n3       2014-07-12           0\n4       2014-07-14           0\n...            ...         ...\n3113    2023-06-30           0\n3114    2023-07-01           0\n3115    2023-07-02           0\n3116    2023-07-03           0\n3117    2023-07-04           0\n\n[3118 rows x 2 columns]",
      "text/html": "<div>\n<style scoped>\n    .dataframe tbody tr th:only-of-type {\n        vertical-align: middle;\n    }\n\n    .dataframe tbody tr th {\n        vertical-align: top;\n    }\n\n    .dataframe thead th {\n        text-align: right;\n    }\n</style>\n<table border=\"1\" class=\"dataframe\">\n  <thead>\n    <tr style=\"text-align: right;\">\n      <th></th>\n      <th>FE_OCURRENCIA</th>\n      <th>EXTRANJERO</th>\n    </tr>\n  </thead>\n  <tbody>\n    <tr>\n      <th>0</th>\n      <td>2014-07-05</td>\n      <td>0</td>\n    </tr>\n    <tr>\n      <th>1</th>\n      <td>2014-07-08</td>\n      <td>0</td>\n    </tr>\n    <tr>\n      <th>2</th>\n      <td>2014-07-11</td>\n      <td>0</td>\n    </tr>\n    <tr>\n      <th>3</th>\n      <td>2014-07-12</td>\n      <td>0</td>\n    </tr>\n    <tr>\n      <th>4</th>\n      <td>2014-07-14</td>\n      <td>0</td>\n    </tr>\n    <tr>\n      <th>...</th>\n      <td>...</td>\n      <td>...</td>\n    </tr>\n    <tr>\n      <th>3113</th>\n      <td>2023-06-30</td>\n      <td>0</td>\n    </tr>\n    <tr>\n      <th>3114</th>\n      <td>2023-07-01</td>\n      <td>0</td>\n    </tr>\n    <tr>\n      <th>3115</th>\n      <td>2023-07-02</td>\n      <td>0</td>\n    </tr>\n    <tr>\n      <th>3116</th>\n      <td>2023-07-03</td>\n      <td>0</td>\n    </tr>\n    <tr>\n      <th>3117</th>\n      <td>2023-07-04</td>\n      <td>0</td>\n    </tr>\n  </tbody>\n</table>\n<p>3118 rows × 2 columns</p>\n</div>"
     },
     "execution_count": 40,
     "metadata": {},
     "output_type": "execute_result"
    }
   ],
   "source": [
    "moda_es_extranjero"
   ],
   "metadata": {
    "collapsed": false,
    "ExecuteTime": {
     "end_time": "2023-08-20T08:17:14.648528Z",
     "start_time": "2023-08-20T08:17:14.636575Z"
    }
   }
  },
  {
   "cell_type": "code",
   "execution_count": 41,
   "outputs": [
    {
     "data": {
      "text/plain": "0    3117\n1       1\nName: EXTRANJERO, dtype: int64"
     },
     "execution_count": 41,
     "metadata": {},
     "output_type": "execute_result"
    }
   ],
   "source": [
    "moda_es_extranjero['EXTRANJERO'].value_counts()"
   ],
   "metadata": {
    "collapsed": false,
    "ExecuteTime": {
     "end_time": "2023-08-20T08:17:14.676471Z",
     "start_time": "2023-08-20T08:17:14.646030Z"
    }
   }
  },
  {
   "cell_type": "code",
   "execution_count": 42,
   "outputs": [
    {
     "data": {
      "text/plain": "Jeeps y Vanette                   9418\nAutomovil                         5381\nCamioneta                         1743\nFurgoneta                          590\nCamiones cama                      504\nCamion                             335\nCabezotes, Patanas y Tractores     282\nMinibus                            260\nAutobus                            120\nMaquinaria Pesada                   37\nVolqueta                            11\nMotocicleta                          5\nRemolque                             2\nGrua                                 1\nOtros Tipos                          1\nName: TIPO_VEHICULO, dtype: int64"
     },
     "execution_count": 42,
     "metadata": {},
     "output_type": "execute_result"
    }
   ],
   "source": [
    "df_comb['TIPO_VEHICULO'].value_counts()"
   ],
   "metadata": {
    "collapsed": false,
    "ExecuteTime": {
     "end_time": "2023-08-20T08:17:14.677223Z",
     "start_time": "2023-08-20T08:17:14.655980Z"
    }
   }
  },
  {
   "cell_type": "code",
   "execution_count": 43,
   "outputs": [],
   "source": [
    "mapeo_categorias = {\n",
    "    \"Jeeps y Vanette\": 2,  # Automóviles y jeepetas\n",
    "    \"Automovil\": 2,        # Automóviles y jeepetas\n",
    "    \"Camioneta\": 3,        # Minibuses y camionetas\n",
    "    \"Camiones cama\": 5,    # Camiones pesados y extra pesados\n",
    "    \"Furgoneta\": 3,        # Minibuses y camionetas\n",
    "    \"Minibus\": 3,          # Minibuses y camionetas\n",
    "    \"Camion\": 4,           # Camiones medianos\n",
    "    \"Cabezotes, Patanas y Tractores\": 5,  # Camiones pesados y extra pesados\n",
    "    \"Autobus\": 6           # Ómnibus y autobuses\n",
    "}\n",
    "\n",
    "# Crear una nueva columna 'Categoria_Licencia' basada en el mapeo\n",
    "df_comb[\"CAT_VEHICULO\"] = df_comb[\"TIPO_VEHICULO\"].map(mapeo_categorias)\n",
    "df_comb[\"CAT_VEHICULO\"].fillna(2, inplace=True)"
   ],
   "metadata": {
    "collapsed": false,
    "ExecuteTime": {
     "end_time": "2023-08-20T08:17:20.176868Z",
     "start_time": "2023-08-20T08:17:20.166763Z"
    }
   }
  },
  {
   "cell_type": "code",
   "execution_count": 44,
   "outputs": [
    {
     "data": {
      "text/plain": "array([2., 5., 3., 6., 4.])"
     },
     "execution_count": 44,
     "metadata": {},
     "output_type": "execute_result"
    }
   ],
   "source": [
    "df_comb[\"CAT_VEHICULO\"].unique()"
   ],
   "metadata": {
    "collapsed": false,
    "ExecuteTime": {
     "end_time": "2023-08-20T08:17:21.033583Z",
     "start_time": "2023-08-20T08:17:21.018681Z"
    }
   }
  },
  {
   "cell_type": "code",
   "execution_count": 45,
   "outputs": [],
   "source": [
    "moda_c_vehiculo = df_comb.groupby(\"FE_OCURRENCIA\")[\"CAT_VEHICULO\"].apply(lambda x: x.mode().iloc[0]).reset_index(name=\"CAT_VEHICULO\")"
   ],
   "metadata": {
    "collapsed": false,
    "ExecuteTime": {
     "end_time": "2023-08-20T08:17:23.688230Z",
     "start_time": "2023-08-20T08:17:23.053211Z"
    }
   }
  },
  {
   "cell_type": "code",
   "execution_count": 46,
   "outputs": [
    {
     "data": {
      "text/plain": "     FE_OCURRENCIA  CAT_VEHICULO\n0       2014-07-05           3.0\n1       2014-07-08           2.0\n2       2014-07-11           4.0\n3       2014-07-12           2.0\n4       2014-07-14           5.0\n...            ...           ...\n3113    2023-06-30           2.0\n3114    2023-07-01           2.0\n3115    2023-07-02           2.0\n3116    2023-07-03           2.0\n3117    2023-07-04           2.0\n\n[3118 rows x 2 columns]",
      "text/html": "<div>\n<style scoped>\n    .dataframe tbody tr th:only-of-type {\n        vertical-align: middle;\n    }\n\n    .dataframe tbody tr th {\n        vertical-align: top;\n    }\n\n    .dataframe thead th {\n        text-align: right;\n    }\n</style>\n<table border=\"1\" class=\"dataframe\">\n  <thead>\n    <tr style=\"text-align: right;\">\n      <th></th>\n      <th>FE_OCURRENCIA</th>\n      <th>CAT_VEHICULO</th>\n    </tr>\n  </thead>\n  <tbody>\n    <tr>\n      <th>0</th>\n      <td>2014-07-05</td>\n      <td>3.0</td>\n    </tr>\n    <tr>\n      <th>1</th>\n      <td>2014-07-08</td>\n      <td>2.0</td>\n    </tr>\n    <tr>\n      <th>2</th>\n      <td>2014-07-11</td>\n      <td>4.0</td>\n    </tr>\n    <tr>\n      <th>3</th>\n      <td>2014-07-12</td>\n      <td>2.0</td>\n    </tr>\n    <tr>\n      <th>4</th>\n      <td>2014-07-14</td>\n      <td>5.0</td>\n    </tr>\n    <tr>\n      <th>...</th>\n      <td>...</td>\n      <td>...</td>\n    </tr>\n    <tr>\n      <th>3113</th>\n      <td>2023-06-30</td>\n      <td>2.0</td>\n    </tr>\n    <tr>\n      <th>3114</th>\n      <td>2023-07-01</td>\n      <td>2.0</td>\n    </tr>\n    <tr>\n      <th>3115</th>\n      <td>2023-07-02</td>\n      <td>2.0</td>\n    </tr>\n    <tr>\n      <th>3116</th>\n      <td>2023-07-03</td>\n      <td>2.0</td>\n    </tr>\n    <tr>\n      <th>3117</th>\n      <td>2023-07-04</td>\n      <td>2.0</td>\n    </tr>\n  </tbody>\n</table>\n<p>3118 rows × 2 columns</p>\n</div>"
     },
     "execution_count": 46,
     "metadata": {},
     "output_type": "execute_result"
    }
   ],
   "source": [
    "moda_c_vehiculo"
   ],
   "metadata": {
    "collapsed": false,
    "ExecuteTime": {
     "end_time": "2023-08-20T08:17:23.688504Z",
     "start_time": "2023-08-20T08:17:23.676874Z"
    }
   }
  },
  {
   "cell_type": "code",
   "execution_count": 47,
   "outputs": [],
   "source": [
    "new_df = f_accidentes.merge(hora_ocurrencia_pro, on=\"FE_OCURRENCIA\")\n",
    "new_df = new_df.merge(moda_provincia_siniestro, on=\"FE_OCURRENCIA\")\n",
    "new_df = new_df.merge(moda_es_extranjero, on=\"FE_OCURRENCIA\")\n",
    "new_df = new_df.merge(moda_c_vehiculo, on=\"FE_OCURRENCIA\")"
   ],
   "metadata": {
    "collapsed": false,
    "ExecuteTime": {
     "end_time": "2023-08-20T08:17:24.449135Z",
     "start_time": "2023-08-20T08:17:24.423410Z"
    }
   }
  },
  {
   "cell_type": "code",
   "execution_count": 48,
   "outputs": [],
   "source": [
    "# Agregar columna de mes (1: Enero, 12: Diciembre)\n",
    "new_df[\"MES\"] = new_df[\"FE_OCURRENCIA\"].dt.month\n",
    "\n",
    "# Agregar columna de día de la semana (0: Lunes, 6: Domingo)\n",
    "new_df[\"DIA_SEMANA\"] = new_df[\"FE_OCURRENCIA\"].dt.dayofweek\n",
    "\n",
    "# Mapear los valores numéricos de día de la semana a nombres\n",
    "dias_semana_nombres = [\"Lunes\", \"Martes\", \"Miércoles\", \"Jueves\", \"Viernes\", \"Sábado\", \"Domingo\"]\n",
    "new_df[\"DIA_SEMANA\"] = new_df[\"DIA_SEMANA\"].map(lambda x: dias_semana_nombres[x])\n",
    "\n",
    "# Mapear los valores numéricos de mes a nombres\n",
    "meses_nombres = [\"Enero\", \"Febrero\", \"Marzo\", \"Abril\", \"Mayo\", \"Junio\", \"Julio\", \"Agosto\", \"Septiembre\", \"Octubre\", \"Noviembre\", \"Diciembre\"]\n",
    "new_df[\"MES\"] = new_df[\"MES\"].map(lambda x: meses_nombres[x - 1])"
   ],
   "metadata": {
    "collapsed": false,
    "ExecuteTime": {
     "end_time": "2023-08-20T08:17:24.833261Z",
     "start_time": "2023-08-20T08:17:24.815187Z"
    }
   }
  },
  {
   "cell_type": "code",
   "execution_count": 49,
   "outputs": [
    {
     "data": {
      "text/plain": "     FE_OCURRENCIA  FRECUENCIA HORA_OCURRENCIA CO_PROVINCIA  EXTRANJERO  \\\n0       2014-07-05           1           16:00           01           0   \n1       2014-07-08           1           10:30           01           0   \n2       2014-07-11           1           10:00           01           0   \n3       2014-07-12           1           22:00           01           0   \n4       2014-07-14           1           10:00           01           0   \n...            ...         ...             ...          ...         ...   \n3113    2023-06-30           2           12:54           01           0   \n3114    2023-07-01           3           12:54           01           0   \n3115    2023-07-02           2           12:54           01           0   \n3116    2023-07-03           4           12:54           01           0   \n3117    2023-07-04           4           08:15           01           0   \n\n      CAT_VEHICULO    MES DIA_SEMANA  \n0              3.0  Julio     Sábado  \n1              2.0  Julio     Martes  \n2              4.0  Julio    Viernes  \n3              2.0  Julio     Sábado  \n4              5.0  Julio      Lunes  \n...            ...    ...        ...  \n3113           2.0  Junio    Viernes  \n3114           2.0  Julio     Sábado  \n3115           2.0  Julio    Domingo  \n3116           2.0  Julio      Lunes  \n3117           2.0  Julio     Martes  \n\n[3118 rows x 8 columns]",
      "text/html": "<div>\n<style scoped>\n    .dataframe tbody tr th:only-of-type {\n        vertical-align: middle;\n    }\n\n    .dataframe tbody tr th {\n        vertical-align: top;\n    }\n\n    .dataframe thead th {\n        text-align: right;\n    }\n</style>\n<table border=\"1\" class=\"dataframe\">\n  <thead>\n    <tr style=\"text-align: right;\">\n      <th></th>\n      <th>FE_OCURRENCIA</th>\n      <th>FRECUENCIA</th>\n      <th>HORA_OCURRENCIA</th>\n      <th>CO_PROVINCIA</th>\n      <th>EXTRANJERO</th>\n      <th>CAT_VEHICULO</th>\n      <th>MES</th>\n      <th>DIA_SEMANA</th>\n    </tr>\n  </thead>\n  <tbody>\n    <tr>\n      <th>0</th>\n      <td>2014-07-05</td>\n      <td>1</td>\n      <td>16:00</td>\n      <td>01</td>\n      <td>0</td>\n      <td>3.0</td>\n      <td>Julio</td>\n      <td>Sábado</td>\n    </tr>\n    <tr>\n      <th>1</th>\n      <td>2014-07-08</td>\n      <td>1</td>\n      <td>10:30</td>\n      <td>01</td>\n      <td>0</td>\n      <td>2.0</td>\n      <td>Julio</td>\n      <td>Martes</td>\n    </tr>\n    <tr>\n      <th>2</th>\n      <td>2014-07-11</td>\n      <td>1</td>\n      <td>10:00</td>\n      <td>01</td>\n      <td>0</td>\n      <td>4.0</td>\n      <td>Julio</td>\n      <td>Viernes</td>\n    </tr>\n    <tr>\n      <th>3</th>\n      <td>2014-07-12</td>\n      <td>1</td>\n      <td>22:00</td>\n      <td>01</td>\n      <td>0</td>\n      <td>2.0</td>\n      <td>Julio</td>\n      <td>Sábado</td>\n    </tr>\n    <tr>\n      <th>4</th>\n      <td>2014-07-14</td>\n      <td>1</td>\n      <td>10:00</td>\n      <td>01</td>\n      <td>0</td>\n      <td>5.0</td>\n      <td>Julio</td>\n      <td>Lunes</td>\n    </tr>\n    <tr>\n      <th>...</th>\n      <td>...</td>\n      <td>...</td>\n      <td>...</td>\n      <td>...</td>\n      <td>...</td>\n      <td>...</td>\n      <td>...</td>\n      <td>...</td>\n    </tr>\n    <tr>\n      <th>3113</th>\n      <td>2023-06-30</td>\n      <td>2</td>\n      <td>12:54</td>\n      <td>01</td>\n      <td>0</td>\n      <td>2.0</td>\n      <td>Junio</td>\n      <td>Viernes</td>\n    </tr>\n    <tr>\n      <th>3114</th>\n      <td>2023-07-01</td>\n      <td>3</td>\n      <td>12:54</td>\n      <td>01</td>\n      <td>0</td>\n      <td>2.0</td>\n      <td>Julio</td>\n      <td>Sábado</td>\n    </tr>\n    <tr>\n      <th>3115</th>\n      <td>2023-07-02</td>\n      <td>2</td>\n      <td>12:54</td>\n      <td>01</td>\n      <td>0</td>\n      <td>2.0</td>\n      <td>Julio</td>\n      <td>Domingo</td>\n    </tr>\n    <tr>\n      <th>3116</th>\n      <td>2023-07-03</td>\n      <td>4</td>\n      <td>12:54</td>\n      <td>01</td>\n      <td>0</td>\n      <td>2.0</td>\n      <td>Julio</td>\n      <td>Lunes</td>\n    </tr>\n    <tr>\n      <th>3117</th>\n      <td>2023-07-04</td>\n      <td>4</td>\n      <td>08:15</td>\n      <td>01</td>\n      <td>0</td>\n      <td>2.0</td>\n      <td>Julio</td>\n      <td>Martes</td>\n    </tr>\n  </tbody>\n</table>\n<p>3118 rows × 8 columns</p>\n</div>"
     },
     "execution_count": 49,
     "metadata": {},
     "output_type": "execute_result"
    }
   ],
   "source": [
    "new_df"
   ],
   "metadata": {
    "collapsed": false,
    "ExecuteTime": {
     "end_time": "2023-08-20T08:17:25.579298Z",
     "start_time": "2023-08-20T08:17:25.532907Z"
    }
   }
  },
  {
   "cell_type": "code",
   "execution_count": 50,
   "outputs": [],
   "source": [
    "# Agregar columna de estación del año\n",
    "def obtener_estacion(mes):\n",
    "    if mes in ['Diciembre', 'Enero', 'Febrero']:\n",
    "        return \"Invierno\"\n",
    "    elif mes in [\"Marzo\", \"Abril\", \"Mayo\"]:\n",
    "        return \"Primavera\"\n",
    "    elif mes in [\"Junio\", \"Julio\", \"Agosto\"]:\n",
    "        return \"Verano\"\n",
    "    else:\n",
    "        return \"Otoño\"\n",
    "\n",
    "new_df[\"ESTACION_A\"] = new_df[\"MES\"].apply(obtener_estacion)"
   ],
   "metadata": {
    "collapsed": false,
    "ExecuteTime": {
     "end_time": "2023-08-20T08:17:26.133263Z",
     "start_time": "2023-08-20T08:17:26.098889Z"
    }
   }
  },
  {
   "cell_type": "code",
   "execution_count": 51,
   "outputs": [
    {
     "data": {
      "text/plain": "     FE_OCURRENCIA  FRECUENCIA HORA_OCURRENCIA CO_PROVINCIA  EXTRANJERO  \\\n0       2014-07-05           1           16:00           01           0   \n1       2014-07-08           1           10:30           01           0   \n2       2014-07-11           1           10:00           01           0   \n3       2014-07-12           1           22:00           01           0   \n4       2014-07-14           1           10:00           01           0   \n...            ...         ...             ...          ...         ...   \n3113    2023-06-30           2           12:54           01           0   \n3114    2023-07-01           3           12:54           01           0   \n3115    2023-07-02           2           12:54           01           0   \n3116    2023-07-03           4           12:54           01           0   \n3117    2023-07-04           4           08:15           01           0   \n\n      CAT_VEHICULO    MES DIA_SEMANA ESTACION_A  \n0              3.0  Julio     Sábado     Verano  \n1              2.0  Julio     Martes     Verano  \n2              4.0  Julio    Viernes     Verano  \n3              2.0  Julio     Sábado     Verano  \n4              5.0  Julio      Lunes     Verano  \n...            ...    ...        ...        ...  \n3113           2.0  Junio    Viernes     Verano  \n3114           2.0  Julio     Sábado     Verano  \n3115           2.0  Julio    Domingo     Verano  \n3116           2.0  Julio      Lunes     Verano  \n3117           2.0  Julio     Martes     Verano  \n\n[3118 rows x 9 columns]",
      "text/html": "<div>\n<style scoped>\n    .dataframe tbody tr th:only-of-type {\n        vertical-align: middle;\n    }\n\n    .dataframe tbody tr th {\n        vertical-align: top;\n    }\n\n    .dataframe thead th {\n        text-align: right;\n    }\n</style>\n<table border=\"1\" class=\"dataframe\">\n  <thead>\n    <tr style=\"text-align: right;\">\n      <th></th>\n      <th>FE_OCURRENCIA</th>\n      <th>FRECUENCIA</th>\n      <th>HORA_OCURRENCIA</th>\n      <th>CO_PROVINCIA</th>\n      <th>EXTRANJERO</th>\n      <th>CAT_VEHICULO</th>\n      <th>MES</th>\n      <th>DIA_SEMANA</th>\n      <th>ESTACION_A</th>\n    </tr>\n  </thead>\n  <tbody>\n    <tr>\n      <th>0</th>\n      <td>2014-07-05</td>\n      <td>1</td>\n      <td>16:00</td>\n      <td>01</td>\n      <td>0</td>\n      <td>3.0</td>\n      <td>Julio</td>\n      <td>Sábado</td>\n      <td>Verano</td>\n    </tr>\n    <tr>\n      <th>1</th>\n      <td>2014-07-08</td>\n      <td>1</td>\n      <td>10:30</td>\n      <td>01</td>\n      <td>0</td>\n      <td>2.0</td>\n      <td>Julio</td>\n      <td>Martes</td>\n      <td>Verano</td>\n    </tr>\n    <tr>\n      <th>2</th>\n      <td>2014-07-11</td>\n      <td>1</td>\n      <td>10:00</td>\n      <td>01</td>\n      <td>0</td>\n      <td>4.0</td>\n      <td>Julio</td>\n      <td>Viernes</td>\n      <td>Verano</td>\n    </tr>\n    <tr>\n      <th>3</th>\n      <td>2014-07-12</td>\n      <td>1</td>\n      <td>22:00</td>\n      <td>01</td>\n      <td>0</td>\n      <td>2.0</td>\n      <td>Julio</td>\n      <td>Sábado</td>\n      <td>Verano</td>\n    </tr>\n    <tr>\n      <th>4</th>\n      <td>2014-07-14</td>\n      <td>1</td>\n      <td>10:00</td>\n      <td>01</td>\n      <td>0</td>\n      <td>5.0</td>\n      <td>Julio</td>\n      <td>Lunes</td>\n      <td>Verano</td>\n    </tr>\n    <tr>\n      <th>...</th>\n      <td>...</td>\n      <td>...</td>\n      <td>...</td>\n      <td>...</td>\n      <td>...</td>\n      <td>...</td>\n      <td>...</td>\n      <td>...</td>\n      <td>...</td>\n    </tr>\n    <tr>\n      <th>3113</th>\n      <td>2023-06-30</td>\n      <td>2</td>\n      <td>12:54</td>\n      <td>01</td>\n      <td>0</td>\n      <td>2.0</td>\n      <td>Junio</td>\n      <td>Viernes</td>\n      <td>Verano</td>\n    </tr>\n    <tr>\n      <th>3114</th>\n      <td>2023-07-01</td>\n      <td>3</td>\n      <td>12:54</td>\n      <td>01</td>\n      <td>0</td>\n      <td>2.0</td>\n      <td>Julio</td>\n      <td>Sábado</td>\n      <td>Verano</td>\n    </tr>\n    <tr>\n      <th>3115</th>\n      <td>2023-07-02</td>\n      <td>2</td>\n      <td>12:54</td>\n      <td>01</td>\n      <td>0</td>\n      <td>2.0</td>\n      <td>Julio</td>\n      <td>Domingo</td>\n      <td>Verano</td>\n    </tr>\n    <tr>\n      <th>3116</th>\n      <td>2023-07-03</td>\n      <td>4</td>\n      <td>12:54</td>\n      <td>01</td>\n      <td>0</td>\n      <td>2.0</td>\n      <td>Julio</td>\n      <td>Lunes</td>\n      <td>Verano</td>\n    </tr>\n    <tr>\n      <th>3117</th>\n      <td>2023-07-04</td>\n      <td>4</td>\n      <td>08:15</td>\n      <td>01</td>\n      <td>0</td>\n      <td>2.0</td>\n      <td>Julio</td>\n      <td>Martes</td>\n      <td>Verano</td>\n    </tr>\n  </tbody>\n</table>\n<p>3118 rows × 9 columns</p>\n</div>"
     },
     "execution_count": 51,
     "metadata": {},
     "output_type": "execute_result"
    }
   ],
   "source": [
    "new_df"
   ],
   "metadata": {
    "collapsed": false,
    "ExecuteTime": {
     "end_time": "2023-08-20T08:17:26.506479Z",
     "start_time": "2023-08-20T08:17:26.437511Z"
    }
   }
  },
  {
   "cell_type": "code",
   "execution_count": 52,
   "outputs": [
    {
     "data": {
      "text/plain": "0       16:00\n1       10:30\n2       10:00\n3       22:00\n4       10:00\n        ...  \n3113    12:54\n3114    12:54\n3115    12:54\n3116    12:54\n3117    08:15\nName: HORA_OCURRENCIA, Length: 3118, dtype: object"
     },
     "execution_count": 52,
     "metadata": {},
     "output_type": "execute_result"
    }
   ],
   "source": [
    "new_df['HORA_OCURRENCIA']"
   ],
   "metadata": {
    "collapsed": false,
    "ExecuteTime": {
     "end_time": "2023-08-20T08:17:27.187271Z",
     "start_time": "2023-08-20T08:17:27.162816Z"
    }
   }
  },
  {
   "cell_type": "code",
   "execution_count": 53,
   "outputs": [],
   "source": [
    "# # Ordenar el DataFrame por la columna de fechas\n",
    "# new_df = new_df.sort_values(by=\"FE_OCURRENCIA\")\n",
    "#\n",
    "# # Calcular la diferencia en días entre accidentes consecutivos basados en la nueva frecuencia\n",
    "# new_df[\"D_A_ANTERIOR\"] = new_df[\"FE_OCURRENCIA\"].diff().dt.days\n",
    "#\n",
    "# # Llenar los valores faltantes con 0, ya que no hay accidente anterior en esos casos\n",
    "# new_df[\"D_A_ANTERIOR\"].fillna(0, inplace=True)"
   ],
   "metadata": {
    "collapsed": false,
    "ExecuteTime": {
     "end_time": "2023-08-20T08:17:27.565280Z",
     "start_time": "2023-08-20T08:17:27.500800Z"
    }
   }
  },
  {
   "cell_type": "code",
   "execution_count": 54,
   "outputs": [
    {
     "data": {
      "text/plain": "     FE_OCURRENCIA  FRECUENCIA HORA_OCURRENCIA CO_PROVINCIA  EXTRANJERO  \\\n0       2014-07-05           1           16:00           01           0   \n1       2014-07-08           1           10:30           01           0   \n2       2014-07-11           1           10:00           01           0   \n3       2014-07-12           1           22:00           01           0   \n4       2014-07-14           1           10:00           01           0   \n...            ...         ...             ...          ...         ...   \n3113    2023-06-30           2           12:54           01           0   \n3114    2023-07-01           3           12:54           01           0   \n3115    2023-07-02           2           12:54           01           0   \n3116    2023-07-03           4           12:54           01           0   \n3117    2023-07-04           4           08:15           01           0   \n\n      CAT_VEHICULO    MES DIA_SEMANA ESTACION_A  \n0              3.0  Julio     Sábado     Verano  \n1              2.0  Julio     Martes     Verano  \n2              4.0  Julio    Viernes     Verano  \n3              2.0  Julio     Sábado     Verano  \n4              5.0  Julio      Lunes     Verano  \n...            ...    ...        ...        ...  \n3113           2.0  Junio    Viernes     Verano  \n3114           2.0  Julio     Sábado     Verano  \n3115           2.0  Julio    Domingo     Verano  \n3116           2.0  Julio      Lunes     Verano  \n3117           2.0  Julio     Martes     Verano  \n\n[3118 rows x 9 columns]",
      "text/html": "<div>\n<style scoped>\n    .dataframe tbody tr th:only-of-type {\n        vertical-align: middle;\n    }\n\n    .dataframe tbody tr th {\n        vertical-align: top;\n    }\n\n    .dataframe thead th {\n        text-align: right;\n    }\n</style>\n<table border=\"1\" class=\"dataframe\">\n  <thead>\n    <tr style=\"text-align: right;\">\n      <th></th>\n      <th>FE_OCURRENCIA</th>\n      <th>FRECUENCIA</th>\n      <th>HORA_OCURRENCIA</th>\n      <th>CO_PROVINCIA</th>\n      <th>EXTRANJERO</th>\n      <th>CAT_VEHICULO</th>\n      <th>MES</th>\n      <th>DIA_SEMANA</th>\n      <th>ESTACION_A</th>\n    </tr>\n  </thead>\n  <tbody>\n    <tr>\n      <th>0</th>\n      <td>2014-07-05</td>\n      <td>1</td>\n      <td>16:00</td>\n      <td>01</td>\n      <td>0</td>\n      <td>3.0</td>\n      <td>Julio</td>\n      <td>Sábado</td>\n      <td>Verano</td>\n    </tr>\n    <tr>\n      <th>1</th>\n      <td>2014-07-08</td>\n      <td>1</td>\n      <td>10:30</td>\n      <td>01</td>\n      <td>0</td>\n      <td>2.0</td>\n      <td>Julio</td>\n      <td>Martes</td>\n      <td>Verano</td>\n    </tr>\n    <tr>\n      <th>2</th>\n      <td>2014-07-11</td>\n      <td>1</td>\n      <td>10:00</td>\n      <td>01</td>\n      <td>0</td>\n      <td>4.0</td>\n      <td>Julio</td>\n      <td>Viernes</td>\n      <td>Verano</td>\n    </tr>\n    <tr>\n      <th>3</th>\n      <td>2014-07-12</td>\n      <td>1</td>\n      <td>22:00</td>\n      <td>01</td>\n      <td>0</td>\n      <td>2.0</td>\n      <td>Julio</td>\n      <td>Sábado</td>\n      <td>Verano</td>\n    </tr>\n    <tr>\n      <th>4</th>\n      <td>2014-07-14</td>\n      <td>1</td>\n      <td>10:00</td>\n      <td>01</td>\n      <td>0</td>\n      <td>5.0</td>\n      <td>Julio</td>\n      <td>Lunes</td>\n      <td>Verano</td>\n    </tr>\n    <tr>\n      <th>...</th>\n      <td>...</td>\n      <td>...</td>\n      <td>...</td>\n      <td>...</td>\n      <td>...</td>\n      <td>...</td>\n      <td>...</td>\n      <td>...</td>\n      <td>...</td>\n    </tr>\n    <tr>\n      <th>3113</th>\n      <td>2023-06-30</td>\n      <td>2</td>\n      <td>12:54</td>\n      <td>01</td>\n      <td>0</td>\n      <td>2.0</td>\n      <td>Junio</td>\n      <td>Viernes</td>\n      <td>Verano</td>\n    </tr>\n    <tr>\n      <th>3114</th>\n      <td>2023-07-01</td>\n      <td>3</td>\n      <td>12:54</td>\n      <td>01</td>\n      <td>0</td>\n      <td>2.0</td>\n      <td>Julio</td>\n      <td>Sábado</td>\n      <td>Verano</td>\n    </tr>\n    <tr>\n      <th>3115</th>\n      <td>2023-07-02</td>\n      <td>2</td>\n      <td>12:54</td>\n      <td>01</td>\n      <td>0</td>\n      <td>2.0</td>\n      <td>Julio</td>\n      <td>Domingo</td>\n      <td>Verano</td>\n    </tr>\n    <tr>\n      <th>3116</th>\n      <td>2023-07-03</td>\n      <td>4</td>\n      <td>12:54</td>\n      <td>01</td>\n      <td>0</td>\n      <td>2.0</td>\n      <td>Julio</td>\n      <td>Lunes</td>\n      <td>Verano</td>\n    </tr>\n    <tr>\n      <th>3117</th>\n      <td>2023-07-04</td>\n      <td>4</td>\n      <td>08:15</td>\n      <td>01</td>\n      <td>0</td>\n      <td>2.0</td>\n      <td>Julio</td>\n      <td>Martes</td>\n      <td>Verano</td>\n    </tr>\n  </tbody>\n</table>\n<p>3118 rows × 9 columns</p>\n</div>"
     },
     "execution_count": 54,
     "metadata": {},
     "output_type": "execute_result"
    }
   ],
   "source": [
    "new_df"
   ],
   "metadata": {
    "collapsed": false,
    "ExecuteTime": {
     "end_time": "2023-08-20T08:17:28.132339Z",
     "start_time": "2023-08-20T08:17:28.075513Z"
    }
   }
  },
  {
   "cell_type": "code",
   "execution_count": 55,
   "outputs": [],
   "source": [
    "# # Calcular la diferencia en horas entre accidentes consecutivos basados en la nueva frecuencia\n",
    "# new_df[\"Horas_Desde_Accidente_Anterior\"] = new_df.groupby(\"FE_OCURRENCIA\")[\"HORA_OCURRENCIA_PRO\"].diff()\n",
    "#\n",
    "# # new_df['Horas_Desde_Accidente_Anterior\"'] = new_df['Horas_Desde_Accidente_Anterior\"'].apply(lambda x: x.seconds // 3600)\n",
    "#\n",
    "# new_df['Horas_Desde_Accidente_Anterior']\n",
    "# # # Llenar los valores faltantes con 0, ya que no hay accidente anterior en esos casos\n",
    "# # new_df[\"Dias_Desde_Accidente_Anterior\"].fillna(0, inplace=True)"
   ],
   "metadata": {
    "collapsed": false,
    "ExecuteTime": {
     "end_time": "2023-08-20T08:17:28.918027Z",
     "start_time": "2023-08-20T08:17:28.902645Z"
    }
   }
  },
  {
   "cell_type": "code",
   "execution_count": 56,
   "outputs": [],
   "source": [
    "import requests\n",
    "\n",
    "country_code = \"DO\"  # Código de país para la República Dominicana\n",
    "years = range(2014, 2024)  # Años del 2014 al 2023\n",
    "\n",
    "# Definir la URL base de la API\n",
    "base_url = \"https://date.nager.at/api/v3/publicholidays/\"\n",
    "\n",
    "# Diccionario para almacenar los días festivos por año\n",
    "holidays_by_year = {}\n",
    "\n",
    "# Iterar a través de los años\n",
    "for year in years:\n",
    "    # Construir la URL para el año y país correspondiente\n",
    "    url = base_url + str(year) + \"/\" + country_code\n",
    "\n",
    "    # Realizar la solicitud GET a la API\n",
    "    response = requests.get(url)\n",
    "\n",
    "    # Analizar la respuesta JSON\n",
    "    data = response.json()\n",
    "\n",
    "    # Almacenar los días festivos en el diccionario\n",
    "    holidays_by_year[year] = data\n",
    "\n",
    "# # Imprimir el diccionario\n",
    "# for year, holidays in holidays_by_year.items():\n",
    "#     print(f\"Año {year}:\")\n",
    "#     for holiday in holidays:\n",
    "#         print(f\"  - {holiday['date']}: {holiday['name']}\")\n"
   ],
   "metadata": {
    "collapsed": false,
    "ExecuteTime": {
     "end_time": "2023-08-20T08:17:34.008616Z",
     "start_time": "2023-08-20T08:17:29.215844Z"
    }
   }
  },
  {
   "cell_type": "code",
   "execution_count": 57,
   "outputs": [
    {
     "data": {
      "text/plain": "[{'date': '2023-01-01',\n  'localName': \"New Year's Day\",\n  'name': \"New Year's Day\",\n  'countryCode': 'DO',\n  'fixed': True,\n  'global': True,\n  'counties': None,\n  'launchYear': None,\n  'types': ['Public']},\n {'date': '2023-01-06',\n  'localName': 'Dia de Reyes',\n  'name': 'Day of Kings',\n  'countryCode': 'DO',\n  'fixed': True,\n  'global': True,\n  'counties': None,\n  'launchYear': None,\n  'types': ['Public']},\n {'date': '2023-01-21',\n  'localName': 'Our Lady of Altagracia',\n  'name': 'Our Lady of Altagracia',\n  'countryCode': 'DO',\n  'fixed': True,\n  'global': True,\n  'counties': None,\n  'launchYear': None,\n  'types': ['Public']},\n {'date': '2023-01-26',\n  'localName': \"Duarte's Birthday\",\n  'name': \"Duarte's Birthday\",\n  'countryCode': 'DO',\n  'fixed': True,\n  'global': True,\n  'counties': None,\n  'launchYear': None,\n  'types': ['Public']},\n {'date': '2023-02-27',\n  'localName': 'Independence Day',\n  'name': 'Independence Day',\n  'countryCode': 'DO',\n  'fixed': True,\n  'global': True,\n  'counties': None,\n  'launchYear': None,\n  'types': ['Public']},\n {'date': '2023-04-07',\n  'localName': 'Good Friday',\n  'name': 'Good Friday',\n  'countryCode': 'DO',\n  'fixed': False,\n  'global': True,\n  'counties': None,\n  'launchYear': None,\n  'types': ['Public']},\n {'date': '2023-05-01',\n  'localName': 'Labour Day',\n  'name': 'Labour Day',\n  'countryCode': 'DO',\n  'fixed': True,\n  'global': True,\n  'counties': None,\n  'launchYear': None,\n  'types': ['Public']},\n {'date': '2023-05-28',\n  'localName': \"Mother's Day\",\n  'name': \"Mother's Day\",\n  'countryCode': 'DO',\n  'fixed': True,\n  'global': True,\n  'counties': None,\n  'launchYear': None,\n  'types': ['Public']},\n {'date': '2023-06-08',\n  'localName': 'Corpus Christi',\n  'name': 'Corpus Christi',\n  'countryCode': 'DO',\n  'fixed': False,\n  'global': True,\n  'counties': None,\n  'launchYear': None,\n  'types': ['Public']},\n {'date': '2023-08-16',\n  'localName': 'Restoration Day',\n  'name': 'Restoration Day',\n  'countryCode': 'DO',\n  'fixed': True,\n  'global': True,\n  'counties': None,\n  'launchYear': None,\n  'types': ['Public']},\n {'date': '2023-09-24',\n  'localName': 'Nuestra Senora de las Mercedes',\n  'name': 'Our Lady of Mercy',\n  'countryCode': 'DO',\n  'fixed': True,\n  'global': True,\n  'counties': None,\n  'launchYear': None,\n  'types': ['Public']},\n {'date': '2023-11-06',\n  'localName': 'Constitution Day',\n  'name': 'Constitution Day',\n  'countryCode': 'DO',\n  'fixed': True,\n  'global': True,\n  'counties': None,\n  'launchYear': None,\n  'types': ['Public']},\n {'date': '2023-12-25',\n  'localName': 'Christmas Day',\n  'name': 'Christmas Day',\n  'countryCode': 'DO',\n  'fixed': True,\n  'global': True,\n  'counties': None,\n  'launchYear': None,\n  'types': ['Public']}]"
     },
     "execution_count": 57,
     "metadata": {},
     "output_type": "execute_result"
    }
   ],
   "source": [
    "holidays_by_year[2023]"
   ],
   "metadata": {
    "collapsed": false,
    "ExecuteTime": {
     "end_time": "2023-08-20T08:17:34.039359Z",
     "start_time": "2023-08-20T08:17:33.988671Z"
    }
   }
  },
  {
   "cell_type": "code",
   "execution_count": 58,
   "outputs": [
    {
     "data": {
      "text/plain": "     FE_OCURRENCIA  FRECUENCIA HORA_OCURRENCIA CO_PROVINCIA  EXTRANJERO  \\\n0       2014-07-05           1           16:00           01           0   \n1       2014-07-08           1           10:30           01           0   \n2       2014-07-11           1           10:00           01           0   \n3       2014-07-12           1           22:00           01           0   \n4       2014-07-14           1           10:00           01           0   \n...            ...         ...             ...          ...         ...   \n3113    2023-06-30           2           12:54           01           0   \n3114    2023-07-01           3           12:54           01           0   \n3115    2023-07-02           2           12:54           01           0   \n3116    2023-07-03           4           12:54           01           0   \n3117    2023-07-04           4           08:15           01           0   \n\n      CAT_VEHICULO    MES DIA_SEMANA ESTACION_A  \n0              3.0  Julio     Sábado     Verano  \n1              2.0  Julio     Martes     Verano  \n2              4.0  Julio    Viernes     Verano  \n3              2.0  Julio     Sábado     Verano  \n4              5.0  Julio      Lunes     Verano  \n...            ...    ...        ...        ...  \n3113           2.0  Junio    Viernes     Verano  \n3114           2.0  Julio     Sábado     Verano  \n3115           2.0  Julio    Domingo     Verano  \n3116           2.0  Julio      Lunes     Verano  \n3117           2.0  Julio     Martes     Verano  \n\n[3118 rows x 9 columns]",
      "text/html": "<div>\n<style scoped>\n    .dataframe tbody tr th:only-of-type {\n        vertical-align: middle;\n    }\n\n    .dataframe tbody tr th {\n        vertical-align: top;\n    }\n\n    .dataframe thead th {\n        text-align: right;\n    }\n</style>\n<table border=\"1\" class=\"dataframe\">\n  <thead>\n    <tr style=\"text-align: right;\">\n      <th></th>\n      <th>FE_OCURRENCIA</th>\n      <th>FRECUENCIA</th>\n      <th>HORA_OCURRENCIA</th>\n      <th>CO_PROVINCIA</th>\n      <th>EXTRANJERO</th>\n      <th>CAT_VEHICULO</th>\n      <th>MES</th>\n      <th>DIA_SEMANA</th>\n      <th>ESTACION_A</th>\n    </tr>\n  </thead>\n  <tbody>\n    <tr>\n      <th>0</th>\n      <td>2014-07-05</td>\n      <td>1</td>\n      <td>16:00</td>\n      <td>01</td>\n      <td>0</td>\n      <td>3.0</td>\n      <td>Julio</td>\n      <td>Sábado</td>\n      <td>Verano</td>\n    </tr>\n    <tr>\n      <th>1</th>\n      <td>2014-07-08</td>\n      <td>1</td>\n      <td>10:30</td>\n      <td>01</td>\n      <td>0</td>\n      <td>2.0</td>\n      <td>Julio</td>\n      <td>Martes</td>\n      <td>Verano</td>\n    </tr>\n    <tr>\n      <th>2</th>\n      <td>2014-07-11</td>\n      <td>1</td>\n      <td>10:00</td>\n      <td>01</td>\n      <td>0</td>\n      <td>4.0</td>\n      <td>Julio</td>\n      <td>Viernes</td>\n      <td>Verano</td>\n    </tr>\n    <tr>\n      <th>3</th>\n      <td>2014-07-12</td>\n      <td>1</td>\n      <td>22:00</td>\n      <td>01</td>\n      <td>0</td>\n      <td>2.0</td>\n      <td>Julio</td>\n      <td>Sábado</td>\n      <td>Verano</td>\n    </tr>\n    <tr>\n      <th>4</th>\n      <td>2014-07-14</td>\n      <td>1</td>\n      <td>10:00</td>\n      <td>01</td>\n      <td>0</td>\n      <td>5.0</td>\n      <td>Julio</td>\n      <td>Lunes</td>\n      <td>Verano</td>\n    </tr>\n    <tr>\n      <th>...</th>\n      <td>...</td>\n      <td>...</td>\n      <td>...</td>\n      <td>...</td>\n      <td>...</td>\n      <td>...</td>\n      <td>...</td>\n      <td>...</td>\n      <td>...</td>\n    </tr>\n    <tr>\n      <th>3113</th>\n      <td>2023-06-30</td>\n      <td>2</td>\n      <td>12:54</td>\n      <td>01</td>\n      <td>0</td>\n      <td>2.0</td>\n      <td>Junio</td>\n      <td>Viernes</td>\n      <td>Verano</td>\n    </tr>\n    <tr>\n      <th>3114</th>\n      <td>2023-07-01</td>\n      <td>3</td>\n      <td>12:54</td>\n      <td>01</td>\n      <td>0</td>\n      <td>2.0</td>\n      <td>Julio</td>\n      <td>Sábado</td>\n      <td>Verano</td>\n    </tr>\n    <tr>\n      <th>3115</th>\n      <td>2023-07-02</td>\n      <td>2</td>\n      <td>12:54</td>\n      <td>01</td>\n      <td>0</td>\n      <td>2.0</td>\n      <td>Julio</td>\n      <td>Domingo</td>\n      <td>Verano</td>\n    </tr>\n    <tr>\n      <th>3116</th>\n      <td>2023-07-03</td>\n      <td>4</td>\n      <td>12:54</td>\n      <td>01</td>\n      <td>0</td>\n      <td>2.0</td>\n      <td>Julio</td>\n      <td>Lunes</td>\n      <td>Verano</td>\n    </tr>\n    <tr>\n      <th>3117</th>\n      <td>2023-07-04</td>\n      <td>4</td>\n      <td>08:15</td>\n      <td>01</td>\n      <td>0</td>\n      <td>2.0</td>\n      <td>Julio</td>\n      <td>Martes</td>\n      <td>Verano</td>\n    </tr>\n  </tbody>\n</table>\n<p>3118 rows × 9 columns</p>\n</div>"
     },
     "execution_count": 58,
     "metadata": {},
     "output_type": "execute_result"
    }
   ],
   "source": [
    "new_df"
   ],
   "metadata": {
    "collapsed": false,
    "ExecuteTime": {
     "end_time": "2023-08-20T08:17:34.041337Z",
     "start_time": "2023-08-20T08:17:34.009416Z"
    }
   }
  },
  {
   "cell_type": "code",
   "execution_count": 59,
   "outputs": [
    {
     "data": {
      "text/plain": "[{'date': '2023-01-01',\n  'localName': \"New Year's Day\",\n  'name': \"New Year's Day\",\n  'countryCode': 'DO',\n  'fixed': True,\n  'global': True,\n  'counties': None,\n  'launchYear': None,\n  'types': ['Public']},\n {'date': '2023-01-06',\n  'localName': 'Dia de Reyes',\n  'name': 'Day of Kings',\n  'countryCode': 'DO',\n  'fixed': True,\n  'global': True,\n  'counties': None,\n  'launchYear': None,\n  'types': ['Public']},\n {'date': '2023-01-21',\n  'localName': 'Our Lady of Altagracia',\n  'name': 'Our Lady of Altagracia',\n  'countryCode': 'DO',\n  'fixed': True,\n  'global': True,\n  'counties': None,\n  'launchYear': None,\n  'types': ['Public']},\n {'date': '2023-01-26',\n  'localName': \"Duarte's Birthday\",\n  'name': \"Duarte's Birthday\",\n  'countryCode': 'DO',\n  'fixed': True,\n  'global': True,\n  'counties': None,\n  'launchYear': None,\n  'types': ['Public']},\n {'date': '2023-02-27',\n  'localName': 'Independence Day',\n  'name': 'Independence Day',\n  'countryCode': 'DO',\n  'fixed': True,\n  'global': True,\n  'counties': None,\n  'launchYear': None,\n  'types': ['Public']},\n {'date': '2023-04-07',\n  'localName': 'Good Friday',\n  'name': 'Good Friday',\n  'countryCode': 'DO',\n  'fixed': False,\n  'global': True,\n  'counties': None,\n  'launchYear': None,\n  'types': ['Public']},\n {'date': '2023-05-01',\n  'localName': 'Labour Day',\n  'name': 'Labour Day',\n  'countryCode': 'DO',\n  'fixed': True,\n  'global': True,\n  'counties': None,\n  'launchYear': None,\n  'types': ['Public']},\n {'date': '2023-05-28',\n  'localName': \"Mother's Day\",\n  'name': \"Mother's Day\",\n  'countryCode': 'DO',\n  'fixed': True,\n  'global': True,\n  'counties': None,\n  'launchYear': None,\n  'types': ['Public']},\n {'date': '2023-06-08',\n  'localName': 'Corpus Christi',\n  'name': 'Corpus Christi',\n  'countryCode': 'DO',\n  'fixed': False,\n  'global': True,\n  'counties': None,\n  'launchYear': None,\n  'types': ['Public']},\n {'date': '2023-08-16',\n  'localName': 'Restoration Day',\n  'name': 'Restoration Day',\n  'countryCode': 'DO',\n  'fixed': True,\n  'global': True,\n  'counties': None,\n  'launchYear': None,\n  'types': ['Public']},\n {'date': '2023-09-24',\n  'localName': 'Nuestra Senora de las Mercedes',\n  'name': 'Our Lady of Mercy',\n  'countryCode': 'DO',\n  'fixed': True,\n  'global': True,\n  'counties': None,\n  'launchYear': None,\n  'types': ['Public']},\n {'date': '2023-11-06',\n  'localName': 'Constitution Day',\n  'name': 'Constitution Day',\n  'countryCode': 'DO',\n  'fixed': True,\n  'global': True,\n  'counties': None,\n  'launchYear': None,\n  'types': ['Public']},\n {'date': '2023-12-25',\n  'localName': 'Christmas Day',\n  'name': 'Christmas Day',\n  'countryCode': 'DO',\n  'fixed': True,\n  'global': True,\n  'counties': None,\n  'launchYear': None,\n  'types': ['Public']}]"
     },
     "execution_count": 59,
     "metadata": {},
     "output_type": "execute_result"
    }
   ],
   "source": [
    "holidays_by_year[2023]"
   ],
   "metadata": {
    "collapsed": false,
    "ExecuteTime": {
     "end_time": "2023-08-20T08:17:34.041815Z",
     "start_time": "2023-08-20T08:17:34.021241Z"
    }
   }
  },
  {
   "cell_type": "code",
   "execution_count": 60,
   "outputs": [],
   "source": [
    "# Asegurarse de que la columna \"FE_OCURRENCIA\" esté en formato de fecha\n",
    "new_df[\"FE_OCURRENCIA\"] = pd.to_datetime(new_df[\"FE_OCURRENCIA\"])\n",
    "\n",
    "# Iterar a través de los elementos del DataFrame\n",
    "for index, row in new_df.iterrows():\n",
    "    fecha = row[\"FE_OCURRENCIA\"]\n",
    "    year = fecha.year\n",
    "\n",
    "    # Verificar si el año tiene días festivos en el diccionario holidays_by_year\n",
    "    if year in holidays_by_year:\n",
    "        holidays = holidays_by_year[year]\n",
    "\n",
    "        # Verificar si la fecha está en la lista de días festivos para ese año\n",
    "        is_holiday = any(holiday[\"date\"] == fecha.strftime(\"%Y-%m-%d\") for holiday in holidays)\n",
    "        new_df.at[index, \"FERIADO\"] = is_holiday\n",
    "    else:\n",
    "        new_df.at[index, \"FERIADO\"] = False"
   ],
   "metadata": {
    "collapsed": false,
    "ExecuteTime": {
     "end_time": "2023-08-20T08:17:34.579092Z",
     "start_time": "2023-08-20T08:17:34.030749Z"
    }
   }
  },
  {
   "cell_type": "code",
   "execution_count": 61,
   "outputs": [
    {
     "data": {
      "text/plain": "     FE_OCURRENCIA  FRECUENCIA HORA_OCURRENCIA CO_PROVINCIA  EXTRANJERO  \\\n0       2014-07-05           1           16:00           01           0   \n1       2014-07-08           1           10:30           01           0   \n2       2014-07-11           1           10:00           01           0   \n3       2014-07-12           1           22:00           01           0   \n4       2014-07-14           1           10:00           01           0   \n...            ...         ...             ...          ...         ...   \n3113    2023-06-30           2           12:54           01           0   \n3114    2023-07-01           3           12:54           01           0   \n3115    2023-07-02           2           12:54           01           0   \n3116    2023-07-03           4           12:54           01           0   \n3117    2023-07-04           4           08:15           01           0   \n\n      CAT_VEHICULO    MES DIA_SEMANA ESTACION_A FERIADO  \n0              3.0  Julio     Sábado     Verano   False  \n1              2.0  Julio     Martes     Verano   False  \n2              4.0  Julio    Viernes     Verano   False  \n3              2.0  Julio     Sábado     Verano   False  \n4              5.0  Julio      Lunes     Verano   False  \n...            ...    ...        ...        ...     ...  \n3113           2.0  Junio    Viernes     Verano   False  \n3114           2.0  Julio     Sábado     Verano   False  \n3115           2.0  Julio    Domingo     Verano   False  \n3116           2.0  Julio      Lunes     Verano   False  \n3117           2.0  Julio     Martes     Verano   False  \n\n[3118 rows x 10 columns]",
      "text/html": "<div>\n<style scoped>\n    .dataframe tbody tr th:only-of-type {\n        vertical-align: middle;\n    }\n\n    .dataframe tbody tr th {\n        vertical-align: top;\n    }\n\n    .dataframe thead th {\n        text-align: right;\n    }\n</style>\n<table border=\"1\" class=\"dataframe\">\n  <thead>\n    <tr style=\"text-align: right;\">\n      <th></th>\n      <th>FE_OCURRENCIA</th>\n      <th>FRECUENCIA</th>\n      <th>HORA_OCURRENCIA</th>\n      <th>CO_PROVINCIA</th>\n      <th>EXTRANJERO</th>\n      <th>CAT_VEHICULO</th>\n      <th>MES</th>\n      <th>DIA_SEMANA</th>\n      <th>ESTACION_A</th>\n      <th>FERIADO</th>\n    </tr>\n  </thead>\n  <tbody>\n    <tr>\n      <th>0</th>\n      <td>2014-07-05</td>\n      <td>1</td>\n      <td>16:00</td>\n      <td>01</td>\n      <td>0</td>\n      <td>3.0</td>\n      <td>Julio</td>\n      <td>Sábado</td>\n      <td>Verano</td>\n      <td>False</td>\n    </tr>\n    <tr>\n      <th>1</th>\n      <td>2014-07-08</td>\n      <td>1</td>\n      <td>10:30</td>\n      <td>01</td>\n      <td>0</td>\n      <td>2.0</td>\n      <td>Julio</td>\n      <td>Martes</td>\n      <td>Verano</td>\n      <td>False</td>\n    </tr>\n    <tr>\n      <th>2</th>\n      <td>2014-07-11</td>\n      <td>1</td>\n      <td>10:00</td>\n      <td>01</td>\n      <td>0</td>\n      <td>4.0</td>\n      <td>Julio</td>\n      <td>Viernes</td>\n      <td>Verano</td>\n      <td>False</td>\n    </tr>\n    <tr>\n      <th>3</th>\n      <td>2014-07-12</td>\n      <td>1</td>\n      <td>22:00</td>\n      <td>01</td>\n      <td>0</td>\n      <td>2.0</td>\n      <td>Julio</td>\n      <td>Sábado</td>\n      <td>Verano</td>\n      <td>False</td>\n    </tr>\n    <tr>\n      <th>4</th>\n      <td>2014-07-14</td>\n      <td>1</td>\n      <td>10:00</td>\n      <td>01</td>\n      <td>0</td>\n      <td>5.0</td>\n      <td>Julio</td>\n      <td>Lunes</td>\n      <td>Verano</td>\n      <td>False</td>\n    </tr>\n    <tr>\n      <th>...</th>\n      <td>...</td>\n      <td>...</td>\n      <td>...</td>\n      <td>...</td>\n      <td>...</td>\n      <td>...</td>\n      <td>...</td>\n      <td>...</td>\n      <td>...</td>\n      <td>...</td>\n    </tr>\n    <tr>\n      <th>3113</th>\n      <td>2023-06-30</td>\n      <td>2</td>\n      <td>12:54</td>\n      <td>01</td>\n      <td>0</td>\n      <td>2.0</td>\n      <td>Junio</td>\n      <td>Viernes</td>\n      <td>Verano</td>\n      <td>False</td>\n    </tr>\n    <tr>\n      <th>3114</th>\n      <td>2023-07-01</td>\n      <td>3</td>\n      <td>12:54</td>\n      <td>01</td>\n      <td>0</td>\n      <td>2.0</td>\n      <td>Julio</td>\n      <td>Sábado</td>\n      <td>Verano</td>\n      <td>False</td>\n    </tr>\n    <tr>\n      <th>3115</th>\n      <td>2023-07-02</td>\n      <td>2</td>\n      <td>12:54</td>\n      <td>01</td>\n      <td>0</td>\n      <td>2.0</td>\n      <td>Julio</td>\n      <td>Domingo</td>\n      <td>Verano</td>\n      <td>False</td>\n    </tr>\n    <tr>\n      <th>3116</th>\n      <td>2023-07-03</td>\n      <td>4</td>\n      <td>12:54</td>\n      <td>01</td>\n      <td>0</td>\n      <td>2.0</td>\n      <td>Julio</td>\n      <td>Lunes</td>\n      <td>Verano</td>\n      <td>False</td>\n    </tr>\n    <tr>\n      <th>3117</th>\n      <td>2023-07-04</td>\n      <td>4</td>\n      <td>08:15</td>\n      <td>01</td>\n      <td>0</td>\n      <td>2.0</td>\n      <td>Julio</td>\n      <td>Martes</td>\n      <td>Verano</td>\n      <td>False</td>\n    </tr>\n  </tbody>\n</table>\n<p>3118 rows × 10 columns</p>\n</div>"
     },
     "execution_count": 61,
     "metadata": {},
     "output_type": "execute_result"
    }
   ],
   "source": [
    "new_df"
   ],
   "metadata": {
    "collapsed": false,
    "ExecuteTime": {
     "end_time": "2023-08-20T08:17:34.601627Z",
     "start_time": "2023-08-20T08:17:34.592892Z"
    }
   }
  },
  {
   "cell_type": "code",
   "execution_count": 62,
   "outputs": [
    {
     "data": {
      "text/plain": "False    3009\nTrue      109\nName: FERIADO, dtype: int64"
     },
     "execution_count": 62,
     "metadata": {},
     "output_type": "execute_result"
    }
   ],
   "source": [
    "new_df['FERIADO'].value_counts()"
   ],
   "metadata": {
    "collapsed": false,
    "ExecuteTime": {
     "end_time": "2023-08-20T08:17:34.639017Z",
     "start_time": "2023-08-20T08:17:34.603192Z"
    }
   }
  },
  {
   "cell_type": "code",
   "execution_count": 63,
   "outputs": [
    {
     "name": "stdout",
     "output_type": "stream",
     "text": [
      "<class 'pandas.core.frame.DataFrame'>\n",
      "Int64Index: 3118 entries, 0 to 3117\n",
      "Data columns (total 10 columns):\n",
      " #   Column           Non-Null Count  Dtype         \n",
      "---  ------           --------------  -----         \n",
      " 0   FE_OCURRENCIA    3118 non-null   datetime64[ns]\n",
      " 1   FRECUENCIA       3118 non-null   int64         \n",
      " 2   HORA_OCURRENCIA  3118 non-null   object        \n",
      " 3   CO_PROVINCIA     3118 non-null   object        \n",
      " 4   EXTRANJERO       3118 non-null   int64         \n",
      " 5   CAT_VEHICULO     3118 non-null   float64       \n",
      " 6   MES              3118 non-null   object        \n",
      " 7   DIA_SEMANA       3118 non-null   object        \n",
      " 8   ESTACION_A       3118 non-null   object        \n",
      " 9   FERIADO          3118 non-null   object        \n",
      "dtypes: datetime64[ns](1), float64(1), int64(2), object(6)\n",
      "memory usage: 332.5+ KB\n"
     ]
    }
   ],
   "source": [
    "new_df.info()"
   ],
   "metadata": {
    "collapsed": false,
    "ExecuteTime": {
     "end_time": "2023-08-20T08:17:35.095970Z",
     "start_time": "2023-08-20T08:17:34.963296Z"
    }
   }
  },
  {
   "cell_type": "code",
   "execution_count": 64,
   "outputs": [],
   "source": [
    "new_df['NIVEL'] = new_df['FRECUENCIA'].apply(\n",
    "    lambda x: \"bajo\" if x < 3 else (\"moderado\" if 3 <= x <= 5 else \"alto\")\n",
    ")"
   ],
   "metadata": {
    "collapsed": false,
    "ExecuteTime": {
     "end_time": "2023-08-20T08:17:36.255304Z",
     "start_time": "2023-08-20T08:17:36.238678Z"
    }
   }
  },
  {
   "cell_type": "code",
   "execution_count": 65,
   "outputs": [
    {
     "data": {
      "text/plain": "     FE_OCURRENCIA  FRECUENCIA HORA_OCURRENCIA CO_PROVINCIA  EXTRANJERO  \\\n0       2014-07-05           1           16:00           01           0   \n1       2014-07-08           1           10:30           01           0   \n2       2014-07-11           1           10:00           01           0   \n3       2014-07-12           1           22:00           01           0   \n4       2014-07-14           1           10:00           01           0   \n...            ...         ...             ...          ...         ...   \n3113    2023-06-30           2           12:54           01           0   \n3114    2023-07-01           3           12:54           01           0   \n3115    2023-07-02           2           12:54           01           0   \n3116    2023-07-03           4           12:54           01           0   \n3117    2023-07-04           4           08:15           01           0   \n\n      CAT_VEHICULO    MES DIA_SEMANA ESTACION_A FERIADO     NIVEL  \n0              3.0  Julio     Sábado     Verano   False      bajo  \n1              2.0  Julio     Martes     Verano   False      bajo  \n2              4.0  Julio    Viernes     Verano   False      bajo  \n3              2.0  Julio     Sábado     Verano   False      bajo  \n4              5.0  Julio      Lunes     Verano   False      bajo  \n...            ...    ...        ...        ...     ...       ...  \n3113           2.0  Junio    Viernes     Verano   False      bajo  \n3114           2.0  Julio     Sábado     Verano   False  moderado  \n3115           2.0  Julio    Domingo     Verano   False      bajo  \n3116           2.0  Julio      Lunes     Verano   False  moderado  \n3117           2.0  Julio     Martes     Verano   False  moderado  \n\n[3118 rows x 11 columns]",
      "text/html": "<div>\n<style scoped>\n    .dataframe tbody tr th:only-of-type {\n        vertical-align: middle;\n    }\n\n    .dataframe tbody tr th {\n        vertical-align: top;\n    }\n\n    .dataframe thead th {\n        text-align: right;\n    }\n</style>\n<table border=\"1\" class=\"dataframe\">\n  <thead>\n    <tr style=\"text-align: right;\">\n      <th></th>\n      <th>FE_OCURRENCIA</th>\n      <th>FRECUENCIA</th>\n      <th>HORA_OCURRENCIA</th>\n      <th>CO_PROVINCIA</th>\n      <th>EXTRANJERO</th>\n      <th>CAT_VEHICULO</th>\n      <th>MES</th>\n      <th>DIA_SEMANA</th>\n      <th>ESTACION_A</th>\n      <th>FERIADO</th>\n      <th>NIVEL</th>\n    </tr>\n  </thead>\n  <tbody>\n    <tr>\n      <th>0</th>\n      <td>2014-07-05</td>\n      <td>1</td>\n      <td>16:00</td>\n      <td>01</td>\n      <td>0</td>\n      <td>3.0</td>\n      <td>Julio</td>\n      <td>Sábado</td>\n      <td>Verano</td>\n      <td>False</td>\n      <td>bajo</td>\n    </tr>\n    <tr>\n      <th>1</th>\n      <td>2014-07-08</td>\n      <td>1</td>\n      <td>10:30</td>\n      <td>01</td>\n      <td>0</td>\n      <td>2.0</td>\n      <td>Julio</td>\n      <td>Martes</td>\n      <td>Verano</td>\n      <td>False</td>\n      <td>bajo</td>\n    </tr>\n    <tr>\n      <th>2</th>\n      <td>2014-07-11</td>\n      <td>1</td>\n      <td>10:00</td>\n      <td>01</td>\n      <td>0</td>\n      <td>4.0</td>\n      <td>Julio</td>\n      <td>Viernes</td>\n      <td>Verano</td>\n      <td>False</td>\n      <td>bajo</td>\n    </tr>\n    <tr>\n      <th>3</th>\n      <td>2014-07-12</td>\n      <td>1</td>\n      <td>22:00</td>\n      <td>01</td>\n      <td>0</td>\n      <td>2.0</td>\n      <td>Julio</td>\n      <td>Sábado</td>\n      <td>Verano</td>\n      <td>False</td>\n      <td>bajo</td>\n    </tr>\n    <tr>\n      <th>4</th>\n      <td>2014-07-14</td>\n      <td>1</td>\n      <td>10:00</td>\n      <td>01</td>\n      <td>0</td>\n      <td>5.0</td>\n      <td>Julio</td>\n      <td>Lunes</td>\n      <td>Verano</td>\n      <td>False</td>\n      <td>bajo</td>\n    </tr>\n    <tr>\n      <th>...</th>\n      <td>...</td>\n      <td>...</td>\n      <td>...</td>\n      <td>...</td>\n      <td>...</td>\n      <td>...</td>\n      <td>...</td>\n      <td>...</td>\n      <td>...</td>\n      <td>...</td>\n      <td>...</td>\n    </tr>\n    <tr>\n      <th>3113</th>\n      <td>2023-06-30</td>\n      <td>2</td>\n      <td>12:54</td>\n      <td>01</td>\n      <td>0</td>\n      <td>2.0</td>\n      <td>Junio</td>\n      <td>Viernes</td>\n      <td>Verano</td>\n      <td>False</td>\n      <td>bajo</td>\n    </tr>\n    <tr>\n      <th>3114</th>\n      <td>2023-07-01</td>\n      <td>3</td>\n      <td>12:54</td>\n      <td>01</td>\n      <td>0</td>\n      <td>2.0</td>\n      <td>Julio</td>\n      <td>Sábado</td>\n      <td>Verano</td>\n      <td>False</td>\n      <td>moderado</td>\n    </tr>\n    <tr>\n      <th>3115</th>\n      <td>2023-07-02</td>\n      <td>2</td>\n      <td>12:54</td>\n      <td>01</td>\n      <td>0</td>\n      <td>2.0</td>\n      <td>Julio</td>\n      <td>Domingo</td>\n      <td>Verano</td>\n      <td>False</td>\n      <td>bajo</td>\n    </tr>\n    <tr>\n      <th>3116</th>\n      <td>2023-07-03</td>\n      <td>4</td>\n      <td>12:54</td>\n      <td>01</td>\n      <td>0</td>\n      <td>2.0</td>\n      <td>Julio</td>\n      <td>Lunes</td>\n      <td>Verano</td>\n      <td>False</td>\n      <td>moderado</td>\n    </tr>\n    <tr>\n      <th>3117</th>\n      <td>2023-07-04</td>\n      <td>4</td>\n      <td>08:15</td>\n      <td>01</td>\n      <td>0</td>\n      <td>2.0</td>\n      <td>Julio</td>\n      <td>Martes</td>\n      <td>Verano</td>\n      <td>False</td>\n      <td>moderado</td>\n    </tr>\n  </tbody>\n</table>\n<p>3118 rows × 11 columns</p>\n</div>"
     },
     "execution_count": 65,
     "metadata": {},
     "output_type": "execute_result"
    }
   ],
   "source": [
    "new_df"
   ],
   "metadata": {
    "collapsed": false,
    "ExecuteTime": {
     "end_time": "2023-08-20T08:17:36.801594Z",
     "start_time": "2023-08-20T08:17:36.773469Z"
    }
   }
  },
  {
   "cell_type": "code",
   "execution_count": 66,
   "outputs": [],
   "source": [
    "new_df.to_csv(DATA_PATH + '/pre-processed/data.csv', index=False)"
   ],
   "metadata": {
    "collapsed": false,
    "ExecuteTime": {
     "end_time": "2023-08-20T08:17:38.552221Z",
     "start_time": "2023-08-20T08:17:38.508002Z"
    }
   }
  },
  {
   "cell_type": "code",
   "execution_count": null,
   "outputs": [],
   "source": [],
   "metadata": {
    "collapsed": false
   }
  }
 ],
 "metadata": {
  "kernelspec": {
   "display_name": "Python 3",
   "language": "python",
   "name": "python3"
  },
  "language_info": {
   "codemirror_mode": {
    "name": "ipython",
    "version": 2
   },
   "file_extension": ".py",
   "mimetype": "text/x-python",
   "name": "python",
   "nbconvert_exporter": "python",
   "pygments_lexer": "ipython2",
   "version": "2.7.6"
  }
 },
 "nbformat": 4,
 "nbformat_minor": 0
}
